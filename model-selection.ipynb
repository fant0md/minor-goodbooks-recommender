{
 "cells": [
  {
   "cell_type": "markdown",
   "metadata": {
    "id": "27bSxgcVgnIM"
   },
   "source": [
    "# import"
   ]
  },
  {
   "cell_type": "code",
   "execution_count": 206,
   "metadata": {
    "colab": {
     "base_uri": "https://localhost:8080/",
     "height": 402
    },
    "executionInfo": {
     "elapsed": 48833,
     "status": "ok",
     "timestamp": 1618925847144,
     "user": {
      "displayName": "Yuriy Sosnin",
      "photoUrl": "",
      "userId": "11943109303922880437"
     },
     "user_tz": -180
    },
    "id": "pk4AFFwoYGzr",
    "outputId": "2a497b71-94c2-4fc1-d72a-6ebbe1cd34b9"
   },
   "outputs": [
    {
     "data": {
      "text/html": [
       "<div>\n",
       "<style scoped>\n",
       "    .dataframe tbody tr th:only-of-type {\n",
       "        vertical-align: middle;\n",
       "    }\n",
       "\n",
       "    .dataframe tbody tr th {\n",
       "        vertical-align: top;\n",
       "    }\n",
       "\n",
       "    .dataframe thead th {\n",
       "        text-align: right;\n",
       "    }\n",
       "</style>\n",
       "<table border=\"1\" class=\"dataframe\">\n",
       "  <thead>\n",
       "    <tr style=\"text-align: right;\">\n",
       "      <th></th>\n",
       "      <th>user_id</th>\n",
       "      <th>book_id</th>\n",
       "      <th>rating</th>\n",
       "    </tr>\n",
       "  </thead>\n",
       "  <tbody>\n",
       "    <tr>\n",
       "      <th>0</th>\n",
       "      <td>1</td>\n",
       "      <td>258</td>\n",
       "      <td>5</td>\n",
       "    </tr>\n",
       "    <tr>\n",
       "      <th>1</th>\n",
       "      <td>2</td>\n",
       "      <td>4081</td>\n",
       "      <td>4</td>\n",
       "    </tr>\n",
       "    <tr>\n",
       "      <th>2</th>\n",
       "      <td>2</td>\n",
       "      <td>260</td>\n",
       "      <td>5</td>\n",
       "    </tr>\n",
       "    <tr>\n",
       "      <th>3</th>\n",
       "      <td>2</td>\n",
       "      <td>9296</td>\n",
       "      <td>5</td>\n",
       "    </tr>\n",
       "    <tr>\n",
       "      <th>4</th>\n",
       "      <td>2</td>\n",
       "      <td>2318</td>\n",
       "      <td>3</td>\n",
       "    </tr>\n",
       "    <tr>\n",
       "      <th>...</th>\n",
       "      <td>...</td>\n",
       "      <td>...</td>\n",
       "      <td>...</td>\n",
       "    </tr>\n",
       "    <tr>\n",
       "      <th>5976474</th>\n",
       "      <td>49925</td>\n",
       "      <td>510</td>\n",
       "      <td>5</td>\n",
       "    </tr>\n",
       "    <tr>\n",
       "      <th>5976475</th>\n",
       "      <td>49925</td>\n",
       "      <td>528</td>\n",
       "      <td>4</td>\n",
       "    </tr>\n",
       "    <tr>\n",
       "      <th>5976476</th>\n",
       "      <td>49925</td>\n",
       "      <td>722</td>\n",
       "      <td>4</td>\n",
       "    </tr>\n",
       "    <tr>\n",
       "      <th>5976477</th>\n",
       "      <td>49925</td>\n",
       "      <td>949</td>\n",
       "      <td>5</td>\n",
       "    </tr>\n",
       "    <tr>\n",
       "      <th>5976478</th>\n",
       "      <td>49925</td>\n",
       "      <td>1023</td>\n",
       "      <td>4</td>\n",
       "    </tr>\n",
       "  </tbody>\n",
       "</table>\n",
       "<p>5976479 rows × 3 columns</p>\n",
       "</div>"
      ],
      "text/plain": [
       "         user_id  book_id  rating\n",
       "0              1      258       5\n",
       "1              2     4081       4\n",
       "2              2      260       5\n",
       "3              2     9296       5\n",
       "4              2     2318       3\n",
       "...          ...      ...     ...\n",
       "5976474    49925      510       5\n",
       "5976475    49925      528       4\n",
       "5976476    49925      722       4\n",
       "5976477    49925      949       5\n",
       "5976478    49925     1023       4\n",
       "\n",
       "[5976479 rows x 3 columns]"
      ]
     },
     "execution_count": 206,
     "metadata": {},
     "output_type": "execute_result"
    }
   ],
   "source": [
    "ratings = pd.read_csv('data/ratings.csv')\n",
    "ratings_random = pd.read.csv('data/ratings_random.csv')\n",
    "ratings"
   ]
  },
  {
   "cell_type": "code",
   "execution_count": 118,
   "metadata": {
    "executionInfo": {
     "elapsed": 663,
     "status": "ok",
     "timestamp": 1618929851447,
     "user": {
      "displayName": "Yuriy Sosnin",
      "photoUrl": "",
      "userId": "11943109303922880437"
     },
     "user_tz": -180
    },
    "id": "4JTcGAQSkzM6"
   },
   "outputs": [],
   "source": [
    "ratings_train, ratings_test = train_test_split(ratings_random, test_size=0.2, random_state=322)"
   ]
  },
  {
   "cell_type": "markdown",
   "metadata": {
    "id": "PTIaVSlWbULV"
   },
   "source": [
    "# surprise"
   ]
  },
  {
   "cell_type": "code",
   "execution_count": 12,
   "metadata": {
    "colab": {
     "base_uri": "https://localhost:8080/"
    },
    "executionInfo": {
     "elapsed": 184924,
     "status": "ok",
     "timestamp": 1618925983308,
     "user": {
      "displayName": "Yuriy Sosnin",
      "photoUrl": "",
      "userId": "11943109303922880437"
     },
     "user_tz": -180
    },
    "id": "Uq4dVmvFgNff",
    "outputId": "75e6d0fa-1cca-4f19-f9f8-d3f9c11483ce"
   },
   "outputs": [
    {
     "name": "stdout",
     "output_type": "stream",
     "text": [
      "/content/drive/My Drive/Packages\n",
      "/content/drive/My Drive/GitHub/minor-goodbooks-recommender\n"
     ]
    }
   ],
   "source": [
    "from surprise import Reader, Dataset\n",
    "from surprise.model_selection import KFold, GridSearchCV\n",
    "from surprise import accuracy\n",
    "from surprise.model_selection.validation import cross_validate\n",
    "from surprise import NormalPredictor, KNNWithMeans, KNNWithZScore, SVD, SVDpp"
   ]
  },
  {
   "cell_type": "code",
   "execution_count": 13,
   "metadata": {
    "executionInfo": {
     "elapsed": 185277,
     "status": "ok",
     "timestamp": 1618925983663,
     "user": {
      "displayName": "Yuriy Sosnin",
      "photoUrl": "",
      "userId": "11943109303922880437"
     },
     "user_tz": -180
    },
    "id": "u5Qn9to8xfMs"
   },
   "outputs": [],
   "source": [
    "reader = Reader(rating_scale=(1, 5))\n",
    "data = Dataset.load_from_df(ratings_random, reader)"
   ]
  },
  {
   "cell_type": "code",
   "execution_count": 14,
   "metadata": {
    "executionInfo": {
     "elapsed": 185735,
     "status": "ok",
     "timestamp": 1618925984123,
     "user": {
      "displayName": "Yuriy Sosnin",
      "photoUrl": "",
      "userId": "11943109303922880437"
     },
     "user_tz": -180
    },
    "id": "h0Jx2uGvaft1"
   },
   "outputs": [],
   "source": [
    "data_train, data_test = Dataset.load_from_df(ratings_train, reader).build_full_trainset(), Dataset.load_from_df(ratings_test, reader)"
   ]
  },
  {
   "cell_type": "code",
   "execution_count": 15,
   "metadata": {
    "executionInfo": {
     "elapsed": 186646,
     "status": "ok",
     "timestamp": 1618925985036,
     "user": {
      "displayName": "Yuriy Sosnin",
      "photoUrl": "",
      "userId": "11943109303922880437"
     },
     "user_tz": -180
    },
    "id": "xLJ6UphgykSt"
   },
   "outputs": [],
   "source": [
    "data_full = Dataset.load_from_df(ratings_random, reader).build_full_trainset()"
   ]
  },
  {
   "cell_type": "code",
   "execution_count": 16,
   "metadata": {
    "executionInfo": {
     "elapsed": 186647,
     "status": "ok",
     "timestamp": 1618925985038,
     "user": {
      "displayName": "Yuriy Sosnin",
      "photoUrl": "",
      "userId": "11943109303922880437"
     },
     "user_tz": -180
    },
    "id": "M2-zZZGBgP-u"
   },
   "outputs": [],
   "source": [
    "#from surprise.model_selection.split import train_test_split as surprise_train_test_split\n",
    "#data_train, data_test = surprise_train_test_split(data)"
   ]
  },
  {
   "cell_type": "code",
   "execution_count": 17,
   "metadata": {
    "executionInfo": {
     "elapsed": 584,
     "status": "ok",
     "timestamp": 1618925985634,
     "user": {
      "displayName": "Yuriy Sosnin",
      "photoUrl": "",
      "userId": "11943109303922880437"
     },
     "user_tz": -180
    },
    "id": "aU_Jfpc3pkqD"
   },
   "outputs": [],
   "source": [
    "kf = KFold(n_splits=5, random_state=322)"
   ]
  },
  {
   "cell_type": "code",
   "execution_count": 18,
   "metadata": {
    "executionInfo": {
     "elapsed": 575,
     "status": "ok",
     "timestamp": 1618925985636,
     "user": {
      "displayName": "Yuriy Sosnin",
      "photoUrl": "",
      "userId": "11943109303922880437"
     },
     "user_tz": -180
    },
    "id": "NZytxBdtaOTf"
   },
   "outputs": [],
   "source": [
    "def cross_val_score(estimator, X, scoring=None, cv=None):\n",
    "    cvres_random = cross_validate(estimator, X, cv=cv, measures=[scoring])\n",
    "    return cvres_random[f'test_{scoring}']"
   ]
  },
  {
   "cell_type": "code",
   "execution_count": null,
   "metadata": {
    "colab": {
     "base_uri": "https://localhost:8080/"
    },
    "executionInfo": {
     "elapsed": 9929,
     "status": "ok",
     "timestamp": 1618911931354,
     "user": {
      "displayName": "Yuriy Sosnin",
      "photoUrl": "",
      "userId": "11943109303922880437"
     },
     "user_tz": -180
    },
    "id": "cCnvTU0bigkA",
    "outputId": "55c23448-fb53-476d-ec6d-812ea2f4f3c7"
   },
   "outputs": [
    {
     "data": {
      "text/plain": [
       "1.331807934109479"
      ]
     },
     "execution_count": 23,
     "metadata": {
      "tags": []
     },
     "output_type": "execute_result"
    }
   ],
   "source": [
    "alg_random = NormalPredictor()\n",
    "\n",
    "cross_val_score(alg_random, data, cv=5, scoring='rmse').mean()"
   ]
  },
  {
   "cell_type": "code",
   "execution_count": null,
   "metadata": {
    "colab": {
     "base_uri": "https://localhost:8080/"
    },
    "executionInfo": {
     "elapsed": 57439,
     "status": "ok",
     "timestamp": 1618912002047,
     "user": {
      "displayName": "Yuriy Sosnin",
      "photoUrl": "",
      "userId": "11943109303922880437"
     },
     "user_tz": -180
    },
    "id": "RpbJ7PCuzCIp",
    "outputId": "b7de486b-e687-447a-8453-979dcc66d7b4"
   },
   "outputs": [
    {
     "name": "stdout",
     "output_type": "stream",
     "text": [
      "0.9174599862505092\n",
      "56.99207329750061\n"
     ]
    }
   ],
   "source": [
    "start = time.time()\n",
    "alg_knn = KNNWithMeans(k=5, verbose=False)\n",
    "\n",
    "print(cross_val_score(alg_knn, data, cv=5, scoring='rmse').mean())\n",
    "print(time.time()-start)"
   ]
  },
  {
   "cell_type": "code",
   "execution_count": null,
   "metadata": {
    "colab": {
     "base_uri": "https://localhost:8080/"
    },
    "executionInfo": {
     "elapsed": 60035,
     "status": "ok",
     "timestamp": 1618912086860,
     "user": {
      "displayName": "Yuriy Sosnin",
      "photoUrl": "",
      "userId": "11943109303922880437"
     },
     "user_tz": -180
    },
    "id": "Jg8pFaIZcBlf",
    "outputId": "424482b2-5d0f-43e2-c095-ebde780b5778"
   },
   "outputs": [
    {
     "name": "stdout",
     "output_type": "stream",
     "text": [
      "0.9284487040641028\n",
      "59.418858766555786\n"
     ]
    }
   ],
   "source": [
    "start = time.time()\n",
    "\n",
    "alg_knn_z = KNNWithZScore(k=5, verbose=False)\n",
    "\n",
    "print(cross_val_score(alg_knn_z, data, cv=5, scoring='rmse').mean())\n",
    "print(time.time()-start)"
   ]
  },
  {
   "cell_type": "code",
   "execution_count": null,
   "metadata": {
    "colab": {
     "base_uri": "https://localhost:8080/"
    },
    "executionInfo": {
     "elapsed": 4747104,
     "status": "ok",
     "timestamp": 1618916849043,
     "user": {
      "displayName": "Yuriy Sosnin",
      "photoUrl": "",
      "userId": "11943109303922880437"
     },
     "user_tz": -180
    },
    "id": "fcXmS7SlOJUZ",
    "outputId": "91497621-1ebc-42ab-9a4d-ee5f85b5c58a"
   },
   "outputs": [
    {
     "name": "stdout",
     "output_type": "stream",
     "text": [
      "0.8916482192016723\n",
      "{'k': 9, 'sim_options': {'name': 'msd', 'user_based': True}, 'verbose': False}\n"
     ]
    }
   ],
   "source": [
    "param_grid = {'k': range(1, 10),\n",
    "              'sim_options': {'name': ['msd', 'cosine', 'pearson'],\n",
    "                              'user_based': [False, True]},\n",
    "              'verbose' : [False]\n",
    "              }\n",
    "\n",
    "gs = GridSearchCV(KNNWithMeans, param_grid, measures=['rmse'], cv=kf)\n",
    "gs.fit(data)\n",
    "\n",
    "print(gs.best_score['rmse'])\n",
    "print(gs.best_params['rmse'])"
   ]
  },
  {
   "cell_type": "code",
   "execution_count": null,
   "metadata": {
    "colab": {
     "background_save": true
    },
    "id": "YXLozl7iroTy",
    "outputId": "651d252c-d5d4-4610-ec24-64aa29412d6b"
   },
   "outputs": [
    {
     "name": "stdout",
     "output_type": "stream",
     "text": [
      "0.8957300167589836\n",
      "{'k': 9, 'sim_options': {'name': 'msd', 'user_based': True}, 'verbose': False}\n"
     ]
    }
   ],
   "source": [
    "param_grid = {'k': range(1, 10),\n",
    "              'sim_options': {'name': ['msd', 'cosine', 'pearson'],\n",
    "                              'user_based': [False, True]},\n",
    "              'verbose' : [False]\n",
    "              }\n",
    "\n",
    "gsz = GridSearchCV(KNNWithZScore, param_grid, measures=['rmse'], cv=kf)\n",
    "gsz.fit(data)\n",
    "\n",
    "print(gsz.best_score['rmse'])\n",
    "print(gsz.best_params['rmse'])"
   ]
  },
  {
   "cell_type": "code",
   "execution_count": 19,
   "metadata": {
    "colab": {
     "base_uri": "https://localhost:8080/"
    },
    "executionInfo": {
     "elapsed": 545108,
     "status": "ok",
     "timestamp": 1618926530173,
     "user": {
      "displayName": "Yuriy Sosnin",
      "photoUrl": "",
      "userId": "11943109303922880437"
     },
     "user_tz": -180
    },
    "id": "nvqgfR2VfEmT",
    "outputId": "c10ead7a-8869-42c3-9e4b-b1519dd8cf0e"
   },
   "outputs": [
    {
     "name": "stdout",
     "output_type": "stream",
     "text": [
      "0.8682623628854061\n",
      "{'n_factors': 20, 'verbose': False}\n"
     ]
    }
   ],
   "source": [
    "param_grid_svd = {'n_factors': range(10,110,10),\n",
    "                  'verbose' : [False]\n",
    "              }\n",
    "\n",
    "gssvd = GridSearchCV(SVD, param_grid_svd, measures=['rmse'], cv=kf)\n",
    "gssvd.fit(data)\n",
    "\n",
    "print(gssvd.best_score['rmse'])\n",
    "print(gssvd.best_params['rmse'])"
   ]
  },
  {
   "cell_type": "code",
   "execution_count": null,
   "metadata": {
    "id": "6g7BRwvcjaAt"
   },
   "outputs": [],
   "source": [
    "param_grid_svdpp = {'n_factors': range(10,50,4),\n",
    "                  'verbose' : [False]\n",
    "              }\n",
    "\n",
    "gssvdpp = GridSearchCV(SVDpp, param_grid_svdpp, measures=['rmse'], cv=kf)\n",
    "gssvdpp.fit(data)\n",
    "\n",
    "print(gssvdpp.best_score['rmse'])\n",
    "print(gssvdpp.best_params['rmse'])"
   ]
  },
  {
   "cell_type": "markdown",
   "metadata": {
    "id": "aZmtW0QxFc59"
   },
   "source": [
    "## recall-presision"
   ]
  },
  {
   "cell_type": "code",
   "execution_count": null,
   "metadata": {},
   "outputs": [],
   "source": [
    "from thisproject import recommend_list"
   ]
  },
  {
   "cell_type": "code",
   "execution_count": null,
   "metadata": {
    "id": "9M4ac9KzAUQr"
   },
   "outputs": [],
   "source": [
    "knn_test = KNNWithMeans(k=9, verbose=False)\n",
    "knn_reclist = recommend_list(\n",
    "    ratings.loc[ratings['user_id'] == 1], \n",
    "    ratings_random, \n",
    "    knn_test, \n",
    "    verbose = True, \n",
    "    remove_rated = False\n",
    ")\n",
    "knn_reclist"
   ]
  },
  {
   "cell_type": "code",
   "execution_count": null,
   "metadata": {
    "id": "IJs-s4cdSvZu"
   },
   "outputs": [],
   "source": [
    "svd_test = SVD(n_factors=20, verbose=False)\n",
    "svd_reclist = recommend_list(\n",
    "    ratings.loc[ratings['user_id'] == 1], \n",
    "    ratings_random, \n",
    "    svd_test, \n",
    "    verbose=True, \n",
    "    remove_rated=False\n",
    ")\n",
    "svd_reclist"
   ]
  },
  {
   "cell_type": "code",
   "execution_count": null,
   "metadata": {
    "id": "8AHlIzBRFf4o"
   },
   "outputs": [],
   "source": [
    "def precision_recall_at_k(predictions, k=10, threshold=3.5):\n",
    "    \"\"\"Return precision and recall at k metrics for each user\"\"\"\n",
    "\n",
    "    # First map the predictions to each user.\n",
    "    from collections import defaultdict\n",
    "    user_est_true = defaultdict(list)\n",
    "    for uid, _, true_r, est, _ in predictions:\n",
    "        user_est_true[uid].append((est, true_r))\n",
    "\n",
    "    precisions = dict()\n",
    "    recalls = dict()\n",
    "    for uid, user_ratings in user_est_true.items():\n",
    "\n",
    "        # Sort user ratings by estimated value\n",
    "        user_ratings.sort(key=lambda x: x[0], reverse=True)\n",
    "\n",
    "        # Number of relevant items\n",
    "        n_rel = sum((true_r >= threshold) for (_, true_r) in user_ratings)\n",
    "\n",
    "        # Number of recommended items in top k\n",
    "        n_rec_k = sum((est >= threshold) for (est, _) in user_ratings[:k])\n",
    "\n",
    "        # Number of relevant and recommended items in top k\n",
    "        n_rel_and_rec_k = sum(((true_r >= threshold) and (est >= threshold))\n",
    "                              for (est, true_r) in user_ratings[:k])\n",
    "\n",
    "        # Precision@K: Proportion of recommended items that are relevant\n",
    "        # When n_rec_k is 0, Precision is undefined. We here set it to 0.\n",
    "\n",
    "        precisions[uid] = n_rel_and_rec_k / n_rec_k if n_rec_k != 0 else 0\n",
    "\n",
    "        # Recall@K: Proportion of relevant items that are recommended\n",
    "        # When n_rel is 0, Recall is undefined. We here set it to 0.\n",
    "\n",
    "        recalls[uid] = n_rel_and_rec_k / n_rel if n_rel != 0 else 0\n",
    "\n",
    "    return precisions, recalls"
   ]
  },
  {
   "cell_type": "code",
   "execution_count": null,
   "metadata": {
    "id": "dnSowFX8t1gz"
   },
   "outputs": [],
   "source": [
    "#def precision_at_k(user_id, rec_list):\n",
    "    #"
   ]
  },
  {
   "cell_type": "code",
   "execution_count": null,
   "metadata": {
    "id": "X-8j9RcRJ44Y"
   },
   "outputs": [],
   "source": [
    "algo = KNNWithMeans(k=9, verbose=False)\n",
    "\n",
    "algo.fit(data_train)\n",
    "predictions = algo.test(data_test)\n",
    "precisions, recalls = precision_recall_at_k(predictions, k=10, threshold=4)\n",
    "\n",
    "print(sum(prec for prec in precisions.values()) / len(precisions))\n",
    "print(sum(rec for rec in recalls.values()) / len(recalls))"
   ]
  },
  {
   "cell_type": "code",
   "execution_count": null,
   "metadata": {
    "id": "rZ9wTQ6jKNc0"
   },
   "outputs": [],
   "source": [
    "algo_svd = SVD(n_factors=20, verbose=False)\n",
    "\n",
    "algo_svd.fit(data_train)\n",
    "predictions = algo_svd.test(data_test)\n",
    "precisions, recalls = precision_recall_at_k(predictions, k=5, threshold=4)\n",
    "\n",
    "print(sum(prec for prec in precisions.values()) / len(precisions))\n",
    "print(sum(rec for rec in recalls.values()) / len(recalls))"
   ]
  },
  {
   "cell_type": "markdown",
   "metadata": {
    "id": "bp5glPyob4X8"
   },
   "source": [
    "# spotlight"
   ]
  },
  {
   "cell_type": "code",
   "execution_count": null,
   "metadata": {
    "id": "2LPoZh4Rb5hl"
   },
   "outputs": [],
   "source": [
    "import torch\n",
    "import spotlight"
   ]
  },
  {
   "cell_type": "code",
   "execution_count": null,
   "metadata": {
    "id": "rUOqARUthVME"
   },
   "outputs": [],
   "source": [
    "from spotlight.interactions import Interactions\n",
    "\n",
    "data = Interactions(*[np.array(i) for _, i in ratings_random.items()])\n",
    "data_train = Interactions(*[np.array(i) for _, i in ratings_train.items()])\n",
    "data_test = Interactions(*[np.array(i) for _, i in ratings_test.items()])"
   ]
  },
  {
   "cell_type": "code",
   "execution_count": null,
   "metadata": {
    "colab": {
     "base_uri": "https://localhost:8080/"
    },
    "executionInfo": {
     "elapsed": 18825,
     "status": "ok",
     "timestamp": 1617907727122,
     "user": {
      "displayName": "Yuriy Sosnin",
      "photoUrl": "",
      "userId": "11943109303922880437"
     },
     "user_tz": -180
    },
    "id": "9pECjqc1m-6G",
    "outputId": "868bc0b3-dd49-435d-c1dc-a8e5cab5c020"
   },
   "outputs": [
    {
     "name": "stdout",
     "output_type": "stream",
     "text": [
      "Epoch 0: loss 13.886664521540695\n",
      "Epoch 1: loss 3.418573094539888\n",
      "Epoch 2: loss 1.1470414896379724\n",
      "Epoch 3: loss 0.8211444383527077\n",
      "Epoch 4: loss 0.7350682071350163\n",
      "Epoch 5: loss 0.6972380533750476\n",
      "Epoch 6: loss 0.6719108909496422\n",
      "Epoch 7: loss 0.6488575676991705\n",
      "Epoch 8: loss 0.6267038788406634\n",
      "Epoch 9: loss 0.6040727829984329\n"
     ]
    },
    {
     "data": {
      "text/plain": [
       "0.86410011960886"
      ]
     },
     "execution_count": 42,
     "metadata": {
      "tags": []
     },
     "output_type": "execute_result"
    }
   ],
   "source": [
    "from spotlight.evaluation import rmse_score\n",
    "from spotlight.factorization.explicit import ExplicitFactorizationModel\n",
    "\n",
    "model = ExplicitFactorizationModel(loss='regression',\n",
    "                                   embedding_dim=128,\n",
    "                                   n_iter=10,\n",
    "                                   batch_size=1024,\n",
    "                                   l2=1e-9,\n",
    "                                   learning_rate=1e-3,\n",
    "                                   use_cuda=torch.cuda.is_available())\n",
    "model.fit(data_train, verbose=True)\n",
    "\n",
    "rmse_score(model, data_test)"
   ]
  },
  {
   "cell_type": "code",
   "execution_count": null,
   "metadata": {
    "id": "04nHBYzJpJB6"
   },
   "outputs": [],
   "source": [
    "pred = model.predict(user_ids=58)"
   ]
  },
  {
   "cell_type": "code",
   "execution_count": null,
   "metadata": {
    "colab": {
     "base_uri": "https://localhost:8080/"
    },
    "executionInfo": {
     "elapsed": 658,
     "status": "ok",
     "timestamp": 1617907747233,
     "user": {
      "displayName": "Yuriy Sosnin",
      "photoUrl": "",
      "userId": "11943109303922880437"
     },
     "user_tz": -180
    },
    "id": "Hk6Fp9KUrZqv",
    "outputId": "89b66222-9f89-47b1-a594-1543f3ff5f54"
   },
   "outputs": [
    {
     "data": {
      "text/plain": [
       "629          26\n",
       "630          58\n",
       "631          18\n",
       "632          14\n",
       "633           2\n",
       "           ... \n",
       "5771155     279\n",
       "5785098      61\n",
       "5811024     702\n",
       "5830792    9356\n",
       "5853023    4576\n",
       "Name: book_id, Length: 82, dtype: int64"
      ]
     },
     "execution_count": 44,
     "metadata": {
      "tags": []
     },
     "output_type": "execute_result"
    }
   ],
   "source": [
    "ratings_random.loc[ratings_random['user_id'] == 58]"
   ]
  },
  {
   "cell_type": "code",
   "execution_count": null,
   "metadata": {
    "colab": {
     "base_uri": "https://localhost:8080/",
     "height": 343
    },
    "executionInfo": {
     "elapsed": 1279,
     "status": "ok",
     "timestamp": 1617907775351,
     "user": {
      "displayName": "Yuriy Sosnin",
      "photoUrl": "",
      "userId": "11943109303922880437"
     },
     "user_tz": -180
    },
    "id": "mq3er7dspfRm",
    "outputId": "a6cdff68-b6b8-41b4-fbd8-1ddf0b8683a2"
   },
   "outputs": [
    {
     "data": {
      "text/html": [
       "<div>\n",
       "<style scoped>\n",
       "    .dataframe tbody tr th:only-of-type {\n",
       "        vertical-align: middle;\n",
       "    }\n",
       "\n",
       "    .dataframe tbody tr th {\n",
       "        vertical-align: top;\n",
       "    }\n",
       "\n",
       "    .dataframe thead th {\n",
       "        text-align: right;\n",
       "    }\n",
       "</style>\n",
       "<table border=\"1\" class=\"dataframe\">\n",
       "  <thead>\n",
       "    <tr style=\"text-align: right;\">\n",
       "      <th></th>\n",
       "      <th>book_id</th>\n",
       "      <th>predcited_rating</th>\n",
       "    </tr>\n",
       "  </thead>\n",
       "  <tbody>\n",
       "    <tr>\n",
       "      <th>7593</th>\n",
       "      <td>7593</td>\n",
       "      <td>5.120577</td>\n",
       "    </tr>\n",
       "    <tr>\n",
       "      <th>8580</th>\n",
       "      <td>8580</td>\n",
       "      <td>4.996542</td>\n",
       "    </tr>\n",
       "    <tr>\n",
       "      <th>5529</th>\n",
       "      <td>5529</td>\n",
       "      <td>4.977715</td>\n",
       "    </tr>\n",
       "    <tr>\n",
       "      <th>9004</th>\n",
       "      <td>9004</td>\n",
       "      <td>4.920152</td>\n",
       "    </tr>\n",
       "    <tr>\n",
       "      <th>3920</th>\n",
       "      <td>3920</td>\n",
       "      <td>4.866500</td>\n",
       "    </tr>\n",
       "    <tr>\n",
       "      <th>7844</th>\n",
       "      <td>7844</td>\n",
       "      <td>4.842587</td>\n",
       "    </tr>\n",
       "    <tr>\n",
       "      <th>9566</th>\n",
       "      <td>9566</td>\n",
       "      <td>4.834001</td>\n",
       "    </tr>\n",
       "    <tr>\n",
       "      <th>2151</th>\n",
       "      <td>2151</td>\n",
       "      <td>4.804973</td>\n",
       "    </tr>\n",
       "    <tr>\n",
       "      <th>9537</th>\n",
       "      <td>9537</td>\n",
       "      <td>4.804045</td>\n",
       "    </tr>\n",
       "    <tr>\n",
       "      <th>4620</th>\n",
       "      <td>4620</td>\n",
       "      <td>4.792125</td>\n",
       "    </tr>\n",
       "  </tbody>\n",
       "</table>\n",
       "</div>"
      ],
      "text/plain": [
       "      book_id  predcited_rating\n",
       "7593     7593          5.120577\n",
       "8580     8580          4.996542\n",
       "5529     5529          4.977715\n",
       "9004     9004          4.920152\n",
       "3920     3920          4.866500\n",
       "7844     7844          4.842587\n",
       "9566     9566          4.834001\n",
       "2151     2151          4.804973\n",
       "9537     9537          4.804045\n",
       "4620     4620          4.792125"
      ]
     },
     "execution_count": 47,
     "metadata": {
      "tags": []
     },
     "output_type": "execute_result"
    }
   ],
   "source": [
    "pred_list = pd.DataFrame(enumerate(pred), columns=['book_id', 'predcited_rating'])\n",
    "pred_list.loc[\n",
    "    ~pred_list['book_id'].isin(ratings_random.loc[ratings_random['user_id'] == 58].book_id)\n",
    "].sort_values(ascending=False, by = 'predcited_rating').head(10)"
   ]
  },
  {
   "cell_type": "markdown",
   "metadata": {
    "id": "Q1irSy_npLXJ"
   },
   "source": [
    "# lightfm"
   ]
  },
  {
   "cell_type": "code",
   "execution_count": 5,
   "metadata": {
    "executionInfo": {
     "elapsed": 694,
     "status": "ok",
     "timestamp": 1618932632988,
     "user": {
      "displayName": "Yuriy Sosnin",
      "photoUrl": "",
      "userId": "11943109303922880437"
     },
     "user_tz": -180
    },
    "id": "y1pYVrNJu7pZ"
   },
   "outputs": [],
   "source": [
    "import pandas as pd\n",
    "import numpy as np\n",
    "import scipy.sparse as sp\n",
    "import copy\n",
    "import pickle\n",
    "from lightfm import LightFM\n",
    "from lightfm.data import Dataset"
   ]
  },
  {
   "cell_type": "code",
   "execution_count": 6,
   "metadata": {},
   "outputs": [],
   "source": [
    "books = pd.read_csv('data/books_transform.csv')\n",
    "book_map = pd.read_csv('data/books.csv')[['id', 'title', 'authors']]\n",
    "ratings = pd.read_csv('data/ratings.csv')\n",
    "item_features = sp.load_npz('data/item_features.npz')"
   ]
  },
  {
   "cell_type": "code",
   "execution_count": 222,
   "metadata": {
    "executionInfo": {
     "elapsed": 969,
     "status": "ok",
     "timestamp": 1618936948303,
     "user": {
      "displayName": "Yuriy Sosnin",
      "photoUrl": "",
      "userId": "11943109303922880437"
     },
     "user_tz": -180
    },
    "id": "IKRg-J2z2GnI"
   },
   "outputs": [],
   "source": [
    "dataset = Dataset()\n",
    "dataset.fit(ratings_random['user_id'].unique(), np.arange(1,10001))\n",
    "#dataset.fit_partial(ratings['user_id'], ratings['book_id'])"
   ]
  },
  {
   "cell_type": "code",
   "execution_count": 217,
   "metadata": {},
   "outputs": [],
   "source": [
    "def itervalues(df):\n",
    "    for _, i in df.iterrows():\n",
    "        yield i.values"
   ]
  },
  {
   "cell_type": "code",
   "execution_count": 223,
   "metadata": {
    "executionInfo": {
     "elapsed": 21247,
     "status": "ok",
     "timestamp": 1618936969340,
     "user": {
      "displayName": "Yuriy Sosnin",
      "photoUrl": "",
      "userId": "11943109303922880437"
     },
     "user_tz": -180
    },
    "id": "mMWc2_bmxz9Z"
   },
   "outputs": [],
   "source": [
    "(interactions, weights) = dataset.build_interactions(itervalues(ratings_random))"
   ]
  },
  {
   "cell_type": "code",
   "execution_count": 224,
   "metadata": {
    "colab": {
     "base_uri": "https://localhost:8080/"
    },
    "executionInfo": {
     "elapsed": 17211,
     "status": "ok",
     "timestamp": 1618936712834,
     "user": {
      "displayName": "Yuriy Sosnin",
      "photoUrl": "",
      "userId": "11943109303922880437"
     },
     "user_tz": -180
    },
    "id": "b4-QIhL-II6k",
    "outputId": "d5cc23fd-d686-449a-fa1a-0dc07fa4ec8a"
   },
   "outputs": [
    {
     "data": {
      "text/plain": [
       "<2672x10000 sparse matrix of type '<class 'numpy.float32'>'\n",
       "\twith 298176 stored elements in COOrdinate format>"
      ]
     },
     "execution_count": 224,
     "metadata": {},
     "output_type": "execute_result"
    }
   ],
   "source": [
    "weights"
   ]
  },
  {
   "cell_type": "code",
   "execution_count": 225,
   "metadata": {
    "executionInfo": {
     "elapsed": 3624,
     "status": "ok",
     "timestamp": 1618936528971,
     "user": {
      "displayName": "Yuriy Sosnin",
      "photoUrl": "",
      "userId": "11943109303922880437"
     },
     "user_tz": -180
    },
    "id": "TT48HgNU9PMw"
   },
   "outputs": [],
   "source": [
    "from lightfm.cross_validation import random_train_test_split\n",
    "weights_train, weights_test = random_train_test_split(weights, test_percentage=0.2, random_state=322)"
   ]
  },
  {
   "cell_type": "code",
   "execution_count": 227,
   "metadata": {
    "executionInfo": {
     "elapsed": 666,
     "status": "ok",
     "timestamp": 1618934015541,
     "user": {
      "displayName": "Yuriy Sosnin",
      "photoUrl": "",
      "userId": "11943109303922880437"
     },
     "user_tz": -180
    },
    "id": "xnneXPHYkAjF"
   },
   "outputs": [],
   "source": [
    "data = {'train' : weights_train, \n",
    "        'test': weights_test, \n",
    "        'item_features' : None, \n",
    "        'item_labels' : pd.read_csv('data/books.csv')['title'].values, \n",
    "        'item_feature_labels' : None}"
   ]
  },
  {
   "cell_type": "code",
   "execution_count": 228,
   "metadata": {
    "colab": {
     "base_uri": "https://localhost:8080/"
    },
    "executionInfo": {
     "elapsed": 16524,
     "status": "ok",
     "timestamp": 1618934031409,
     "user": {
      "displayName": "Yuriy Sosnin",
      "photoUrl": "",
      "userId": "11943109303922880437"
     },
     "user_tz": -180
    },
    "id": "V5gcOb-KiM8h",
    "outputId": "7f515f40-18dd-4b13-e2de-26b0bfbdf26f"
   },
   "outputs": [
    {
     "name": "stdout",
     "output_type": "stream",
     "text": [
      "Precision: train 0.41, test 0.16.\n",
      "AUC: train 0.93, test 0.90.\n"
     ]
    }
   ],
   "source": [
    "from lightfm.evaluation import precision_at_k\n",
    "from lightfm.evaluation import auc_score\n",
    "\n",
    "model = LightFM(learning_rate=0.05, loss = 'warp')\n",
    "model.fit(data['train'], epochs=10)\n",
    "\n",
    "train_precision = precision_at_k(model, data['train'], k=10).mean()\n",
    "test_precision = precision_at_k(model, data['test'], k=10, train_interactions=data['train']).mean()\n",
    "\n",
    "train_auc = auc_score(model, data['train']).mean()\n",
    "test_auc = auc_score(model, data['test'], train_interactions=data['train']).mean()\n",
    "\n",
    "print('Precision: train %.2f, test %.2f.' % (train_precision, test_precision))\n",
    "print('AUC: train %.2f, test %.2f.' % (train_auc, test_auc))"
   ]
  },
  {
   "cell_type": "code",
   "execution_count": 237,
   "metadata": {},
   "outputs": [],
   "source": [
    "def evaluate(model_params, epochs=10):\n",
    "    model = LightFM(**model_params, random_state=1)\n",
    "    model.fit(data['train'], epochs=epochs)\n",
    "\n",
    "    train_precision = precision_at_k(model, data['train'], k=10).mean()\n",
    "    test_precision = precision_at_k(model, data['test'], k=10, train_interactions=data['train']).mean()\n",
    "\n",
    "    train_auc = auc_score(model, data['train']).mean()\n",
    "    test_auc = auc_score(model, data['test'], train_interactions=data['train']).mean()\n",
    "\n",
    "    print('Precision: train %.2f, test %.2f.' % (train_precision, test_precision))\n",
    "    print('AUC: train %.2f, test %.2f.' % (train_auc, test_auc))"
   ]
  },
  {
   "cell_type": "code",
   "execution_count": 258,
   "metadata": {
    "scrolled": true
   },
   "outputs": [
    {
     "name": "stdout",
     "output_type": "stream",
     "text": [
      "N Components:  10\n",
      "Precision: train 0.41, test 0.16.\n",
      "AUC: train 0.92, test 0.90.\n",
      "N Components:  20\n",
      "Precision: train 0.45, test 0.18.\n",
      "AUC: train 0.95, test 0.92.\n",
      "N Components:  30\n",
      "Precision: train 0.48, test 0.19.\n",
      "AUC: train 0.96, test 0.93.\n",
      "N Components:  40\n",
      "Precision: train 0.50, test 0.20.\n",
      "AUC: train 0.97, test 0.93.\n",
      "N Components:  50\n",
      "Precision: train 0.52, test 0.20.\n",
      "AUC: train 0.97, test 0.93.\n",
      "N Components:  60\n",
      "Precision: train 0.54, test 0.20.\n",
      "AUC: train 0.98, test 0.93.\n",
      "N Components:  70\n",
      "Precision: train 0.56, test 0.21.\n",
      "AUC: train 0.98, test 0.93.\n",
      "N Components:  80\n",
      "Precision: train 0.58, test 0.22.\n",
      "AUC: train 0.98, test 0.94.\n",
      "N Components:  90\n",
      "Precision: train 0.59, test 0.22.\n",
      "AUC: train 0.99, test 0.94.\n",
      "N Components:  100\n",
      "Precision: train 0.61, test 0.22.\n",
      "AUC: train 0.99, test 0.94.\n",
      "N Components:  110\n",
      "Precision: train 0.63, test 0.22.\n",
      "AUC: train 0.99, test 0.94.\n",
      "N Components:  120\n",
      "Precision: train 0.64, test 0.22.\n",
      "AUC: train 0.99, test 0.94.\n",
      "N Components:  130\n",
      "Precision: train 0.65, test 0.22.\n",
      "AUC: train 0.99, test 0.94.\n",
      "N Components:  140\n",
      "Precision: train 0.66, test 0.22.\n",
      "AUC: train 0.99, test 0.94.\n",
      "N Components:  150\n",
      "Precision: train 0.68, test 0.22.\n",
      "AUC: train 0.99, test 0.94.\n",
      "N Components:  160\n",
      "Precision: train 0.69, test 0.22.\n",
      "AUC: train 0.99, test 0.94.\n",
      "N Components:  170\n",
      "Precision: train 0.71, test 0.22.\n",
      "AUC: train 0.99, test 0.94.\n",
      "N Components:  180\n",
      "Precision: train 0.72, test 0.22.\n",
      "AUC: train 0.99, test 0.94.\n",
      "N Components:  190\n",
      "Precision: train 0.73, test 0.22.\n",
      "AUC: train 0.99, test 0.93.\n",
      "N Components:  200\n",
      "Precision: train 0.74, test 0.23.\n",
      "AUC: train 1.00, test 0.93.\n"
     ]
    }
   ],
   "source": [
    "for i in np.arange(10, 201, 10):\n",
    "    print('N Components: ', i)\n",
    "    evaluate(dict(no_components = i, learning_rate=0.05, loss='warp'))"
   ]
  },
  {
   "cell_type": "code",
   "execution_count": 261,
   "metadata": {
    "scrolled": true
   },
   "outputs": [
    {
     "name": "stdout",
     "output_type": "stream",
     "text": [
      "N Components:  80\n",
      "Learning rate: 0.019290148549252116\n",
      "Precision: train 0.57, test 0.21.\n",
      "AUC: train 0.98, test 0.94.\n",
      "N Components:  80\n",
      "Learning rate: 0.025272294673488207\n",
      "Precision: train 0.57, test 0.22.\n",
      "AUC: train 0.98, test 0.94.\n",
      "N Components:  80\n",
      "Learning rate: 0.018430494625011003\n",
      "Precision: train 0.58, test 0.21.\n",
      "AUC: train 0.98, test 0.94.\n",
      "N Components:  80\n",
      "Learning rate: 0.01327867393801306\n",
      "Precision: train 0.58, test 0.21.\n",
      "AUC: train 0.98, test 0.93.\n",
      "N Components:  80\n",
      "Learning rate: 0.11339931151783898\n",
      "Precision: train 0.58, test 0.21.\n",
      "AUC: train 0.98, test 0.94.\n",
      "N Components:  80\n",
      "Learning rate: 0.10547597662715243\n",
      "Precision: train 0.58, test 0.21.\n",
      "AUC: train 0.98, test 0.94.\n",
      "N Components:  80\n",
      "Learning rate: 0.15611439864262977\n",
      "Precision: train 0.58, test 0.21.\n",
      "AUC: train 0.98, test 0.94.\n",
      "N Components:  80\n",
      "Learning rate: 0.06269707542360263\n",
      "Precision: train 0.58, test 0.21.\n",
      "AUC: train 0.98, test 0.94.\n",
      "N Components:  80\n",
      "Learning rate: 0.01089150904639876\n",
      "Precision: train 0.57, test 0.21.\n",
      "AUC: train 0.98, test 0.93.\n",
      "N Components:  80\n",
      "Learning rate: 0.1676337996048738\n",
      "Precision: train 0.57, test 0.21.\n",
      "AUC: train 0.98, test 0.94.\n",
      "N Components:  90\n",
      "Learning rate: 0.05039538776828041\n",
      "Precision: train 0.59, test 0.22.\n",
      "AUC: train 0.99, test 0.94.\n",
      "N Components:  90\n",
      "Learning rate: 0.07800084252123966\n",
      "Precision: train 0.60, test 0.21.\n",
      "AUC: train 0.99, test 0.94.\n",
      "N Components:  90\n",
      "Learning rate: 0.0427168461157998\n",
      "Precision: train 0.59, test 0.22.\n",
      "AUC: train 0.99, test 0.94.\n",
      "N Components:  90\n",
      "Learning rate: 0.07218940036220894\n",
      "Precision: train 0.59, test 0.21.\n",
      "AUC: train 0.99, test 0.94.\n",
      "N Components:  90\n",
      "Learning rate: 0.009793254766805003\n",
      "Precision: train 0.59, test 0.21.\n",
      "AUC: train 0.99, test 0.94.\n",
      "N Components:  90\n",
      "Learning rate: 0.07624156294593967\n",
      "Precision: train 0.59, test 0.21.\n",
      "AUC: train 0.99, test 0.94.\n",
      "N Components:  90\n",
      "Learning rate: 0.02495581668663751\n",
      "Precision: train 0.59, test 0.22.\n",
      "AUC: train 0.99, test 0.94.\n",
      "N Components:  90\n",
      "Learning rate: 0.004072165575361982\n",
      "Precision: train 0.60, test 0.21.\n",
      "AUC: train 0.99, test 0.94.\n",
      "N Components:  90\n",
      "Learning rate: 0.1466439768447628\n",
      "Precision: train 0.59, test 0.22.\n",
      "AUC: train 0.99, test 0.94.\n",
      "N Components:  90\n",
      "Learning rate: 0.0743124731779329\n",
      "Precision: train 0.60, test 0.22.\n",
      "AUC: train 0.99, test 0.94.\n",
      "N Components:  100\n",
      "Learning rate: 0.055263117438676304\n",
      "Precision: train 0.60, test 0.22.\n",
      "AUC: train 0.99, test 0.94.\n",
      "N Components:  100\n",
      "Learning rate: 0.1180729037409553\n",
      "Precision: train 0.61, test 0.22.\n",
      "AUC: train 0.99, test 0.94.\n",
      "N Components:  100\n",
      "Learning rate: 0.10499867669287306\n",
      "Precision: train 0.61, test 0.22.\n",
      "AUC: train 0.99, test 0.94.\n",
      "N Components:  100\n",
      "Learning rate: 0.024698033573364326\n",
      "Precision: train 0.61, test 0.22.\n",
      "AUC: train 0.99, test 0.94.\n",
      "N Components:  100\n",
      "Learning rate: 0.0066174469908813795\n",
      "Precision: train 0.61, test 0.22.\n",
      "AUC: train 0.99, test 0.94.\n",
      "N Components:  100\n",
      "Learning rate: 0.015560654073159222\n",
      "Precision: train 0.61, test 0.22.\n",
      "AUC: train 0.99, test 0.94.\n",
      "N Components:  100\n",
      "Learning rate: 0.12484614511200445\n",
      "Precision: train 0.61, test 0.22.\n",
      "AUC: train 0.99, test 0.94.\n",
      "N Components:  100\n",
      "Learning rate: 0.03141492376002467\n",
      "Precision: train 0.60, test 0.22.\n",
      "AUC: train 0.99, test 0.94.\n",
      "N Components:  100\n",
      "Learning rate: 0.010625130938561515\n",
      "Precision: train 0.61, test 0.22.\n",
      "AUC: train 0.99, test 0.94.\n",
      "N Components:  100\n",
      "Learning rate: 0.09162968096265284\n",
      "Precision: train 0.61, test 0.22.\n",
      "AUC: train 0.99, test 0.94.\n",
      "N Components:  110\n",
      "Learning rate: 0.0029596174899013876\n",
      "Precision: train 0.63, test 0.22.\n",
      "AUC: train 0.99, test 0.94.\n",
      "N Components:  110\n",
      "Learning rate: 0.005642087201466516\n",
      "Precision: train 0.62, test 0.22.\n",
      "AUC: train 0.99, test 0.94.\n",
      "N Components:  110\n",
      "Learning rate: 0.002972978267811643\n",
      "Precision: train 0.62, test 0.22.\n",
      "AUC: train 0.99, test 0.94.\n",
      "N Components:  110\n",
      "Learning rate: 0.08781704055996564\n",
      "Precision: train 0.63, test 0.22.\n",
      "AUC: train 0.99, test 0.94.\n",
      "N Components:  110\n",
      "Learning rate: 0.16564109814362887\n",
      "Precision: train 0.62, test 0.22.\n",
      "AUC: train 0.99, test 0.94.\n",
      "N Components:  110\n",
      "Learning rate: 0.06304622568809759\n",
      "Precision: train 0.62, test 0.22.\n",
      "AUC: train 0.99, test 0.94.\n",
      "N Components:  110\n",
      "Learning rate: 0.037540856954456574\n",
      "Precision: train 0.62, test 0.22.\n",
      "AUC: train 0.99, test 0.94.\n",
      "N Components:  110\n",
      "Learning rate: 0.031326777428531086\n",
      "Precision: train 0.62, test 0.22.\n",
      "AUC: train 0.99, test 0.94.\n",
      "N Components:  110\n",
      "Learning rate: 0.006889985661964446\n",
      "Precision: train 0.62, test 0.22.\n",
      "AUC: train 0.99, test 0.94.\n",
      "N Components:  110\n",
      "Learning rate: 0.19958110993171455\n",
      "Precision: train 0.62, test 0.21.\n",
      "AUC: train 0.99, test 0.94.\n"
     ]
    }
   ],
   "source": [
    "for i in np.arange(80, 111, 10):\n",
    "    for j in np.random.exponential(0.05, 10):\n",
    "        print('N Components: ', i)\n",
    "        print('Learning rate:', j)\n",
    "        evaluate(dict(no_components = i, learning_rate=0.05, loss='warp'))"
   ]
  },
  {
   "cell_type": "code",
   "execution_count": 274,
   "metadata": {},
   "outputs": [],
   "source": [
    "def evaluate_feats(model_params, epochs=10):\n",
    "    model = LightFM(**model_params, random_state=1)\n",
    "    model.fit(data['train'], item_features=item_features, epochs=epochs)\n",
    "\n",
    "    train_precision = precision_at_k(model, data['train'], item_features=item_features, k=10).mean()\n",
    "    test_precision = precision_at_k(model, \n",
    "                                    data['test'], \n",
    "                                    item_features=item_features, \n",
    "                                    k=10, \n",
    "                                    train_interactions=data['train']).mean()\n",
    "\n",
    "    train_auc = auc_score(model, data['train'], item_features=item_features).mean()\n",
    "    test_auc = auc_score(model, \n",
    "                         data['test'], \n",
    "                         train_interactions=data['train'], \n",
    "                         item_features=item_features).mean()\n",
    "\n",
    "    print('Precision: train %.2f, test %.2f.' % (train_precision, test_precision))\n",
    "    print('AUC: train %.2f, test %.2f.' % (train_auc, test_auc))"
   ]
  },
  {
   "cell_type": "code",
   "execution_count": 279,
   "metadata": {
    "scrolled": true
   },
   "outputs": [
    {
     "name": "stdout",
     "output_type": "stream",
     "text": [
      "Precision: train 0.01, test 0.00.\n",
      "AUC: train 0.50, test 0.50.\n",
      "Precision: train 0.40, test 0.15.\n",
      "AUC: train 0.92, test 0.89.\n",
      "Precision: train 0.47, test 0.18.\n",
      "AUC: train 0.95, test 0.92.\n",
      "Precision: train 0.50, test 0.20.\n",
      "AUC: train 0.96, test 0.93.\n",
      "Precision: train 0.53, test 0.21.\n",
      "AUC: train 0.97, test 0.93.\n",
      "Precision: train 0.55, test 0.22.\n",
      "AUC: train 0.98, test 0.93.\n",
      "Precision: train 0.57, test 0.23.\n",
      "AUC: train 0.98, test 0.93.\n",
      "Precision: train 0.59, test 0.23.\n",
      "AUC: train 0.98, test 0.94.\n",
      "Precision: train 0.60, test 0.24.\n",
      "AUC: train 0.98, test 0.94.\n",
      "Precision: train 0.61, test 0.24.\n",
      "AUC: train 0.99, test 0.94.\n",
      "Precision: train 0.62, test 0.24.\n",
      "AUC: train 0.99, test 0.94.\n",
      "Precision: train 0.62, test 0.24.\n",
      "AUC: train 0.99, test 0.94.\n",
      "Precision: train 0.63, test 0.24.\n",
      "AUC: train 0.99, test 0.94.\n",
      "Precision: train 0.64, test 0.24.\n",
      "AUC: train 0.99, test 0.94.\n"
     ]
    },
    {
     "ename": "KeyboardInterrupt",
     "evalue": "",
     "output_type": "error",
     "traceback": [
      "\u001b[1;31m---------------------------------------------------------------------------\u001b[0m",
      "\u001b[1;31mKeyboardInterrupt\u001b[0m                         Traceback (most recent call last)",
      "\u001b[1;32m<ipython-input-279-41378e652933>\u001b[0m in \u001b[0;36m<module>\u001b[1;34m\u001b[0m\n\u001b[0;32m      1\u001b[0m \u001b[1;32mfor\u001b[0m \u001b[0mi\u001b[0m \u001b[1;32min\u001b[0m \u001b[0mnp\u001b[0m\u001b[1;33m.\u001b[0m\u001b[0marange\u001b[0m\u001b[1;33m(\u001b[0m\u001b[1;36m20\u001b[0m\u001b[1;33m)\u001b[0m\u001b[1;33m:\u001b[0m\u001b[1;33m\u001b[0m\u001b[1;33m\u001b[0m\u001b[0m\n\u001b[1;32m----> 2\u001b[1;33m     \u001b[0mevaluate_feats\u001b[0m\u001b[1;33m(\u001b[0m\u001b[0mmodel_params\u001b[0m \u001b[1;33m=\u001b[0m \u001b[0mdict\u001b[0m\u001b[1;33m(\u001b[0m\u001b[0mno_components\u001b[0m\u001b[1;33m=\u001b[0m\u001b[1;36m100\u001b[0m\u001b[1;33m,\u001b[0m \u001b[0mloss\u001b[0m\u001b[1;33m=\u001b[0m\u001b[1;34m'warp'\u001b[0m\u001b[1;33m)\u001b[0m\u001b[1;33m,\u001b[0m \u001b[0mepochs\u001b[0m\u001b[1;33m=\u001b[0m\u001b[0mi\u001b[0m\u001b[1;33m)\u001b[0m\u001b[1;33m\u001b[0m\u001b[1;33m\u001b[0m\u001b[0m\n\u001b[0m",
      "\u001b[1;32m<ipython-input-274-62ff01418f88>\u001b[0m in \u001b[0;36mevaluate_feats\u001b[1;34m(model_params, epochs)\u001b[0m\n\u001b[0;32m      3\u001b[0m     \u001b[0mmodel\u001b[0m\u001b[1;33m.\u001b[0m\u001b[0mfit\u001b[0m\u001b[1;33m(\u001b[0m\u001b[0mdata\u001b[0m\u001b[1;33m[\u001b[0m\u001b[1;34m'train'\u001b[0m\u001b[1;33m]\u001b[0m\u001b[1;33m,\u001b[0m \u001b[0mitem_features\u001b[0m\u001b[1;33m=\u001b[0m\u001b[0mitem_features\u001b[0m\u001b[1;33m,\u001b[0m \u001b[0mepochs\u001b[0m\u001b[1;33m=\u001b[0m\u001b[0mepochs\u001b[0m\u001b[1;33m)\u001b[0m\u001b[1;33m\u001b[0m\u001b[1;33m\u001b[0m\u001b[0m\n\u001b[0;32m      4\u001b[0m \u001b[1;33m\u001b[0m\u001b[0m\n\u001b[1;32m----> 5\u001b[1;33m     \u001b[0mtrain_precision\u001b[0m \u001b[1;33m=\u001b[0m \u001b[0mprecision_at_k\u001b[0m\u001b[1;33m(\u001b[0m\u001b[0mmodel\u001b[0m\u001b[1;33m,\u001b[0m \u001b[0mdata\u001b[0m\u001b[1;33m[\u001b[0m\u001b[1;34m'train'\u001b[0m\u001b[1;33m]\u001b[0m\u001b[1;33m,\u001b[0m \u001b[0mitem_features\u001b[0m\u001b[1;33m=\u001b[0m\u001b[0mitem_features\u001b[0m\u001b[1;33m,\u001b[0m \u001b[0mk\u001b[0m\u001b[1;33m=\u001b[0m\u001b[1;36m10\u001b[0m\u001b[1;33m,\u001b[0m \u001b[1;33m)\u001b[0m\u001b[1;33m.\u001b[0m\u001b[0mmean\u001b[0m\u001b[1;33m(\u001b[0m\u001b[1;33m)\u001b[0m\u001b[1;33m\u001b[0m\u001b[1;33m\u001b[0m\u001b[0m\n\u001b[0m\u001b[0;32m      6\u001b[0m     \u001b[0mtest_precision\u001b[0m \u001b[1;33m=\u001b[0m \u001b[0mprecision_at_k\u001b[0m\u001b[1;33m(\u001b[0m\u001b[0mmodel\u001b[0m\u001b[1;33m,\u001b[0m \u001b[0mdata\u001b[0m\u001b[1;33m[\u001b[0m\u001b[1;34m'test'\u001b[0m\u001b[1;33m]\u001b[0m\u001b[1;33m,\u001b[0m \u001b[0mitem_features\u001b[0m\u001b[1;33m=\u001b[0m\u001b[0mitem_features\u001b[0m\u001b[1;33m,\u001b[0m \u001b[0mk\u001b[0m\u001b[1;33m=\u001b[0m\u001b[1;36m10\u001b[0m\u001b[1;33m,\u001b[0m \u001b[0mtrain_interactions\u001b[0m\u001b[1;33m=\u001b[0m\u001b[0mdata\u001b[0m\u001b[1;33m[\u001b[0m\u001b[1;34m'train'\u001b[0m\u001b[1;33m]\u001b[0m\u001b[1;33m)\u001b[0m\u001b[1;33m.\u001b[0m\u001b[0mmean\u001b[0m\u001b[1;33m(\u001b[0m\u001b[1;33m)\u001b[0m\u001b[1;33m\u001b[0m\u001b[1;33m\u001b[0m\u001b[0m\n\u001b[0;32m      7\u001b[0m \u001b[1;33m\u001b[0m\u001b[0m\n",
      "\u001b[1;32mc:\\python39\\lib\\site-packages\\lightfm\\evaluation.py\u001b[0m in \u001b[0;36mprecision_at_k\u001b[1;34m(model, test_interactions, train_interactions, k, user_features, item_features, preserve_rows, num_threads, check_intersections)\u001b[0m\n\u001b[0;32m     69\u001b[0m         \u001b[1;32mraise\u001b[0m \u001b[0mValueError\u001b[0m\u001b[1;33m(\u001b[0m\u001b[1;34m\"Number of threads must be 1 or larger.\"\u001b[0m\u001b[1;33m)\u001b[0m\u001b[1;33m\u001b[0m\u001b[1;33m\u001b[0m\u001b[0m\n\u001b[0;32m     70\u001b[0m \u001b[1;33m\u001b[0m\u001b[0m\n\u001b[1;32m---> 71\u001b[1;33m     ranks = model.predict_rank(\n\u001b[0m\u001b[0;32m     72\u001b[0m         \u001b[0mtest_interactions\u001b[0m\u001b[1;33m,\u001b[0m\u001b[1;33m\u001b[0m\u001b[1;33m\u001b[0m\u001b[0m\n\u001b[0;32m     73\u001b[0m         \u001b[0mtrain_interactions\u001b[0m\u001b[1;33m=\u001b[0m\u001b[0mtrain_interactions\u001b[0m\u001b[1;33m,\u001b[0m\u001b[1;33m\u001b[0m\u001b[1;33m\u001b[0m\u001b[0m\n",
      "\u001b[1;32mc:\\python39\\lib\\site-packages\\lightfm\\lightfm.py\u001b[0m in \u001b[0;36mpredict_rank\u001b[1;34m(self, test_interactions, train_interactions, item_features, user_features, num_threads, check_intersections)\u001b[0m\n\u001b[0;32m    940\u001b[0m         \u001b[0mlightfm_data\u001b[0m \u001b[1;33m=\u001b[0m \u001b[0mself\u001b[0m\u001b[1;33m.\u001b[0m\u001b[0m_get_lightfm_data\u001b[0m\u001b[1;33m(\u001b[0m\u001b[1;33m)\u001b[0m\u001b[1;33m\u001b[0m\u001b[1;33m\u001b[0m\u001b[0m\n\u001b[0;32m    941\u001b[0m \u001b[1;33m\u001b[0m\u001b[0m\n\u001b[1;32m--> 942\u001b[1;33m         predict_ranks(\n\u001b[0m\u001b[0;32m    943\u001b[0m             \u001b[0mCSRMatrix\u001b[0m\u001b[1;33m(\u001b[0m\u001b[0mitem_features\u001b[0m\u001b[1;33m)\u001b[0m\u001b[1;33m,\u001b[0m\u001b[1;33m\u001b[0m\u001b[1;33m\u001b[0m\u001b[0m\n\u001b[0;32m    944\u001b[0m             \u001b[0mCSRMatrix\u001b[0m\u001b[1;33m(\u001b[0m\u001b[0muser_features\u001b[0m\u001b[1;33m)\u001b[0m\u001b[1;33m,\u001b[0m\u001b[1;33m\u001b[0m\u001b[1;33m\u001b[0m\u001b[0m\n",
      "\u001b[1;31mKeyboardInterrupt\u001b[0m: "
     ]
    }
   ],
   "source": [
    "for i in np.arange(15):\n",
    "    evaluate_feats(model_params=dict(no_components=100, loss='warp'), epochs=i)"
   ]
  },
  {
   "cell_type": "code",
   "execution_count": 251,
   "metadata": {},
   "outputs": [],
   "source": [
    "def sample_hyperparameters():\n",
    "    \"\"\"\n",
    "    Yield possible hyperparameter choices.\n",
    "    \"\"\"\n",
    "\n",
    "    while True:\n",
    "        yield {\n",
    "            \"no_components\": np.random.randint(16, 128),\n",
    "            \"learning_schedule\": np.random.choice([\"adagrad\", \"adadelta\"]),\n",
    "            #\"loss\": np.random.choice([\"bpr\", \"warp\", \"warp-kos\"]),\n",
    "            \"learning_rate\": np.random.exponential(0.05),\n",
    "            \"item_alpha\": np.random.exponential(1e-8),\n",
    "            \"user_alpha\": np.random.exponential(1e-8),\n",
    "            \"max_sampled\": np.random.randint(5, 15),\n",
    "            \"num_epochs\": np.random.randint(5, 50),\n",
    "        }\n",
    "\n",
    "\n",
    "def random_search(train, test, num_samples=10, num_threads=1):\n",
    "    \"\"\"\n",
    "    Sample random hyperparameters, fit a LightFM model, and evaluate it\n",
    "    on the test set.\n",
    "\n",
    "    Parameters\n",
    "    ----------\n",
    "\n",
    "    train: np.float32 coo_matrix of shape [n_users, n_items]\n",
    "        Training data.\n",
    "    test: np.float32 coo_matrix of shape [n_users, n_items]\n",
    "        Test data.\n",
    "    num_samples: int, optional\n",
    "        Number of hyperparameter choices to evaluate.\n",
    "\n",
    "\n",
    "    Returns\n",
    "    -------\n",
    "\n",
    "    generator of (auc_score, hyperparameter dict, fitted model)\n",
    "\n",
    "    \"\"\"\n",
    "    import itertools\n",
    "    for hyperparams in itertools.islice(sample_hyperparameters(), num_samples):\n",
    "        num_epochs = hyperparams.pop(\"num_epochs\")\n",
    "\n",
    "        model = LightFM(**hyperparams, loss='bpr', random_state=1)\n",
    "        model.fit(data['train'], epochs=num_epochs, num_threads=num_threads)\n",
    "\n",
    "        auc = auc_score(model, data['test'], train_interactions=data['train'], num_threads=num_threads).mean()\n",
    "        prec = precision_at_k(model, data['test'], k=10, train_interactions=data['train']).mean()\n",
    "        \n",
    "        hyperparams[\"num_epochs\"] = num_epochs\n",
    "        print(auc, prec, hyperparams)\n",
    "        yield (auc, prec, hyperparams, model)"
   ]
  },
  {
   "cell_type": "code",
   "execution_count": 252,
   "metadata": {
    "scrolled": true
   },
   "outputs": [
    {
     "name": "stdout",
     "output_type": "stream",
     "text": [
      "0.87021804 0.16796407 {'no_components': 68, 'learning_schedule': 'adagrad', 'learning_rate': 0.025226879613373162, 'item_alpha': 8.908310526277831e-10, 'user_alpha': 4.9360491549262306e-09, 'max_sampled': 11, 'num_epochs': 36}\n",
      "0.86321425 0.13529192 {'no_components': 17, 'learning_schedule': 'adagrad', 'learning_rate': 0.12685879415614829, 'item_alpha': 1.0765226131936803e-08, 'user_alpha': 4.297429548223116e-08, 'max_sampled': 7, 'num_epochs': 7}\n",
      "0.87430525 0.16021708 {'no_components': 100, 'learning_schedule': 'adadelta', 'learning_rate': 0.029186758987243763, 'item_alpha': 1.1672166047888302e-08, 'user_alpha': 1.3055982574666412e-08, 'max_sampled': 14, 'num_epochs': 34}\n",
      "0.72541046 0.16208833 {'no_components': 91, 'learning_schedule': 'adagrad', 'learning_rate': 0.034357757996927245, 'item_alpha': 9.511138218904433e-09, 'user_alpha': 2.1003039203482873e-09, 'max_sampled': 8, 'num_epochs': 6}\n",
      "0.61273944 0.10093563 {'no_components': 105, 'learning_schedule': 'adagrad', 'learning_rate': 0.002502373690401009, 'item_alpha': 1.2407742547393954e-09, 'user_alpha': 2.4325267552920185e-08, 'max_sampled': 11, 'num_epochs': 31}\n"
     ]
    },
    {
     "ename": "KeyboardInterrupt",
     "evalue": "",
     "output_type": "error",
     "traceback": [
      "\u001b[1;31m---------------------------------------------------------------------------\u001b[0m",
      "\u001b[1;31mKeyboardInterrupt\u001b[0m                         Traceback (most recent call last)",
      "\u001b[1;32m<ipython-input-252-25774e42893c>\u001b[0m in \u001b[0;36m<module>\u001b[1;34m\u001b[0m\n\u001b[1;32m----> 1\u001b[1;33m \u001b[1;33m(\u001b[0m\u001b[0mauc\u001b[0m\u001b[1;33m,\u001b[0m \u001b[0mprec\u001b[0m\u001b[1;33m,\u001b[0m \u001b[0mhyperparams\u001b[0m\u001b[1;33m,\u001b[0m \u001b[0mmodel\u001b[0m\u001b[1;33m)\u001b[0m \u001b[1;33m=\u001b[0m \u001b[0mmax\u001b[0m\u001b[1;33m(\u001b[0m\u001b[0mrandom_search\u001b[0m\u001b[1;33m(\u001b[0m\u001b[0mdata\u001b[0m\u001b[1;33m[\u001b[0m\u001b[1;34m'train'\u001b[0m\u001b[1;33m]\u001b[0m\u001b[1;33m,\u001b[0m \u001b[0mdata\u001b[0m\u001b[1;33m[\u001b[0m\u001b[1;34m'test'\u001b[0m\u001b[1;33m]\u001b[0m\u001b[1;33m,\u001b[0m \u001b[0mnum_threads\u001b[0m\u001b[1;33m=\u001b[0m\u001b[1;36m1\u001b[0m\u001b[1;33m)\u001b[0m\u001b[1;33m,\u001b[0m \u001b[0mkey\u001b[0m\u001b[1;33m=\u001b[0m\u001b[1;32mlambda\u001b[0m \u001b[0mx\u001b[0m\u001b[1;33m:\u001b[0m \u001b[0mx\u001b[0m\u001b[1;33m[\u001b[0m\u001b[1;36m1\u001b[0m\u001b[1;33m]\u001b[0m\u001b[1;33m)\u001b[0m\u001b[1;33m\u001b[0m\u001b[1;33m\u001b[0m\u001b[0m\n\u001b[0m\u001b[0;32m      2\u001b[0m \u001b[0mprint\u001b[0m\u001b[1;33m(\u001b[0m\u001b[1;34m\"Best roc_auc {}, precision {} at {}\"\u001b[0m\u001b[1;33m.\u001b[0m\u001b[0mformat\u001b[0m\u001b[1;33m(\u001b[0m\u001b[0mauc\u001b[0m\u001b[1;33m,\u001b[0m \u001b[0mprec\u001b[0m\u001b[1;33m,\u001b[0m \u001b[0mhyperparams\u001b[0m\u001b[1;33m)\u001b[0m\u001b[1;33m)\u001b[0m\u001b[1;33m\u001b[0m\u001b[1;33m\u001b[0m\u001b[0m\n",
      "\u001b[1;32m<ipython-input-251-35de84647679>\u001b[0m in \u001b[0;36mrandom_search\u001b[1;34m(train, test, num_samples, num_threads)\u001b[0m\n\u001b[0;32m     44\u001b[0m \u001b[1;33m\u001b[0m\u001b[0m\n\u001b[0;32m     45\u001b[0m         \u001b[0mmodel\u001b[0m \u001b[1;33m=\u001b[0m \u001b[0mLightFM\u001b[0m\u001b[1;33m(\u001b[0m\u001b[1;33m**\u001b[0m\u001b[0mhyperparams\u001b[0m\u001b[1;33m,\u001b[0m \u001b[0mloss\u001b[0m\u001b[1;33m=\u001b[0m\u001b[1;34m'bpr'\u001b[0m\u001b[1;33m,\u001b[0m \u001b[0mrandom_state\u001b[0m\u001b[1;33m=\u001b[0m\u001b[1;36m1\u001b[0m\u001b[1;33m)\u001b[0m\u001b[1;33m\u001b[0m\u001b[1;33m\u001b[0m\u001b[0m\n\u001b[1;32m---> 46\u001b[1;33m         \u001b[0mmodel\u001b[0m\u001b[1;33m.\u001b[0m\u001b[0mfit\u001b[0m\u001b[1;33m(\u001b[0m\u001b[0mdata\u001b[0m\u001b[1;33m[\u001b[0m\u001b[1;34m'train'\u001b[0m\u001b[1;33m]\u001b[0m\u001b[1;33m,\u001b[0m \u001b[0mepochs\u001b[0m\u001b[1;33m=\u001b[0m\u001b[0mnum_epochs\u001b[0m\u001b[1;33m,\u001b[0m \u001b[0mnum_threads\u001b[0m\u001b[1;33m=\u001b[0m\u001b[0mnum_threads\u001b[0m\u001b[1;33m)\u001b[0m\u001b[1;33m\u001b[0m\u001b[1;33m\u001b[0m\u001b[0m\n\u001b[0m\u001b[0;32m     47\u001b[0m \u001b[1;33m\u001b[0m\u001b[0m\n\u001b[0;32m     48\u001b[0m         \u001b[0mauc\u001b[0m \u001b[1;33m=\u001b[0m \u001b[0mauc_score\u001b[0m\u001b[1;33m(\u001b[0m\u001b[0mmodel\u001b[0m\u001b[1;33m,\u001b[0m \u001b[0mdata\u001b[0m\u001b[1;33m[\u001b[0m\u001b[1;34m'test'\u001b[0m\u001b[1;33m]\u001b[0m\u001b[1;33m,\u001b[0m \u001b[0mtrain_interactions\u001b[0m\u001b[1;33m=\u001b[0m\u001b[0mdata\u001b[0m\u001b[1;33m[\u001b[0m\u001b[1;34m'train'\u001b[0m\u001b[1;33m]\u001b[0m\u001b[1;33m,\u001b[0m \u001b[0mnum_threads\u001b[0m\u001b[1;33m=\u001b[0m\u001b[0mnum_threads\u001b[0m\u001b[1;33m)\u001b[0m\u001b[1;33m.\u001b[0m\u001b[0mmean\u001b[0m\u001b[1;33m(\u001b[0m\u001b[1;33m)\u001b[0m\u001b[1;33m\u001b[0m\u001b[1;33m\u001b[0m\u001b[0m\n",
      "\u001b[1;32mc:\\python39\\lib\\site-packages\\lightfm\\lightfm.py\u001b[0m in \u001b[0;36mfit\u001b[1;34m(self, interactions, user_features, item_features, sample_weight, epochs, num_threads, verbose)\u001b[0m\n\u001b[0;32m    531\u001b[0m         \u001b[0mself\u001b[0m\u001b[1;33m.\u001b[0m\u001b[0m_reset_state\u001b[0m\u001b[1;33m(\u001b[0m\u001b[1;33m)\u001b[0m\u001b[1;33m\u001b[0m\u001b[1;33m\u001b[0m\u001b[0m\n\u001b[0;32m    532\u001b[0m \u001b[1;33m\u001b[0m\u001b[0m\n\u001b[1;32m--> 533\u001b[1;33m         return self.fit_partial(\n\u001b[0m\u001b[0;32m    534\u001b[0m             \u001b[0minteractions\u001b[0m\u001b[1;33m,\u001b[0m\u001b[1;33m\u001b[0m\u001b[1;33m\u001b[0m\u001b[0m\n\u001b[0;32m    535\u001b[0m             \u001b[0muser_features\u001b[0m\u001b[1;33m=\u001b[0m\u001b[0muser_features\u001b[0m\u001b[1;33m,\u001b[0m\u001b[1;33m\u001b[0m\u001b[1;33m\u001b[0m\u001b[0m\n",
      "\u001b[1;32mc:\\python39\\lib\\site-packages\\lightfm\\lightfm.py\u001b[0m in \u001b[0;36mfit_partial\u001b[1;34m(self, interactions, user_features, item_features, sample_weight, epochs, num_threads, verbose)\u001b[0m\n\u001b[0;32m    636\u001b[0m \u001b[1;33m\u001b[0m\u001b[0m\n\u001b[0;32m    637\u001b[0m         \u001b[1;32mfor\u001b[0m \u001b[0m_\u001b[0m \u001b[1;32min\u001b[0m \u001b[0mself\u001b[0m\u001b[1;33m.\u001b[0m\u001b[0m_progress\u001b[0m\u001b[1;33m(\u001b[0m\u001b[0mepochs\u001b[0m\u001b[1;33m,\u001b[0m \u001b[0mverbose\u001b[0m\u001b[1;33m=\u001b[0m\u001b[0mverbose\u001b[0m\u001b[1;33m)\u001b[0m\u001b[1;33m:\u001b[0m\u001b[1;33m\u001b[0m\u001b[1;33m\u001b[0m\u001b[0m\n\u001b[1;32m--> 638\u001b[1;33m             self._run_epoch(\n\u001b[0m\u001b[0;32m    639\u001b[0m                 \u001b[0mitem_features\u001b[0m\u001b[1;33m,\u001b[0m\u001b[1;33m\u001b[0m\u001b[1;33m\u001b[0m\u001b[0m\n\u001b[0;32m    640\u001b[0m                 \u001b[0muser_features\u001b[0m\u001b[1;33m,\u001b[0m\u001b[1;33m\u001b[0m\u001b[1;33m\u001b[0m\u001b[0m\n",
      "\u001b[1;32mc:\\python39\\lib\\site-packages\\lightfm\\lightfm.py\u001b[0m in \u001b[0;36m_run_epoch\u001b[1;34m(self, item_features, user_features, interactions, sample_weight, num_threads, loss)\u001b[0m\n\u001b[0;32m    694\u001b[0m             )\n\u001b[0;32m    695\u001b[0m         \u001b[1;32melif\u001b[0m \u001b[0mloss\u001b[0m \u001b[1;33m==\u001b[0m \u001b[1;34m\"bpr\"\u001b[0m\u001b[1;33m:\u001b[0m\u001b[1;33m\u001b[0m\u001b[1;33m\u001b[0m\u001b[0m\n\u001b[1;32m--> 696\u001b[1;33m             fit_bpr(\n\u001b[0m\u001b[0;32m    697\u001b[0m                 \u001b[0mCSRMatrix\u001b[0m\u001b[1;33m(\u001b[0m\u001b[0mitem_features\u001b[0m\u001b[1;33m)\u001b[0m\u001b[1;33m,\u001b[0m\u001b[1;33m\u001b[0m\u001b[1;33m\u001b[0m\u001b[0m\n\u001b[0;32m    698\u001b[0m                 \u001b[0mCSRMatrix\u001b[0m\u001b[1;33m(\u001b[0m\u001b[0muser_features\u001b[0m\u001b[1;33m)\u001b[0m\u001b[1;33m,\u001b[0m\u001b[1;33m\u001b[0m\u001b[1;33m\u001b[0m\u001b[0m\n",
      "\u001b[1;31mKeyboardInterrupt\u001b[0m: "
     ]
    }
   ],
   "source": [
    "(auc, prec, hyperparams, model) = max(random_search(data['train'], data['test'], num_threads=1), key=lambda x: x[1])\n",
    "print(\"Best roc_auc {}, precision {} at {}\".format(auc, prec, hyperparams))"
   ]
  },
  {
   "cell_type": "code",
   "execution_count": 366,
   "metadata": {
    "colab": {
     "base_uri": "https://localhost:8080/"
    },
    "executionInfo": {
     "elapsed": 19909,
     "status": "ok",
     "timestamp": 1618936972652,
     "user": {
      "displayName": "Yuriy Sosnin",
      "photoUrl": "",
      "userId": "11943109303922880437"
     },
     "user_tz": -180
    },
    "id": "Co7H_IBrIRQg",
    "outputId": "f55d1f51-9502-453d-af5b-f0ec6e42f1d6"
   },
   "outputs": [
    {
     "data": {
      "text/plain": [
       "<lightfm.lightfm.LightFM at 0x7f517dd0b110>"
      ]
     },
     "execution_count": 366,
     "metadata": {
      "tags": []
     },
     "output_type": "execute_result"
    }
   ],
   "source": [
    "model = LightFM(learning_rate=0.05, loss='warp')\n",
    "model.fit(weights, epochs=10)"
   ]
  },
  {
   "cell_type": "markdown",
   "metadata": {},
   "source": [
    "## setup"
   ]
  },
  {
   "cell_type": "code",
   "execution_count": 7,
   "metadata": {},
   "outputs": [],
   "source": [
    "from thisproject import LightFM_Recommender"
   ]
  },
  {
   "cell_type": "code",
   "execution_count": 9,
   "metadata": {},
   "outputs": [
    {
     "data": {
      "text/plain": [
       "<thisproject.LightFM_Recommender at 0x1a989bbafd0>"
      ]
     },
     "execution_count": 9,
     "metadata": {},
     "output_type": "execute_result"
    }
   ],
   "source": [
    "model = LightFM(no_components=100, learning_rate=0.05, loss='bpr', random_state=1)\n",
    "lightfm = LightFM_Recommender()\n",
    "lightfm.fit(ratings, model)"
   ]
  },
  {
   "cell_type": "code",
   "execution_count": 10,
   "metadata": {},
   "outputs": [
    {
     "data": {
      "text/plain": [
       "<thisproject.LightFM_Recommender at 0x1a989bbae80>"
      ]
     },
     "execution_count": 10,
     "metadata": {},
     "output_type": "execute_result"
    }
   ],
   "source": [
    "model = LightFM(no_components=100, learning_rate=0.05, loss='bpr', random_state=1)\n",
    "lightfm_hybrid = LightFM_Recommender()\n",
    "lightfm_hybrid.fit(ratings, model, item_feats = item_features)"
   ]
  },
  {
   "cell_type": "code",
   "execution_count": 13,
   "metadata": {},
   "outputs": [],
   "source": [
    "with open('lightfm.pickle', 'wb') as f:\n",
    "    pickle.dump(lightfm, f)\n",
    "\n",
    "with open('lightfm_hybrid.pickle', 'wb') as f:\n",
    "    pickle.dump(lightfm_hybrid, f)"
   ]
  }
 ],
 "metadata": {
  "colab": {
   "collapsed_sections": [
    "aZmtW0QxFc59",
    "bp5glPyob4X8"
   ],
   "name": "model-selection.ipynb",
   "provenance": [
    {
     "file_id": "10mz0zioz49wsMAB1qeGcv2JhDk5FK-Rn",
     "timestamp": 1617715294379
    },
    {
     "file_id": "/v2/external/notebooks/intro.ipynb",
     "timestamp": 1617111677772
    }
   ],
   "toc_visible": true
  },
  "kernelspec": {
   "display_name": "Python 3",
   "language": "python",
   "name": "python3"
  },
  "language_info": {
   "codemirror_mode": {
    "name": "ipython",
    "version": 3
   },
   "file_extension": ".py",
   "mimetype": "text/x-python",
   "name": "python",
   "nbconvert_exporter": "python",
   "pygments_lexer": "ipython3",
   "version": "3.9.4"
  }
 },
 "nbformat": 4,
 "nbformat_minor": 1
}
