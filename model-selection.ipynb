{
 "cells": [
  {
   "cell_type": "markdown",
   "metadata": {
    "id": "27bSxgcVgnIM"
   },
   "source": [
    "# import"
   ]
  },
  {
   "cell_type": "code",
   "execution_count": 1,
   "metadata": {
    "colab": {
     "base_uri": "https://localhost:8080/"
    },
    "executionInfo": {
     "elapsed": 30747,
     "status": "ok",
     "timestamp": 1618925828981,
     "user": {
      "displayName": "Yuriy Sosnin",
      "photoUrl": "",
      "userId": "11943109303922880437"
     },
     "user_tz": -180
    },
    "id": "f9CgNT1_yBnm",
    "outputId": "dd7e85d1-9298-489b-cacc-98eb46c8aed9"
   },
   "outputs": [
    {
     "name": "stdout",
     "output_type": "stream",
     "text": [
      "Mounted at /content/drive\n"
     ]
    }
   ],
   "source": [
    "from google.colab import drive\n",
    "drive.mount('/content/drive')"
   ]
  },
  {
   "cell_type": "code",
   "execution_count": 205,
   "metadata": {
    "colab": {
     "base_uri": "https://localhost:8080/"
    },
    "executionInfo": {
     "elapsed": 44828,
     "status": "ok",
     "timestamp": 1618925843129,
     "user": {
      "displayName": "Yuriy Sosnin",
      "photoUrl": "",
      "userId": "11943109303922880437"
     },
     "user_tz": -180
    },
    "id": "z-R85g_BYJ-e",
    "outputId": "3d24b277-dade-4bc5-8b8a-30eb2d629c81"
   },
   "outputs": [],
   "source": [
    "#%cd /content/drive/My Drive/Packages\n",
    "\n",
    "import pandas as pd\n",
    "import numpy as np\n",
    "import scipy.sparse as sp\n",
    "import time\n",
    "import copy\n",
    "\n",
    "#%cd /content/drive/My Drive/GitHub/minor-goodbooks-recommender"
   ]
  },
  {
   "cell_type": "code",
   "execution_count": 206,
   "metadata": {
    "colab": {
     "base_uri": "https://localhost:8080/",
     "height": 402
    },
    "executionInfo": {
     "elapsed": 48833,
     "status": "ok",
     "timestamp": 1618925847144,
     "user": {
      "displayName": "Yuriy Sosnin",
      "photoUrl": "",
      "userId": "11943109303922880437"
     },
     "user_tz": -180
    },
    "id": "pk4AFFwoYGzr",
    "outputId": "2a497b71-94c2-4fc1-d72a-6ebbe1cd34b9"
   },
   "outputs": [
    {
     "data": {
      "text/html": [
       "<div>\n",
       "<style scoped>\n",
       "    .dataframe tbody tr th:only-of-type {\n",
       "        vertical-align: middle;\n",
       "    }\n",
       "\n",
       "    .dataframe tbody tr th {\n",
       "        vertical-align: top;\n",
       "    }\n",
       "\n",
       "    .dataframe thead th {\n",
       "        text-align: right;\n",
       "    }\n",
       "</style>\n",
       "<table border=\"1\" class=\"dataframe\">\n",
       "  <thead>\n",
       "    <tr style=\"text-align: right;\">\n",
       "      <th></th>\n",
       "      <th>user_id</th>\n",
       "      <th>book_id</th>\n",
       "      <th>rating</th>\n",
       "    </tr>\n",
       "  </thead>\n",
       "  <tbody>\n",
       "    <tr>\n",
       "      <th>0</th>\n",
       "      <td>1</td>\n",
       "      <td>258</td>\n",
       "      <td>5</td>\n",
       "    </tr>\n",
       "    <tr>\n",
       "      <th>1</th>\n",
       "      <td>2</td>\n",
       "      <td>4081</td>\n",
       "      <td>4</td>\n",
       "    </tr>\n",
       "    <tr>\n",
       "      <th>2</th>\n",
       "      <td>2</td>\n",
       "      <td>260</td>\n",
       "      <td>5</td>\n",
       "    </tr>\n",
       "    <tr>\n",
       "      <th>3</th>\n",
       "      <td>2</td>\n",
       "      <td>9296</td>\n",
       "      <td>5</td>\n",
       "    </tr>\n",
       "    <tr>\n",
       "      <th>4</th>\n",
       "      <td>2</td>\n",
       "      <td>2318</td>\n",
       "      <td>3</td>\n",
       "    </tr>\n",
       "    <tr>\n",
       "      <th>...</th>\n",
       "      <td>...</td>\n",
       "      <td>...</td>\n",
       "      <td>...</td>\n",
       "    </tr>\n",
       "    <tr>\n",
       "      <th>5976474</th>\n",
       "      <td>49925</td>\n",
       "      <td>510</td>\n",
       "      <td>5</td>\n",
       "    </tr>\n",
       "    <tr>\n",
       "      <th>5976475</th>\n",
       "      <td>49925</td>\n",
       "      <td>528</td>\n",
       "      <td>4</td>\n",
       "    </tr>\n",
       "    <tr>\n",
       "      <th>5976476</th>\n",
       "      <td>49925</td>\n",
       "      <td>722</td>\n",
       "      <td>4</td>\n",
       "    </tr>\n",
       "    <tr>\n",
       "      <th>5976477</th>\n",
       "      <td>49925</td>\n",
       "      <td>949</td>\n",
       "      <td>5</td>\n",
       "    </tr>\n",
       "    <tr>\n",
       "      <th>5976478</th>\n",
       "      <td>49925</td>\n",
       "      <td>1023</td>\n",
       "      <td>4</td>\n",
       "    </tr>\n",
       "  </tbody>\n",
       "</table>\n",
       "<p>5976479 rows × 3 columns</p>\n",
       "</div>"
      ],
      "text/plain": [
       "         user_id  book_id  rating\n",
       "0              1      258       5\n",
       "1              2     4081       4\n",
       "2              2      260       5\n",
       "3              2     9296       5\n",
       "4              2     2318       3\n",
       "...          ...      ...     ...\n",
       "5976474    49925      510       5\n",
       "5976475    49925      528       4\n",
       "5976476    49925      722       4\n",
       "5976477    49925      949       5\n",
       "5976478    49925     1023       4\n",
       "\n",
       "[5976479 rows x 3 columns]"
      ]
     },
     "execution_count": 206,
     "metadata": {},
     "output_type": "execute_result"
    }
   ],
   "source": [
    "ratings = pd.read_csv('data/ratings.csv')\n",
    "ratings\n",
    "##too big!"
   ]
  },
  {
   "cell_type": "code",
   "execution_count": 4,
   "metadata": {
    "colab": {
     "base_uri": "https://localhost:8080/"
    },
    "executionInfo": {
     "elapsed": 48824,
     "status": "ok",
     "timestamp": 1618925847145,
     "user": {
      "displayName": "Yuriy Sosnin",
      "photoUrl": "",
      "userId": "11943109303922880437"
     },
     "user_tz": -180
    },
    "id": "RcejLpyzs6CP",
    "outputId": "3ca9b251-86fd-4045-909b-6307e4b87d27"
   },
   "outputs": [
    {
     "data": {
      "text/plain": [
       "53424"
      ]
     },
     "execution_count": 4,
     "metadata": {
      "tags": []
     },
     "output_type": "execute_result"
    }
   ],
   "source": [
    "ratings.user_id.nunique()"
   ]
  },
  {
   "cell_type": "code",
   "execution_count": 5,
   "metadata": {
    "colab": {
     "base_uri": "https://localhost:8080/"
    },
    "executionInfo": {
     "elapsed": 48817,
     "status": "ok",
     "timestamp": 1618925847147,
     "user": {
      "displayName": "Yuriy Sosnin",
      "photoUrl": "",
      "userId": "11943109303922880437"
     },
     "user_tz": -180
    },
    "id": "BVzFuZkJdT-0",
    "outputId": "ef7a9e9c-d80c-4ef3-db84-b0bab5a68223"
   },
   "outputs": [
    {
     "data": {
      "text/plain": [
       "0.011186880428271938"
      ]
     },
     "execution_count": 5,
     "metadata": {
      "tags": []
     },
     "output_type": "execute_result"
    }
   ],
   "source": [
    "def sparsity(df):\n",
    "  return len(df) / (df.user_id.nunique() * df.book_id.nunique())\n",
    "\n",
    "sparsity(ratings)"
   ]
  },
  {
   "cell_type": "code",
   "execution_count": 207,
   "metadata": {
    "colab": {
     "base_uri": "https://localhost:8080/",
     "height": 402
    },
    "executionInfo": {
     "elapsed": 1672,
     "status": "ok",
     "timestamp": 1618940205715,
     "user": {
      "displayName": "Yuriy Sosnin",
      "photoUrl": "",
      "userId": "11943109303922880437"
     },
     "user_tz": -180
    },
    "id": "jQDj6sTvSDtG",
    "outputId": "ddca73ee-7fd8-497b-9899-9abac8a56e73"
   },
   "outputs": [
    {
     "data": {
      "text/html": [
       "<div>\n",
       "<style scoped>\n",
       "    .dataframe tbody tr th:only-of-type {\n",
       "        vertical-align: middle;\n",
       "    }\n",
       "\n",
       "    .dataframe tbody tr th {\n",
       "        vertical-align: top;\n",
       "    }\n",
       "\n",
       "    .dataframe thead th {\n",
       "        text-align: right;\n",
       "    }\n",
       "</style>\n",
       "<table border=\"1\" class=\"dataframe\">\n",
       "  <thead>\n",
       "    <tr style=\"text-align: right;\">\n",
       "      <th></th>\n",
       "      <th>user_id</th>\n",
       "      <th>book_id</th>\n",
       "      <th>rating</th>\n",
       "    </tr>\n",
       "  </thead>\n",
       "  <tbody>\n",
       "    <tr>\n",
       "      <th>629</th>\n",
       "      <td>58</td>\n",
       "      <td>26</td>\n",
       "      <td>1</td>\n",
       "    </tr>\n",
       "    <tr>\n",
       "      <th>630</th>\n",
       "      <td>58</td>\n",
       "      <td>58</td>\n",
       "      <td>4</td>\n",
       "    </tr>\n",
       "    <tr>\n",
       "      <th>631</th>\n",
       "      <td>58</td>\n",
       "      <td>18</td>\n",
       "      <td>5</td>\n",
       "    </tr>\n",
       "    <tr>\n",
       "      <th>632</th>\n",
       "      <td>58</td>\n",
       "      <td>14</td>\n",
       "      <td>3</td>\n",
       "    </tr>\n",
       "    <tr>\n",
       "      <th>633</th>\n",
       "      <td>58</td>\n",
       "      <td>2</td>\n",
       "      <td>3</td>\n",
       "    </tr>\n",
       "    <tr>\n",
       "      <th>...</th>\n",
       "      <td>...</td>\n",
       "      <td>...</td>\n",
       "      <td>...</td>\n",
       "    </tr>\n",
       "    <tr>\n",
       "      <th>5976331</th>\n",
       "      <td>17635</td>\n",
       "      <td>1922</td>\n",
       "      <td>5</td>\n",
       "    </tr>\n",
       "    <tr>\n",
       "      <th>5976455</th>\n",
       "      <td>10622</td>\n",
       "      <td>6810</td>\n",
       "      <td>4</td>\n",
       "    </tr>\n",
       "    <tr>\n",
       "      <th>5976457</th>\n",
       "      <td>10622</td>\n",
       "      <td>610</td>\n",
       "      <td>5</td>\n",
       "    </tr>\n",
       "    <tr>\n",
       "      <th>5976458</th>\n",
       "      <td>53358</td>\n",
       "      <td>253</td>\n",
       "      <td>5</td>\n",
       "    </tr>\n",
       "    <tr>\n",
       "      <th>5976459</th>\n",
       "      <td>53358</td>\n",
       "      <td>695</td>\n",
       "      <td>5</td>\n",
       "    </tr>\n",
       "  </tbody>\n",
       "</table>\n",
       "<p>298176 rows × 3 columns</p>\n",
       "</div>"
      ],
      "text/plain": [
       "         user_id  book_id  rating\n",
       "629           58       26       1\n",
       "630           58       58       4\n",
       "631           58       18       5\n",
       "632           58       14       3\n",
       "633           58        2       3\n",
       "...          ...      ...     ...\n",
       "5976331    17635     1922       5\n",
       "5976455    10622     6810       4\n",
       "5976457    10622      610       5\n",
       "5976458    53358      253       5\n",
       "5976459    53358      695       5\n",
       "\n",
       "[298176 rows x 3 columns]"
      ]
     },
     "execution_count": 207,
     "metadata": {},
     "output_type": "execute_result"
    }
   ],
   "source": [
    "from sklearn.model_selection import train_test_split\n",
    "_, random_users = train_test_split(ratings.user_id.unique(), test_size = 0.05, random_state = 322)\n",
    "\n",
    "ratings_random = ratings.loc[ratings['user_id'].isin(random_users)]\n",
    "ratings_random"
   ]
  },
  {
   "cell_type": "code",
   "execution_count": 7,
   "metadata": {
    "colab": {
     "base_uri": "https://localhost:8080/"
    },
    "executionInfo": {
     "elapsed": 142584,
     "status": "ok",
     "timestamp": 1618925940936,
     "user": {
      "displayName": "Yuriy Sosnin",
      "photoUrl": "",
      "userId": "11943109303922880437"
     },
     "user_tz": -180
    },
    "id": "Ros-fiFfSOuR",
    "outputId": "e4af64db-8531-4306-ae72-fa9fb5348fd2"
   },
   "outputs": [
    {
     "data": {
      "text/plain": [
       "0.011170451889014762"
      ]
     },
     "execution_count": 7,
     "metadata": {
      "tags": []
     },
     "output_type": "execute_result"
    }
   ],
   "source": [
    "sparsity(ratings_random)"
   ]
  },
  {
   "cell_type": "code",
   "execution_count": 8,
   "metadata": {
    "executionInfo": {
     "elapsed": 143439,
     "status": "ok",
     "timestamp": 1618925941794,
     "user": {
      "displayName": "Yuriy Sosnin",
      "photoUrl": "",
      "userId": "11943109303922880437"
     },
     "user_tz": -180
    },
    "id": "1Gl3wUiOAnCI"
   },
   "outputs": [],
   "source": [
    "ratings_random.to_csv('data/ratings_random.csv', index=False)"
   ]
  },
  {
   "cell_type": "code",
   "execution_count": 9,
   "metadata": {
    "colab": {
     "base_uri": "https://localhost:8080/",
     "height": 314
    },
    "executionInfo": {
     "elapsed": 145651,
     "status": "ok",
     "timestamp": 1618925944015,
     "user": {
      "displayName": "Yuriy Sosnin",
      "photoUrl": "",
      "userId": "11943109303922880437"
     },
     "user_tz": -180
    },
    "id": "GLewlMemcJAs",
    "outputId": "f2bac896-3c82-4603-8184-fa3119065b81"
   },
   "outputs": [
    {
     "data": {
      "text/plain": [
       "array([[<matplotlib.axes._subplots.AxesSubplot object at 0x7f51cc5a6b50>]],\n",
       "      dtype=object)"
      ]
     },
     "execution_count": 9,
     "metadata": {
      "tags": []
     },
     "output_type": "execute_result"
    },
    {
     "data": {
      "image/png": "[encoded data removed]",
      "text/plain": [
       "<Figure size 432x288 with 1 Axes>"
      ]
     },
     "metadata": {
      "needs_background": "light",
      "tags": []
     },
     "output_type": "display_data"
    }
   ],
   "source": [
    "ratings.groupby('book_id').aggregate({'rating' : 'count'}).hist(bins=1000)"
   ]
  },
  {
   "cell_type": "code",
   "execution_count": 118,
   "metadata": {
    "executionInfo": {
     "elapsed": 663,
     "status": "ok",
     "timestamp": 1618929851447,
     "user": {
      "displayName": "Yuriy Sosnin",
      "photoUrl": "",
      "userId": "11943109303922880437"
     },
     "user_tz": -180
    },
    "id": "4JTcGAQSkzM6"
   },
   "outputs": [],
   "source": [
    "ratings_train, ratings_test = train_test_split(ratings_random, test_size = 0.2, random_state = 322)"
   ]
  },
  {
   "cell_type": "code",
   "execution_count": null,
   "metadata": {
    "id": "0ytPKGVpkEgL"
   },
   "outputs": [],
   "source": []
  },
  {
   "cell_type": "markdown",
   "metadata": {
    "id": "PTIaVSlWbULV"
   },
   "source": [
    "# surprise"
   ]
  },
  {
   "cell_type": "code",
   "execution_count": 11,
   "metadata": {
    "colab": {
     "base_uri": "https://localhost:8080/"
    },
    "executionInfo": {
     "elapsed": 178858,
     "status": "ok",
     "timestamp": 1618925977234,
     "user": {
      "displayName": "Yuriy Sosnin",
      "photoUrl": "",
      "userId": "11943109303922880437"
     },
     "user_tz": -180
    },
    "id": "Uy1w9-r6qNv6",
    "outputId": "e79b76c7-8bb5-4a54-b4a3-67fb94889e16"
   },
   "outputs": [
    {
     "name": "stdout",
     "output_type": "stream",
     "text": [
      "Collecting surprise\n",
      "  Downloading https://files.pythonhosted.org/packages/61/de/e5cba8682201fcf9c3719a6fdda95693468ed061945493dea2dd37c5618b/surprise-0.1-py2.py3-none-any.whl\n",
      "Collecting scikit-surprise\n",
      "\u001b[?25l  Downloading https://files.pythonhosted.org/packages/97/37/5d334adaf5ddd65da99fc65f6507e0e4599d092ba048f4302fe8775619e8/scikit-surprise-1.1.1.tar.gz (11.8MB)\n",
      "\u001b[K     |████████████████████████████████| 11.8MB 17.7MB/s \n",
      "\u001b[?25hRequirement already satisfied: joblib>=0.11 in /usr/local/lib/python3.7/dist-packages (from scikit-surprise->surprise) (1.0.1)\n",
      "Requirement already satisfied: numpy>=1.11.2 in /usr/local/lib/python3.7/dist-packages (from scikit-surprise->surprise) (1.19.5)\n",
      "Requirement already satisfied: scipy>=1.0.0 in /usr/local/lib/python3.7/dist-packages (from scikit-surprise->surprise) (1.4.1)\n",
      "Requirement already satisfied: six>=1.10.0 in /usr/local/lib/python3.7/dist-packages (from scikit-surprise->surprise) (1.15.0)\n",
      "Building wheels for collected packages: scikit-surprise\n",
      "  Building wheel for scikit-surprise (setup.py) ... \u001b[?25l\u001b[?25hdone\n",
      "  Created wheel for scikit-surprise: filename=scikit_surprise-1.1.1-cp37-cp37m-linux_x86_64.whl size=1617566 sha256=9ff4869673c1924f844a665949d48e1ffe46319c4f94639edf9a882e0d9b12de\n",
      "  Stored in directory: /root/.cache/pip/wheels/78/9c/3d/41b419c9d2aff5b6e2b4c0fc8d25c538202834058f9ed110d0\n",
      "Successfully built scikit-surprise\n",
      "Installing collected packages: scikit-surprise, surprise\n",
      "Successfully installed scikit-surprise-1.1.1 surprise-0.1\n"
     ]
    }
   ],
   "source": [
    "!pip install surprise"
   ]
  },
  {
   "cell_type": "code",
   "execution_count": 12,
   "metadata": {
    "colab": {
     "base_uri": "https://localhost:8080/"
    },
    "executionInfo": {
     "elapsed": 184924,
     "status": "ok",
     "timestamp": 1618925983308,
     "user": {
      "displayName": "Yuriy Sosnin",
      "photoUrl": "",
      "userId": "11943109303922880437"
     },
     "user_tz": -180
    },
    "id": "Uq4dVmvFgNff",
    "outputId": "75e6d0fa-1cca-4f19-f9f8-d3f9c11483ce"
   },
   "outputs": [
    {
     "name": "stdout",
     "output_type": "stream",
     "text": [
      "/content/drive/My Drive/Packages\n",
      "/content/drive/My Drive/GitHub/minor-goodbooks-recommender\n"
     ]
    }
   ],
   "source": [
    "%cd /content/drive/My Drive/Packages\n",
    "\n",
    "from surprise import Reader, Dataset\n",
    "from surprise.model_selection import KFold, GridSearchCV\n",
    "from surprise import accuracy\n",
    "from surprise.model_selection.validation import cross_validate\n",
    "from surprise import NormalPredictor, KNNWithMeans, KNNWithZScore, SVD, SVDpp\n",
    "\n",
    "%cd /content/drive/My Drive/GitHub/minor-goodbooks-recommender"
   ]
  },
  {
   "cell_type": "code",
   "execution_count": 13,
   "metadata": {
    "executionInfo": {
     "elapsed": 185277,
     "status": "ok",
     "timestamp": 1618925983663,
     "user": {
      "displayName": "Yuriy Sosnin",
      "photoUrl": "",
      "userId": "11943109303922880437"
     },
     "user_tz": -180
    },
    "id": "u5Qn9to8xfMs"
   },
   "outputs": [],
   "source": [
    "reader = Reader(rating_scale=(1, 5))\n",
    "data = Dataset.load_from_df(ratings_random, reader)"
   ]
  },
  {
   "cell_type": "code",
   "execution_count": 14,
   "metadata": {
    "executionInfo": {
     "elapsed": 185735,
     "status": "ok",
     "timestamp": 1618925984123,
     "user": {
      "displayName": "Yuriy Sosnin",
      "photoUrl": "",
      "userId": "11943109303922880437"
     },
     "user_tz": -180
    },
    "id": "h0Jx2uGvaft1"
   },
   "outputs": [],
   "source": [
    "data_train, data_test = Dataset.load_from_df(ratings_train, reader).build_full_trainset(), Dataset.load_from_df(ratings_test, reader)"
   ]
  },
  {
   "cell_type": "code",
   "execution_count": 15,
   "metadata": {
    "executionInfo": {
     "elapsed": 186646,
     "status": "ok",
     "timestamp": 1618925985036,
     "user": {
      "displayName": "Yuriy Sosnin",
      "photoUrl": "",
      "userId": "11943109303922880437"
     },
     "user_tz": -180
    },
    "id": "xLJ6UphgykSt"
   },
   "outputs": [],
   "source": [
    "data_full = Dataset.load_from_df(ratings_random, reader).build_full_trainset()"
   ]
  },
  {
   "cell_type": "code",
   "execution_count": 16,
   "metadata": {
    "executionInfo": {
     "elapsed": 186647,
     "status": "ok",
     "timestamp": 1618925985038,
     "user": {
      "displayName": "Yuriy Sosnin",
      "photoUrl": "",
      "userId": "11943109303922880437"
     },
     "user_tz": -180
    },
    "id": "M2-zZZGBgP-u"
   },
   "outputs": [],
   "source": [
    "#from surprise.model_selection.split import train_test_split as surprise_train_test_split\n",
    "#data_train, data_test = surprise_train_test_split(data)"
   ]
  },
  {
   "cell_type": "code",
   "execution_count": 17,
   "metadata": {
    "executionInfo": {
     "elapsed": 584,
     "status": "ok",
     "timestamp": 1618925985634,
     "user": {
      "displayName": "Yuriy Sosnin",
      "photoUrl": "",
      "userId": "11943109303922880437"
     },
     "user_tz": -180
    },
    "id": "aU_Jfpc3pkqD"
   },
   "outputs": [],
   "source": [
    "kf = KFold(n_splits=5, random_state = 322)"
   ]
  },
  {
   "cell_type": "code",
   "execution_count": 18,
   "metadata": {
    "executionInfo": {
     "elapsed": 575,
     "status": "ok",
     "timestamp": 1618925985636,
     "user": {
      "displayName": "Yuriy Sosnin",
      "photoUrl": "",
      "userId": "11943109303922880437"
     },
     "user_tz": -180
    },
    "id": "NZytxBdtaOTf"
   },
   "outputs": [],
   "source": [
    "def cross_val_score(estimator, X, scoring=None, cv=None):\n",
    "  cvres_random = cross_validate(estimator, X, cv=cv, measures = [scoring])\n",
    "  return cvres_random[f'test_{scoring}']"
   ]
  },
  {
   "cell_type": "code",
   "execution_count": null,
   "metadata": {
    "colab": {
     "base_uri": "https://localhost:8080/"
    },
    "executionInfo": {
     "elapsed": 9929,
     "status": "ok",
     "timestamp": 1618911931354,
     "user": {
      "displayName": "Yuriy Sosnin",
      "photoUrl": "",
      "userId": "11943109303922880437"
     },
     "user_tz": -180
    },
    "id": "cCnvTU0bigkA",
    "outputId": "55c23448-fb53-476d-ec6d-812ea2f4f3c7"
   },
   "outputs": [
    {
     "data": {
      "text/plain": [
       "1.331807934109479"
      ]
     },
     "execution_count": 23,
     "metadata": {
      "tags": []
     },
     "output_type": "execute_result"
    }
   ],
   "source": [
    "alg_random = NormalPredictor()\n",
    "\n",
    "cross_val_score(alg_random, data, cv=5, scoring = 'rmse').mean()"
   ]
  },
  {
   "cell_type": "code",
   "execution_count": null,
   "metadata": {
    "colab": {
     "base_uri": "https://localhost:8080/"
    },
    "executionInfo": {
     "elapsed": 57439,
     "status": "ok",
     "timestamp": 1618912002047,
     "user": {
      "displayName": "Yuriy Sosnin",
      "photoUrl": "",
      "userId": "11943109303922880437"
     },
     "user_tz": -180
    },
    "id": "RpbJ7PCuzCIp",
    "outputId": "b7de486b-e687-447a-8453-979dcc66d7b4"
   },
   "outputs": [
    {
     "name": "stdout",
     "output_type": "stream",
     "text": [
      "0.9174599862505092\n",
      "56.99207329750061\n"
     ]
    }
   ],
   "source": [
    "start = time.time()\n",
    "alg_knn = KNNWithMeans(k=5, verbose=False)\n",
    "\n",
    "print(cross_val_score(alg_knn, data, cv=5, scoring = 'rmse').mean())\n",
    "print(time.time()-start)"
   ]
  },
  {
   "cell_type": "code",
   "execution_count": null,
   "metadata": {
    "colab": {
     "base_uri": "https://localhost:8080/"
    },
    "executionInfo": {
     "elapsed": 60035,
     "status": "ok",
     "timestamp": 1618912086860,
     "user": {
      "displayName": "Yuriy Sosnin",
      "photoUrl": "",
      "userId": "11943109303922880437"
     },
     "user_tz": -180
    },
    "id": "Jg8pFaIZcBlf",
    "outputId": "424482b2-5d0f-43e2-c095-ebde780b5778"
   },
   "outputs": [
    {
     "name": "stdout",
     "output_type": "stream",
     "text": [
      "0.9284487040641028\n",
      "59.418858766555786\n"
     ]
    }
   ],
   "source": [
    "start = time.time()\n",
    "\n",
    "alg_knn_z = KNNWithZScore(k=5, verbose=False)\n",
    "\n",
    "print(cross_val_score(alg_knn_z, data, cv=5, scoring = 'rmse').mean())\n",
    "print(time.time()-start)"
   ]
  },
  {
   "cell_type": "code",
   "execution_count": null,
   "metadata": {
    "colab": {
     "base_uri": "https://localhost:8080/"
    },
    "executionInfo": {
     "elapsed": 4747104,
     "status": "ok",
     "timestamp": 1618916849043,
     "user": {
      "displayName": "Yuriy Sosnin",
      "photoUrl": "",
      "userId": "11943109303922880437"
     },
     "user_tz": -180
    },
    "id": "fcXmS7SlOJUZ",
    "outputId": "91497621-1ebc-42ab-9a4d-ee5f85b5c58a"
   },
   "outputs": [
    {
     "name": "stdout",
     "output_type": "stream",
     "text": [
      "0.8916482192016723\n",
      "{'k': 9, 'sim_options': {'name': 'msd', 'user_based': True}, 'verbose': False}\n"
     ]
    }
   ],
   "source": [
    "param_grid = {'k': range(1, 10),\n",
    "              'sim_options': {'name': ['msd', 'cosine', 'pearson'],\n",
    "                              'user_based': [False, True]},\n",
    "              'verbose' : [False]\n",
    "              }\n",
    "\n",
    "gs = GridSearchCV(KNNWithMeans, param_grid, measures=['rmse'], cv=kf)\n",
    "gs.fit(data)\n",
    "\n",
    "print(gs.best_score['rmse'])\n",
    "print(gs.best_params['rmse'])"
   ]
  },
  {
   "cell_type": "code",
   "execution_count": null,
   "metadata": {
    "colab": {
     "background_save": true
    },
    "id": "YXLozl7iroTy",
    "outputId": "651d252c-d5d4-4610-ec24-64aa29412d6b"
   },
   "outputs": [
    {
     "name": "stdout",
     "output_type": "stream",
     "text": [
      "0.8957300167589836\n",
      "{'k': 9, 'sim_options': {'name': 'msd', 'user_based': True}, 'verbose': False}\n"
     ]
    }
   ],
   "source": [
    "param_grid = {'k': range(1, 10),\n",
    "              'sim_options': {'name': ['msd', 'cosine', 'pearson'],\n",
    "                              'user_based': [False, True]},\n",
    "              'verbose' : [False]\n",
    "              }\n",
    "\n",
    "gsz = GridSearchCV(KNNWithZScore, param_grid, measures=['rmse'], cv=kf)\n",
    "gsz.fit(data)\n",
    "\n",
    "print(gsz.best_score['rmse'])\n",
    "print(gsz.best_params['rmse'])"
   ]
  },
  {
   "cell_type": "code",
   "execution_count": 19,
   "metadata": {
    "colab": {
     "base_uri": "https://localhost:8080/"
    },
    "executionInfo": {
     "elapsed": 545108,
     "status": "ok",
     "timestamp": 1618926530173,
     "user": {
      "displayName": "Yuriy Sosnin",
      "photoUrl": "",
      "userId": "11943109303922880437"
     },
     "user_tz": -180
    },
    "id": "nvqgfR2VfEmT",
    "outputId": "c10ead7a-8869-42c3-9e4b-b1519dd8cf0e"
   },
   "outputs": [
    {
     "name": "stdout",
     "output_type": "stream",
     "text": [
      "0.8682623628854061\n",
      "{'n_factors': 20, 'verbose': False}\n"
     ]
    }
   ],
   "source": [
    "param_grid_svd = {'n_factors': range(10,110,10),\n",
    "                  'verbose' : [False]\n",
    "              }\n",
    "\n",
    "gssvd = GridSearchCV(SVD, param_grid_svd, measures=['rmse'], cv=kf)\n",
    "gssvd.fit(data)\n",
    "\n",
    "print(gssvd.best_score['rmse'])\n",
    "print(gssvd.best_params['rmse'])"
   ]
  },
  {
   "cell_type": "code",
   "execution_count": null,
   "metadata": {
    "id": "6g7BRwvcjaAt"
   },
   "outputs": [],
   "source": [
    "param_grid_svdpp = {'n_factors': range(10,50,4),\n",
    "                  'verbose' : [False]\n",
    "              }\n",
    "\n",
    "gssvdpp = GridSearchCV(SVDpp, param_grid_svdpp, measures=['rmse'], cv=kf)\n",
    "gssvdpp.fit(data)\n",
    "\n",
    "print(gssvdpp.best_score['rmse'])\n",
    "print(gssvdpp.best_params['rmse'])"
   ]
  },
  {
   "cell_type": "markdown",
   "metadata": {
    "id": "aZmtW0QxFc59"
   },
   "source": [
    "# recall presision"
   ]
  },
  {
   "cell_type": "code",
   "execution_count": null,
   "metadata": {
    "id": "pkIEZ48Q_rFr"
   },
   "outputs": [],
   "source": [
    "def predcit_list(algo, user_id, n=5, verbose=False):\n",
    "  start = time.time()\n",
    "  data_pred = data.build_full_trainset()\n",
    "  algo.fit(data_pred)\n",
    "\n",
    "  recs = pd.DataFrame({'book_id' : [], 'predicted_rating' : []})\n",
    "  for id in ratings_random.book_id.unique():\n",
    "    rat = algo.predict(user_id, id).est\n",
    "    #print(rat)\n",
    "    recs = recs.append({'book_id' : id, 'predicted_rating' : rat}, ignore_index=True)\n",
    "    #print(recs)\n",
    "\n",
    "  result = recs.loc[~recs['book_id'].isin(ratings_random.loc[ratings_random['user_id']==user_id].book_id)].sort_values('predicted_rating', ascending = False)\n",
    "  if verbose == True:\n",
    "    print('Seconds: ', time.time()-start)\n",
    "  return result"
   ]
  },
  {
   "cell_type": "code",
   "execution_count": null,
   "metadata": {
    "id": "PAaOQZSarz4Z"
   },
   "outputs": [],
   "source": [
    "def recommend_list(user_ratings, ratings_data, algorithm, k=10, verbose = False, remove_rated = True):\n",
    "  start = time.time()\n",
    "\n",
    "  reader = Reader(rating_scale=(1, 5))\n",
    "  data = Dataset.load_from_df(ratings_data, reader)\n",
    "  data_full = Dataset.load_from_df(ratings_data.append(user_ratings), reader).build_full_trainset()\n",
    "\n",
    "  algorithm.fit(data_full)\n",
    "\n",
    "  preds = []\n",
    "  for i in range(1, 9901):\n",
    "    preds.append(algorithm.predict(user_ratings.user_id.unique()[0], i).est)\n",
    "  \n",
    "  recs = pd.DataFrame({'book_id' : range(1,9901), 'estimated_rating' : preds})\n",
    "  if remove_rated:\n",
    "    recs = recs.loc[~recs['book_id'].isin(user_ratings['book_id'])]\n",
    "  recs = recs.sort_values('estimated_rating', ascending = False).head(k)\n",
    "  if verbose:\n",
    "    print('Seconds: ', time.time()-start)\n",
    "\n",
    "  return recs"
   ]
  },
  {
   "cell_type": "code",
   "execution_count": null,
   "metadata": {
    "id": "9M4ac9KzAUQr"
   },
   "outputs": [],
   "source": [
    "algo_test = KNNWithMeans(k=9, verbose=False)\n",
    "recommend_list(ratings.loc[ratings['user_id']==1], ratings_random, algo_test, verbose=True, remove_rated=False)"
   ]
  },
  {
   "cell_type": "code",
   "execution_count": null,
   "metadata": {
    "id": "IJs-s4cdSvZu"
   },
   "outputs": [],
   "source": [
    "algo_test = SVD(n_factors=20, verbose=False)\n",
    "recommend_list(ratings.loc[ratings['user_id']==1], ratings_random, algo_test, verbose=True, remove_rated=False)"
   ]
  },
  {
   "cell_type": "code",
   "execution_count": null,
   "metadata": {
    "id": "8AHlIzBRFf4o"
   },
   "outputs": [],
   "source": [
    "def precision_recall_at_k(predictions, k=10, threshold=3.5):\n",
    "    \"\"\"Return precision and recall at k metrics for each user\"\"\"\n",
    "\n",
    "    # First map the predictions to each user.\n",
    "    from collections import defaultdict\n",
    "    user_est_true = defaultdict(list)\n",
    "    for uid, _, true_r, est, _ in predictions:\n",
    "        user_est_true[uid].append((est, true_r))\n",
    "\n",
    "    precisions = dict()\n",
    "    recalls = dict()\n",
    "    for uid, user_ratings in user_est_true.items():\n",
    "\n",
    "        # Sort user ratings by estimated value\n",
    "        user_ratings.sort(key=lambda x: x[0], reverse=True)\n",
    "\n",
    "        # Number of relevant items\n",
    "        n_rel = sum((true_r >= threshold) for (_, true_r) in user_ratings)\n",
    "\n",
    "        # Number of recommended items in top k\n",
    "        n_rec_k = sum((est >= threshold) for (est, _) in user_ratings[:k])\n",
    "\n",
    "        # Number of relevant and recommended items in top k\n",
    "        n_rel_and_rec_k = sum(((true_r >= threshold) and (est >= threshold))\n",
    "                              for (est, true_r) in user_ratings[:k])\n",
    "\n",
    "        # Precision@K: Proportion of recommended items that are relevant\n",
    "        # When n_rec_k is 0, Precision is undefined. We here set it to 0.\n",
    "\n",
    "        precisions[uid] = n_rel_and_rec_k / n_rec_k if n_rec_k != 0 else 0\n",
    "\n",
    "        # Recall@K: Proportion of relevant items that are recommended\n",
    "        # When n_rel is 0, Recall is undefined. We here set it to 0.\n",
    "\n",
    "        recalls[uid] = n_rel_and_rec_k / n_rel if n_rel != 0 else 0\n",
    "\n",
    "    return precisions, recalls"
   ]
  },
  {
   "cell_type": "code",
   "execution_count": null,
   "metadata": {
    "id": "dnSowFX8t1gz"
   },
   "outputs": [],
   "source": [
    "def precision_at_k(rec_list, )"
   ]
  },
  {
   "cell_type": "code",
   "execution_count": null,
   "metadata": {
    "id": "X-8j9RcRJ44Y"
   },
   "outputs": [],
   "source": [
    "algo = KNNWithMeans(k=9, verbose=False)\n",
    "\n",
    "algo.fit(data_train)\n",
    "predictions = algo.test(data_test)\n",
    "precisions, recalls = precision_recall_at_k(predictions, k=10, threshold=4)\n",
    "\n",
    "print(sum(prec for prec in precisions.values()) / len(precisions))\n",
    "print(sum(rec for rec in recalls.values()) / len(recalls))"
   ]
  },
  {
   "cell_type": "code",
   "execution_count": null,
   "metadata": {
    "id": "rZ9wTQ6jKNc0"
   },
   "outputs": [],
   "source": [
    "algo_svd = SVD(n_factors=20, verbose=False)\n",
    "\n",
    "algo_svd.fit(data_train)\n",
    "predictions = algo_svd.test(data_test)\n",
    "precisions, recalls = precision_recall_at_k(predictions, k=5, threshold=4)\n",
    "\n",
    "print(sum(prec for prec in precisions.values()) / len(precisions))\n",
    "print(sum(rec for rec in recalls.values()) / len(recalls))"
   ]
  },
  {
   "cell_type": "markdown",
   "metadata": {
    "id": "bp5glPyob4X8"
   },
   "source": [
    "# spotlight"
   ]
  },
  {
   "cell_type": "code",
   "execution_count": 489,
   "metadata": {
    "colab": {
     "base_uri": "https://localhost:8080/"
    },
    "executionInfo": {
     "elapsed": 5714,
     "status": "ok",
     "timestamp": 1618942304613,
     "user": {
      "displayName": "Yuriy Sosnin",
      "photoUrl": "",
      "userId": "11943109303922880437"
     },
     "user_tz": -180
    },
    "id": "ZXEjlihuhMWI",
    "outputId": "3e16a3c5-cad7-4943-e5ec-8f616380495a"
   },
   "outputs": [
    {
     "name": "stdout",
     "output_type": "stream",
     "text": [
      "Collecting spotlight\n",
      "  Cloning https://github.com/maciejkula/spotlight.git (to revision master) to /tmp/pip-install-vx4wvgzg/spotlight\n",
      "  Running command git clone -q https://github.com/maciejkula/spotlight.git /tmp/pip-install-vx4wvgzg/spotlight\n",
      "Requirement already satisfied: torch>=0.4.0 in /usr/local/lib/python3.7/dist-packages (from spotlight) (1.8.1+cu101)\n",
      "Requirement already satisfied: numpy in /usr/local/lib/python3.7/dist-packages (from torch>=0.4.0->spotlight) (1.19.5)\n",
      "Requirement already satisfied: typing-extensions in /usr/local/lib/python3.7/dist-packages (from torch>=0.4.0->spotlight) (3.7.4.3)\n",
      "Building wheels for collected packages: spotlight\n",
      "  Building wheel for spotlight (setup.py) ... \u001b[?25l\u001b[?25hdone\n",
      "  Created wheel for spotlight: filename=spotlight-0.1.6-cp37-none-any.whl size=33921 sha256=5f68efd97db0b7b80889fb63c1086510c2e95bf44fe883b80b0819ef455ea7a2\n",
      "  Stored in directory: /tmp/pip-ephem-wheel-cache-4bk4q3qb/wheels/de/0f/85/71b17c59d32cb9d29c31d4ffb16eb14f4cc153f1e28c7a3efb\n",
      "Successfully built spotlight\n",
      "\u001b[31mERROR: Operation cancelled by user\u001b[0m\n",
      "Traceback (most recent call last):\n",
      "  File \"/usr/local/lib/python3.7/dist-packages/pip/_vendor/pkg_resources/__init__.py\", line 3021, in _dep_map\n",
      "    return self.__dep_map\n",
      "  File \"/usr/local/lib/python3.7/dist-packages/pip/_vendor/pkg_resources/__init__.py\", line 2815, in __getattr__\n",
      "    raise AttributeError(attr)\n",
      "AttributeError: _DistInfoDistribution__dep_map\n",
      "\n",
      "During handling of the above exception, another exception occurred:\n",
      "\n",
      "Traceback (most recent call last):\n",
      "  File \"/usr/local/lib/python3.7/dist-packages/pip/_internal/cli/base_command.py\", line 153, in _main\n",
      "    status = self.run(options, args)\n",
      "  File \"/usr/local/lib/python3.7/dist-packages/pip/_internal/commands/install.py\", line 438, in run\n",
      "    self._warn_about_conflicts(to_install)\n",
      "  File \"/usr/local/lib/python3.7/dist-packages/pip/_internal/commands/install.py\", line 568, in _warn_about_conflicts\n",
      "    package_set, _dep_info = check_install_conflicts(to_install)\n",
      "  File \"/usr/local/lib/python3.7/dist-packages/pip/_internal/operations/check.py\", line 114, in check_install_conflicts\n",
      "    package_set, _ = create_package_set_from_installed()\n",
      "  File \"/usr/local/lib/python3.7/dist-packages/pip/_internal/operations/check.py\", line 53, in create_package_set_from_installed\n",
      "    package_set[name] = PackageDetails(dist.version, dist.requires())\n",
      "  File \"/usr/local/lib/python3.7/dist-packages/pip/_vendor/pkg_resources/__init__.py\", line 2736, in requires\n",
      "    dm = self._dep_map\n",
      "  File \"/usr/local/lib/python3.7/dist-packages/pip/_vendor/pkg_resources/__init__.py\", line 3023, in _dep_map\n",
      "    self.__dep_map = self._compute_dependencies()\n",
      "  File \"/usr/local/lib/python3.7/dist-packages/pip/_vendor/pkg_resources/__init__.py\", line 3033, in _compute_dependencies\n",
      "    reqs.extend(parse_requirements(req))\n",
      "  File \"/usr/local/lib/python3.7/dist-packages/pip/_vendor/pkg_resources/__init__.py\", line 3094, in parse_requirements\n",
      "    yield Requirement(line)\n",
      "  File \"/usr/local/lib/python3.7/dist-packages/pip/_vendor/pkg_resources/__init__.py\", line 3101, in __init__\n",
      "    super(Requirement, self).__init__(requirement_string)\n",
      "  File \"/usr/local/lib/python3.7/dist-packages/pip/_vendor/packaging/requirements.py\", line 93, in __init__\n",
      "    req = REQUIREMENT.parseString(requirement_string)\n",
      "  File \"/usr/local/lib/python3.7/dist-packages/pip/_vendor/pyparsing.py\", line 1929, in parseString\n",
      "    loc, tokens = self._parse(instring, 0)\n",
      "  File \"/usr/local/lib/python3.7/dist-packages/pip/_vendor/pyparsing.py\", line 1669, in _parseNoCache\n",
      "    loc, tokens = self.parseImpl(instring, preloc, doActions)\n",
      "  File \"/usr/local/lib/python3.7/dist-packages/pip/_vendor/pyparsing.py\", line 4037, in parseImpl\n",
      "    loc, exprtokens = e._parse(instring, loc, doActions)\n",
      "  File \"/usr/local/lib/python3.7/dist-packages/pip/_vendor/pyparsing.py\", line 1669, in _parseNoCache\n",
      "    loc, tokens = self.parseImpl(instring, preloc, doActions)\n",
      "  File \"/usr/local/lib/python3.7/dist-packages/pip/_vendor/pyparsing.py\", line 4222, in parseImpl\n",
      "    ret = e._parse(instring, loc, doActions)\n",
      "  File \"/usr/local/lib/python3.7/dist-packages/pip/_vendor/pyparsing.py\", line 1669, in _parseNoCache\n",
      "    loc, tokens = self.parseImpl(instring, preloc, doActions)\n",
      "  File \"/usr/local/lib/python3.7/dist-packages/pip/_vendor/pyparsing.py\", line 4037, in parseImpl\n",
      "    loc, exprtokens = e._parse(instring, loc, doActions)\n",
      "  File \"/usr/local/lib/python3.7/dist-packages/pip/_vendor/pyparsing.py\", line 1669, in _parseNoCache\n",
      "    loc, tokens = self.parseImpl(instring, preloc, doActions)\n",
      "  File \"/usr/local/lib/python3.7/dist-packages/pip/_vendor/pyparsing.py\", line 4817, in parseImpl\n",
      "    loc, tokens = self.expr._parse(instring, loc, doActions, callPreParse=False)\n",
      "  File \"/usr/local/lib/python3.7/dist-packages/pip/_vendor/pyparsing.py\", line 1669, in _parseNoCache\n",
      "    loc, tokens = self.parseImpl(instring, preloc, doActions)\n",
      "  File \"/usr/local/lib/python3.7/dist-packages/pip/_vendor/pyparsing.py\", line 4037, in parseImpl\n",
      "    loc, exprtokens = e._parse(instring, loc, doActions)\n",
      "  File \"/usr/local/lib/python3.7/dist-packages/pip/_vendor/pyparsing.py\", line 1702, in _parseNoCache\n",
      "    tokens = fn(instring, tokensStart, retTokens)\n",
      "  File \"/usr/local/lib/python3.7/dist-packages/pip/_vendor/pyparsing.py\", line 1308, in wrapper\n",
      "    ret = func(*args[limit[0]:])\n",
      "  File \"/usr/local/lib/python3.7/dist-packages/pip/_vendor/packaging/requirements.py\", line 62, in <lambda>\n",
      "    lambda s, l, t: Marker(s[t._original_start : t._original_end])\n",
      "  File \"/usr/local/lib/python3.7/dist-packages/pip/_vendor/packaging/markers.py\", line 270, in __init__\n",
      "    self._markers = _coerce_parse_result(MARKER.parseString(marker))\n",
      "  File \"/usr/local/lib/python3.7/dist-packages/pip/_vendor/pyparsing.py\", line 1929, in parseString\n",
      "    loc, tokens = self._parse(instring, 0)\n",
      "  File \"/usr/local/lib/python3.7/dist-packages/pip/_vendor/pyparsing.py\", line 1669, in _parseNoCache\n",
      "    loc, tokens = self.parseImpl(instring, preloc, doActions)\n",
      "  File \"/usr/local/lib/python3.7/dist-packages/pip/_vendor/pyparsing.py\", line 4037, in parseImpl\n",
      "    loc, exprtokens = e._parse(instring, loc, doActions)\n",
      "  File \"/usr/local/lib/python3.7/dist-packages/pip/_vendor/pyparsing.py\", line 1669, in _parseNoCache\n",
      "    loc, tokens = self.parseImpl(instring, preloc, doActions)\n",
      "  File \"/usr/local/lib/python3.7/dist-packages/pip/_vendor/pyparsing.py\", line 4430, in parseImpl\n",
      "    return self.expr._parse(instring, loc, doActions, callPreParse=False)\n",
      "  File \"/usr/local/lib/python3.7/dist-packages/pip/_vendor/pyparsing.py\", line 1669, in _parseNoCache\n",
      "    loc, tokens = self.parseImpl(instring, preloc, doActions)\n",
      "  File \"/usr/local/lib/python3.7/dist-packages/pip/_vendor/pyparsing.py\", line 4020, in parseImpl\n",
      "    loc, resultlist = self.exprs[0]._parse(instring, loc, doActions, callPreParse=False)\n",
      "  File \"/usr/local/lib/python3.7/dist-packages/pip/_vendor/pyparsing.py\", line 1669, in _parseNoCache\n",
      "    loc, tokens = self.parseImpl(instring, preloc, doActions)\n",
      "  File \"/usr/local/lib/python3.7/dist-packages/pip/_vendor/pyparsing.py\", line 4222, in parseImpl\n",
      "    ret = e._parse(instring, loc, doActions)\n",
      "  File \"/usr/local/lib/python3.7/dist-packages/pip/_vendor/pyparsing.py\", line 1669, in _parseNoCache\n",
      "    loc, tokens = self.parseImpl(instring, preloc, doActions)\n",
      "  File \"/usr/local/lib/python3.7/dist-packages/pip/_vendor/pyparsing.py\", line 4430, in parseImpl\n",
      "    return self.expr._parse(instring, loc, doActions, callPreParse=False)\n",
      "  File \"/usr/local/lib/python3.7/dist-packages/pip/_vendor/pyparsing.py\", line 1669, in _parseNoCache\n",
      "    loc, tokens = self.parseImpl(instring, preloc, doActions)\n",
      "  File \"/usr/local/lib/python3.7/dist-packages/pip/_vendor/pyparsing.py\", line 4020, in parseImpl\n",
      "    loc, resultlist = self.exprs[0]._parse(instring, loc, doActions, callPreParse=False)\n",
      "  File \"/usr/local/lib/python3.7/dist-packages/pip/_vendor/pyparsing.py\", line 1669, in _parseNoCache\n",
      "    loc, tokens = self.parseImpl(instring, preloc, doActions)\n",
      "  File \"/usr/local/lib/python3.7/dist-packages/pip/_vendor/pyparsing.py\", line 4222, in parseImpl\n",
      "    ret = e._parse(instring, loc, doActions)\n",
      "  File \"/usr/local/lib/python3.7/dist-packages/pip/_vendor/pyparsing.py\", line 1669, in _parseNoCache\n",
      "    loc, tokens = self.parseImpl(instring, preloc, doActions)\n",
      "  File \"/usr/local/lib/python3.7/dist-packages/pip/_vendor/pyparsing.py\", line 4222, in parseImpl\n",
      "    ret = e._parse(instring, loc, doActions)\n",
      "  File \"/usr/local/lib/python3.7/dist-packages/pip/_vendor/pyparsing.py\", line 1663, in _parseNoCache\n",
      "    preloc = self.preParse(instring, loc)\n",
      "  File \"/usr/local/lib/python3.7/dist-packages/pip/_vendor/pyparsing.py\", line 1620, in preParse\n",
      "    instrlen = len(instring)\n",
      "KeyboardInterrupt\n",
      "\n",
      "During handling of the above exception, another exception occurred:\n",
      "\n",
      "Traceback (most recent call last):\n",
      "  File \"/usr/local/bin/pip3\", line 8, in <module>\n",
      "    sys.exit(main())\n",
      "  File \"/usr/local/lib/python3.7/dist-packages/pip/_internal/main.py\", line 47, in main\n",
      "    return command.main(cmd_args)\n",
      "  File \"/usr/local/lib/python3.7/dist-packages/pip/_internal/cli/base_command.py\", line 103, in main\n",
      "    return self._main(args)\n",
      "  File \"/usr/local/lib/python3.7/dist-packages/pip/_internal/cli/base_command.py\", line 183, in _main\n",
      "    logger.debug('Exception information:', exc_info=True)\n",
      "  File \"/usr/lib/python3.7/logging/__init__.py\", line 1366, in debug\n",
      "    self._log(DEBUG, msg, args, **kwargs)\n",
      "  File \"/usr/lib/python3.7/logging/__init__.py\", line 1514, in _log\n",
      "    self.handle(record)\n",
      "  File \"/usr/lib/python3.7/logging/__init__.py\", line 1524, in handle\n",
      "    self.callHandlers(record)\n",
      "  File \"/usr/lib/python3.7/logging/__init__.py\", line 1586, in callHandlers\n",
      "    hdlr.handle(record)\n",
      "  File \"/usr/lib/python3.7/logging/__init__.py\", line 894, in handle\n",
      "    self.emit(record)\n",
      "  File \"/usr/lib/python3.7/logging/handlers.py\", line 71, in emit\n",
      "    logging.FileHandler.emit(self, record)\n",
      "  File \"/usr/lib/python3.7/logging/__init__.py\", line 1127, in emit\n",
      "    StreamHandler.emit(self, record)\n",
      "  File \"/usr/lib/python3.7/logging/__init__.py\", line 1025, in emit\n",
      "    msg = self.format(record)\n",
      "  File \"/usr/lib/python3.7/logging/__init__.py\", line 869, in format\n",
      "    return fmt.format(record)\n",
      "  File \"/usr/local/lib/python3.7/dist-packages/pip/_internal/utils/logging.py\", line 151, in format\n",
      "    formatted = super(IndentingFormatter, self).format(record)\n",
      "  File \"/usr/lib/python3.7/logging/__init__.py\", line 616, in format\n",
      "    record.exc_text = self.formatException(record.exc_info)\n",
      "  File \"/usr/lib/python3.7/logging/__init__.py\", line 566, in formatException\n",
      "    traceback.print_exception(ei[0], ei[1], tb, None, sio)\n",
      "  File \"/usr/lib/python3.7/traceback.py\", line 104, in print_exception\n",
      "    type(value), value, tb, limit=limit).format(chain=chain):\n",
      "  File \"/usr/lib/python3.7/traceback.py\", line 508, in __init__\n",
      "    capture_locals=capture_locals)\n",
      "  File \"/usr/lib/python3.7/traceback.py\", line 363, in extract\n",
      "    f.line\n",
      "  File \"/usr/lib/python3.7/traceback.py\", line 285, in line\n",
      "    self._line = linecache.getline(self.filename, self.lineno).strip()\n",
      "  File \"/usr/lib/python3.7/linecache.py\", line 16, in getline\n",
      "    lines = getlines(filename, module_globals)\n",
      "  File \"/usr/lib/python3.7/linecache.py\", line 47, in getlines\n",
      "    return updatecache(filename, module_globals)\n",
      "  File \"/usr/lib/python3.7/linecache.py\", line 136, in updatecache\n",
      "    with tokenize.open(fullname) as fp:\n",
      "  File \"/usr/lib/python3.7/tokenize.py\", line 449, in open\n",
      "    encoding, lines = detect_encoding(buffer.readline)\n",
      "  File \"/usr/lib/python3.7/tokenize.py\", line 418, in detect_encoding\n",
      "    first = read_or_stop()\n",
      "  File \"/usr/lib/python3.7/tokenize.py\", line 376, in read_or_stop\n",
      "    return readline()\n",
      "KeyboardInterrupt\n"
     ]
    }
   ],
   "source": [
    "!pip install git+https://github.com/maciejkula/spotlight.git@master#egg=spotlight"
   ]
  },
  {
   "cell_type": "code",
   "execution_count": null,
   "metadata": {
    "id": "2LPoZh4Rb5hl"
   },
   "outputs": [],
   "source": [
    "import torch\n",
    "import spotlight"
   ]
  },
  {
   "cell_type": "code",
   "execution_count": null,
   "metadata": {
    "id": "rUOqARUthVME"
   },
   "outputs": [],
   "source": [
    "from spotlight.interactions import Interactions\n",
    "\n",
    "data = Interactions(*[np.array(i) for _, i in ratings_random.items()])\n",
    "data_train = Interactions(*[np.array(i) for _, i in ratings_train.items()])\n",
    "data_test = Interactions(*[np.array(i) for _, i in ratings_test.items()])"
   ]
  },
  {
   "cell_type": "code",
   "execution_count": null,
   "metadata": {
    "colab": {
     "base_uri": "https://localhost:8080/"
    },
    "executionInfo": {
     "elapsed": 18825,
     "status": "ok",
     "timestamp": 1617907727122,
     "user": {
      "displayName": "Yuriy Sosnin",
      "photoUrl": "",
      "userId": "11943109303922880437"
     },
     "user_tz": -180
    },
    "id": "9pECjqc1m-6G",
    "outputId": "868bc0b3-dd49-435d-c1dc-a8e5cab5c020"
   },
   "outputs": [
    {
     "name": "stdout",
     "output_type": "stream",
     "text": [
      "Epoch 0: loss 13.886664521540695\n",
      "Epoch 1: loss 3.418573094539888\n",
      "Epoch 2: loss 1.1470414896379724\n",
      "Epoch 3: loss 0.8211444383527077\n",
      "Epoch 4: loss 0.7350682071350163\n",
      "Epoch 5: loss 0.6972380533750476\n",
      "Epoch 6: loss 0.6719108909496422\n",
      "Epoch 7: loss 0.6488575676991705\n",
      "Epoch 8: loss 0.6267038788406634\n",
      "Epoch 9: loss 0.6040727829984329\n"
     ]
    },
    {
     "data": {
      "text/plain": [
       "0.86410011960886"
      ]
     },
     "execution_count": 42,
     "metadata": {
      "tags": []
     },
     "output_type": "execute_result"
    }
   ],
   "source": [
    "from spotlight.evaluation import rmse_score\n",
    "from spotlight.factorization.explicit import ExplicitFactorizationModel\n",
    "\n",
    "model = ExplicitFactorizationModel(loss='regression',\n",
    "                                   embedding_dim=128,  # latent dimensionality\n",
    "                                   n_iter=10,  # number of epochs of training\n",
    "                                   batch_size=1024,  # minibatch size\n",
    "                                   l2=1e-9,  # strength of L2 regularization\n",
    "                                   learning_rate=1e-3,\n",
    "                                   use_cuda=torch.cuda.is_available())\n",
    "model.fit(data_train, verbose=True)\n",
    "\n",
    "rmse_score(model, data_test)"
   ]
  },
  {
   "cell_type": "code",
   "execution_count": null,
   "metadata": {
    "id": "kzVutBoNveeL"
   },
   "outputs": [],
   "source": [
    "param_grid = {'embedding_dim': np.logspace(1,10, num=10, base=2),\n",
    "              'n_iter' : range(5,20)}"
   ]
  },
  {
   "cell_type": "code",
   "execution_count": null,
   "metadata": {
    "colab": {
     "base_uri": "https://localhost:8080/"
    },
    "executionInfo": {
     "elapsed": 822,
     "status": "ok",
     "timestamp": 1617906593214,
     "user": {
      "displayName": "Yuriy Sosnin",
      "photoUrl": "",
      "userId": "11943109303922880437"
     },
     "user_tz": -180
    },
    "id": "cSeA4TaQvVct",
    "outputId": "ebc54b2f-50af-4eb5-e0c7-f303af1d7c8e"
   },
   "outputs": [
    {
     "data": {
      "text/plain": [
       "array([   2.,    4.,    8.,   16.,   32.,   64.,  128.,  256.,  512.,\n",
       "       1024.])"
      ]
     },
     "execution_count": 27,
     "metadata": {
      "tags": []
     },
     "output_type": "execute_result"
    }
   ],
   "source": [
    "np.logspace(1,10, num=10, base=2)"
   ]
  },
  {
   "cell_type": "code",
   "execution_count": null,
   "metadata": {
    "colab": {
     "base_uri": "https://localhost:8080/",
     "height": 387
    },
    "executionInfo": {
     "elapsed": 331604,
     "status": "error",
     "timestamp": 1617907511458,
     "user": {
      "displayName": "Yuriy Sosnin",
      "photoUrl": "",
      "userId": "11943109303922880437"
     },
     "user_tz": -180
    },
    "id": "4XtZeLmAvRP8",
    "outputId": "8165cdf3-d6d2-47b9-a32a-41a7c55f60a4",
    "scrolled": true
   },
   "outputs": [
    {
     "ename": "KeyboardInterrupt",
     "evalue": "ignored",
     "output_type": "error",
     "traceback": [
      "\u001b[0;31m---------------------------------------------------------------------------\u001b[0m",
      "\u001b[0;31mKeyboardInterrupt\u001b[0m                         Traceback (most recent call last)",
      "\u001b[0;32m<ipython-input-35-642543883fc1>\u001b[0m in \u001b[0;36m<module>\u001b[0;34m()\u001b[0m\n\u001b[1;32m      8\u001b[0m                                    \u001b[0mlearning_rate\u001b[0m\u001b[0;34m=\u001b[0m\u001b[0;36m1e-3\u001b[0m\u001b[0;34m,\u001b[0m\u001b[0;34m\u001b[0m\u001b[0;34m\u001b[0m\u001b[0m\n\u001b[1;32m      9\u001b[0m                                    use_cuda=torch.cuda.is_available())\n\u001b[0;32m---> 10\u001b[0;31m   \u001b[0mmodel\u001b[0m\u001b[0;34m.\u001b[0m\u001b[0mfit\u001b[0m\u001b[0;34m(\u001b[0m\u001b[0mdata_train\u001b[0m\u001b[0;34m,\u001b[0m \u001b[0mverbose\u001b[0m\u001b[0;34m=\u001b[0m\u001b[0;32mFalse\u001b[0m\u001b[0;34m)\u001b[0m\u001b[0;34m\u001b[0m\u001b[0;34m\u001b[0m\u001b[0m\n\u001b[0m\u001b[1;32m     11\u001b[0m \u001b[0;34m\u001b[0m\u001b[0m\n\u001b[1;32m     12\u001b[0m   \u001b[0mprint\u001b[0m\u001b[0;34m(\u001b[0m\u001b[0mi\u001b[0m\u001b[0;34m,\u001b[0m \u001b[0mrmse_score\u001b[0m\u001b[0;34m(\u001b[0m\u001b[0mmodel\u001b[0m\u001b[0;34m,\u001b[0m \u001b[0mdata_test\u001b[0m\u001b[0;34m)\u001b[0m\u001b[0;34m)\u001b[0m\u001b[0;34m\u001b[0m\u001b[0;34m\u001b[0m\u001b[0m\n",
      "\u001b[0;32m/usr/local/lib/python3.7/dist-packages/spotlight/factorization/explicit.py\u001b[0m in \u001b[0;36mfit\u001b[0;34m(self, interactions, verbose)\u001b[0m\n\u001b[1;32m    221\u001b[0m                                                          batch_size=self._batch_size)):\n\u001b[1;32m    222\u001b[0m \u001b[0;34m\u001b[0m\u001b[0m\n\u001b[0;32m--> 223\u001b[0;31m                 \u001b[0mpredictions\u001b[0m \u001b[0;34m=\u001b[0m \u001b[0mself\u001b[0m\u001b[0;34m.\u001b[0m\u001b[0m_net\u001b[0m\u001b[0;34m(\u001b[0m\u001b[0mbatch_user\u001b[0m\u001b[0;34m,\u001b[0m \u001b[0mbatch_item\u001b[0m\u001b[0;34m)\u001b[0m\u001b[0;34m\u001b[0m\u001b[0;34m\u001b[0m\u001b[0m\n\u001b[0m\u001b[1;32m    224\u001b[0m \u001b[0;34m\u001b[0m\u001b[0m\n\u001b[1;32m    225\u001b[0m                 \u001b[0;32mif\u001b[0m \u001b[0mself\u001b[0m\u001b[0;34m.\u001b[0m\u001b[0m_loss\u001b[0m \u001b[0;34m==\u001b[0m \u001b[0;34m'poisson'\u001b[0m\u001b[0;34m:\u001b[0m\u001b[0;34m\u001b[0m\u001b[0;34m\u001b[0m\u001b[0m\n",
      "\u001b[0;32m/usr/local/lib/python3.7/dist-packages/torch/nn/modules/module.py\u001b[0m in \u001b[0;36m_call_impl\u001b[0;34m(self, *input, **kwargs)\u001b[0m\n\u001b[1;32m    887\u001b[0m             \u001b[0mresult\u001b[0m \u001b[0;34m=\u001b[0m \u001b[0mself\u001b[0m\u001b[0;34m.\u001b[0m\u001b[0m_slow_forward\u001b[0m\u001b[0;34m(\u001b[0m\u001b[0;34m*\u001b[0m\u001b[0minput\u001b[0m\u001b[0;34m,\u001b[0m \u001b[0;34m**\u001b[0m\u001b[0mkwargs\u001b[0m\u001b[0;34m)\u001b[0m\u001b[0;34m\u001b[0m\u001b[0;34m\u001b[0m\u001b[0m\n\u001b[1;32m    888\u001b[0m         \u001b[0;32melse\u001b[0m\u001b[0;34m:\u001b[0m\u001b[0;34m\u001b[0m\u001b[0;34m\u001b[0m\u001b[0m\n\u001b[0;32m--> 889\u001b[0;31m             \u001b[0mresult\u001b[0m \u001b[0;34m=\u001b[0m \u001b[0mself\u001b[0m\u001b[0;34m.\u001b[0m\u001b[0mforward\u001b[0m\u001b[0;34m(\u001b[0m\u001b[0;34m*\u001b[0m\u001b[0minput\u001b[0m\u001b[0;34m,\u001b[0m \u001b[0;34m**\u001b[0m\u001b[0mkwargs\u001b[0m\u001b[0;34m)\u001b[0m\u001b[0;34m\u001b[0m\u001b[0;34m\u001b[0m\u001b[0m\n\u001b[0m\u001b[1;32m    890\u001b[0m         for hook in itertools.chain(\n\u001b[1;32m    891\u001b[0m                 \u001b[0m_global_forward_hooks\u001b[0m\u001b[0;34m.\u001b[0m\u001b[0mvalues\u001b[0m\u001b[0;34m(\u001b[0m\u001b[0;34m)\u001b[0m\u001b[0;34m,\u001b[0m\u001b[0;34m\u001b[0m\u001b[0;34m\u001b[0m\u001b[0m\n",
      "\u001b[0;32m/usr/local/lib/python3.7/dist-packages/spotlight/factorization/representations.py\u001b[0m in \u001b[0;36mforward\u001b[0;34m(self, user_ids, item_ids)\u001b[0m\n\u001b[1;32m     85\u001b[0m \u001b[0;34m\u001b[0m\u001b[0m\n\u001b[1;32m     86\u001b[0m         \u001b[0muser_bias\u001b[0m \u001b[0;34m=\u001b[0m \u001b[0mself\u001b[0m\u001b[0;34m.\u001b[0m\u001b[0muser_biases\u001b[0m\u001b[0;34m(\u001b[0m\u001b[0muser_ids\u001b[0m\u001b[0;34m)\u001b[0m\u001b[0;34m.\u001b[0m\u001b[0msqueeze\u001b[0m\u001b[0;34m(\u001b[0m\u001b[0;34m)\u001b[0m\u001b[0;34m\u001b[0m\u001b[0;34m\u001b[0m\u001b[0m\n\u001b[0;32m---> 87\u001b[0;31m         \u001b[0mitem_bias\u001b[0m \u001b[0;34m=\u001b[0m \u001b[0mself\u001b[0m\u001b[0;34m.\u001b[0m\u001b[0mitem_biases\u001b[0m\u001b[0;34m(\u001b[0m\u001b[0mitem_ids\u001b[0m\u001b[0;34m)\u001b[0m\u001b[0;34m.\u001b[0m\u001b[0msqueeze\u001b[0m\u001b[0;34m(\u001b[0m\u001b[0;34m)\u001b[0m\u001b[0;34m\u001b[0m\u001b[0;34m\u001b[0m\u001b[0m\n\u001b[0m\u001b[1;32m     88\u001b[0m \u001b[0;34m\u001b[0m\u001b[0m\n\u001b[1;32m     89\u001b[0m         \u001b[0mdot\u001b[0m \u001b[0;34m=\u001b[0m \u001b[0;34m(\u001b[0m\u001b[0muser_embedding\u001b[0m \u001b[0;34m*\u001b[0m \u001b[0mitem_embedding\u001b[0m\u001b[0;34m)\u001b[0m\u001b[0;34m.\u001b[0m\u001b[0msum\u001b[0m\u001b[0;34m(\u001b[0m\u001b[0;36m1\u001b[0m\u001b[0;34m)\u001b[0m\u001b[0;34m\u001b[0m\u001b[0;34m\u001b[0m\u001b[0m\n",
      "\u001b[0;32m/usr/local/lib/python3.7/dist-packages/torch/nn/modules/module.py\u001b[0m in \u001b[0;36m_call_impl\u001b[0;34m(self, *input, **kwargs)\u001b[0m\n\u001b[1;32m    887\u001b[0m             \u001b[0mresult\u001b[0m \u001b[0;34m=\u001b[0m \u001b[0mself\u001b[0m\u001b[0;34m.\u001b[0m\u001b[0m_slow_forward\u001b[0m\u001b[0;34m(\u001b[0m\u001b[0;34m*\u001b[0m\u001b[0minput\u001b[0m\u001b[0;34m,\u001b[0m \u001b[0;34m**\u001b[0m\u001b[0mkwargs\u001b[0m\u001b[0;34m)\u001b[0m\u001b[0;34m\u001b[0m\u001b[0;34m\u001b[0m\u001b[0m\n\u001b[1;32m    888\u001b[0m         \u001b[0;32melse\u001b[0m\u001b[0;34m:\u001b[0m\u001b[0;34m\u001b[0m\u001b[0;34m\u001b[0m\u001b[0m\n\u001b[0;32m--> 889\u001b[0;31m             \u001b[0mresult\u001b[0m \u001b[0;34m=\u001b[0m \u001b[0mself\u001b[0m\u001b[0;34m.\u001b[0m\u001b[0mforward\u001b[0m\u001b[0;34m(\u001b[0m\u001b[0;34m*\u001b[0m\u001b[0minput\u001b[0m\u001b[0;34m,\u001b[0m \u001b[0;34m**\u001b[0m\u001b[0mkwargs\u001b[0m\u001b[0;34m)\u001b[0m\u001b[0;34m\u001b[0m\u001b[0;34m\u001b[0m\u001b[0m\n\u001b[0m\u001b[1;32m    890\u001b[0m         for hook in itertools.chain(\n\u001b[1;32m    891\u001b[0m                 \u001b[0m_global_forward_hooks\u001b[0m\u001b[0;34m.\u001b[0m\u001b[0mvalues\u001b[0m\u001b[0;34m(\u001b[0m\u001b[0;34m)\u001b[0m\u001b[0;34m,\u001b[0m\u001b[0;34m\u001b[0m\u001b[0;34m\u001b[0m\u001b[0m\n",
      "\u001b[0;32m/usr/local/lib/python3.7/dist-packages/torch/nn/modules/sparse.py\u001b[0m in \u001b[0;36mforward\u001b[0;34m(self, input)\u001b[0m\n\u001b[1;32m    156\u001b[0m         return F.embedding(\n\u001b[1;32m    157\u001b[0m             \u001b[0minput\u001b[0m\u001b[0;34m,\u001b[0m \u001b[0mself\u001b[0m\u001b[0;34m.\u001b[0m\u001b[0mweight\u001b[0m\u001b[0;34m,\u001b[0m \u001b[0mself\u001b[0m\u001b[0;34m.\u001b[0m\u001b[0mpadding_idx\u001b[0m\u001b[0;34m,\u001b[0m \u001b[0mself\u001b[0m\u001b[0;34m.\u001b[0m\u001b[0mmax_norm\u001b[0m\u001b[0;34m,\u001b[0m\u001b[0;34m\u001b[0m\u001b[0;34m\u001b[0m\u001b[0m\n\u001b[0;32m--> 158\u001b[0;31m             self.norm_type, self.scale_grad_by_freq, self.sparse)\n\u001b[0m\u001b[1;32m    159\u001b[0m \u001b[0;34m\u001b[0m\u001b[0m\n\u001b[1;32m    160\u001b[0m     \u001b[0;32mdef\u001b[0m \u001b[0mextra_repr\u001b[0m\u001b[0;34m(\u001b[0m\u001b[0mself\u001b[0m\u001b[0;34m)\u001b[0m \u001b[0;34m->\u001b[0m \u001b[0mstr\u001b[0m\u001b[0;34m:\u001b[0m\u001b[0;34m\u001b[0m\u001b[0;34m\u001b[0m\u001b[0m\n",
      "\u001b[0;32m/usr/local/lib/python3.7/dist-packages/torch/nn/functional.py\u001b[0m in \u001b[0;36membedding\u001b[0;34m(input, weight, padding_idx, max_norm, norm_type, scale_grad_by_freq, sparse)\u001b[0m\n\u001b[1;32m   1914\u001b[0m         \u001b[0;31m# remove once script supports set_grad_enabled\u001b[0m\u001b[0;34m\u001b[0m\u001b[0;34m\u001b[0m\u001b[0;34m\u001b[0m\u001b[0m\n\u001b[1;32m   1915\u001b[0m         \u001b[0m_no_grad_embedding_renorm_\u001b[0m\u001b[0;34m(\u001b[0m\u001b[0mweight\u001b[0m\u001b[0;34m,\u001b[0m \u001b[0minput\u001b[0m\u001b[0;34m,\u001b[0m \u001b[0mmax_norm\u001b[0m\u001b[0;34m,\u001b[0m \u001b[0mnorm_type\u001b[0m\u001b[0;34m)\u001b[0m\u001b[0;34m\u001b[0m\u001b[0;34m\u001b[0m\u001b[0m\n\u001b[0;32m-> 1916\u001b[0;31m     \u001b[0;32mreturn\u001b[0m \u001b[0mtorch\u001b[0m\u001b[0;34m.\u001b[0m\u001b[0membedding\u001b[0m\u001b[0;34m(\u001b[0m\u001b[0mweight\u001b[0m\u001b[0;34m,\u001b[0m \u001b[0minput\u001b[0m\u001b[0;34m,\u001b[0m \u001b[0mpadding_idx\u001b[0m\u001b[0;34m,\u001b[0m \u001b[0mscale_grad_by_freq\u001b[0m\u001b[0;34m,\u001b[0m \u001b[0msparse\u001b[0m\u001b[0;34m)\u001b[0m\u001b[0;34m\u001b[0m\u001b[0;34m\u001b[0m\u001b[0m\n\u001b[0m\u001b[1;32m   1917\u001b[0m \u001b[0;34m\u001b[0m\u001b[0m\n\u001b[1;32m   1918\u001b[0m \u001b[0;34m\u001b[0m\u001b[0m\n",
      "\u001b[0;31mKeyboardInterrupt\u001b[0m: "
     ]
    }
   ],
   "source": [
    "for i in np.logspace(1,10, num=10, base=2):\n",
    "  k = int(i)\n",
    "  model = ExplicitFactorizationModel(loss='regression',\n",
    "                                   embedding_dim=64,  # latent dimensionality\n",
    "                                   n_iter=10,  # number of epochs of training\n",
    "                                   batch_size=k,  # minibatch size\n",
    "                                   l2=1e-9,  # strength of L2 regularization\n",
    "                                   learning_rate=1e-3,\n",
    "                                   use_cuda=torch.cuda.is_available())\n",
    "  model.fit(data_train, verbose=False)\n",
    "\n",
    "  print(i, rmse_score(model, data_test))"
   ]
  },
  {
   "cell_type": "code",
   "execution_count": null,
   "metadata": {
    "id": "04nHBYzJpJB6"
   },
   "outputs": [],
   "source": [
    "pred = model.predict(user_ids = 58)"
   ]
  },
  {
   "cell_type": "code",
   "execution_count": null,
   "metadata": {
    "colab": {
     "base_uri": "https://localhost:8080/"
    },
    "executionInfo": {
     "elapsed": 658,
     "status": "ok",
     "timestamp": 1617907747233,
     "user": {
      "displayName": "Yuriy Sosnin",
      "photoUrl": "",
      "userId": "11943109303922880437"
     },
     "user_tz": -180
    },
    "id": "Hk6Fp9KUrZqv",
    "outputId": "89b66222-9f89-47b1-a594-1543f3ff5f54"
   },
   "outputs": [
    {
     "data": {
      "text/plain": [
       "629          26\n",
       "630          58\n",
       "631          18\n",
       "632          14\n",
       "633           2\n",
       "           ... \n",
       "5771155     279\n",
       "5785098      61\n",
       "5811024     702\n",
       "5830792    9356\n",
       "5853023    4576\n",
       "Name: book_id, Length: 82, dtype: int64"
      ]
     },
     "execution_count": 44,
     "metadata": {
      "tags": []
     },
     "output_type": "execute_result"
    }
   ],
   "source": [
    "ratings_random.loc[ratings_random['user_id']==58].book_id"
   ]
  },
  {
   "cell_type": "code",
   "execution_count": null,
   "metadata": {
    "colab": {
     "base_uri": "https://localhost:8080/",
     "height": 343
    },
    "executionInfo": {
     "elapsed": 1279,
     "status": "ok",
     "timestamp": 1617907775351,
     "user": {
      "displayName": "Yuriy Sosnin",
      "photoUrl": "",
      "userId": "11943109303922880437"
     },
     "user_tz": -180
    },
    "id": "mq3er7dspfRm",
    "outputId": "a6cdff68-b6b8-41b4-fbd8-1ddf0b8683a2"
   },
   "outputs": [
    {
     "data": {
      "text/html": [
       "<div>\n",
       "<style scoped>\n",
       "    .dataframe tbody tr th:only-of-type {\n",
       "        vertical-align: middle;\n",
       "    }\n",
       "\n",
       "    .dataframe tbody tr th {\n",
       "        vertical-align: top;\n",
       "    }\n",
       "\n",
       "    .dataframe thead th {\n",
       "        text-align: right;\n",
       "    }\n",
       "</style>\n",
       "<table border=\"1\" class=\"dataframe\">\n",
       "  <thead>\n",
       "    <tr style=\"text-align: right;\">\n",
       "      <th></th>\n",
       "      <th>book_id</th>\n",
       "      <th>predcited_rating</th>\n",
       "    </tr>\n",
       "  </thead>\n",
       "  <tbody>\n",
       "    <tr>\n",
       "      <th>7593</th>\n",
       "      <td>7593</td>\n",
       "      <td>5.120577</td>\n",
       "    </tr>\n",
       "    <tr>\n",
       "      <th>8580</th>\n",
       "      <td>8580</td>\n",
       "      <td>4.996542</td>\n",
       "    </tr>\n",
       "    <tr>\n",
       "      <th>5529</th>\n",
       "      <td>5529</td>\n",
       "      <td>4.977715</td>\n",
       "    </tr>\n",
       "    <tr>\n",
       "      <th>9004</th>\n",
       "      <td>9004</td>\n",
       "      <td>4.920152</td>\n",
       "    </tr>\n",
       "    <tr>\n",
       "      <th>3920</th>\n",
       "      <td>3920</td>\n",
       "      <td>4.866500</td>\n",
       "    </tr>\n",
       "    <tr>\n",
       "      <th>7844</th>\n",
       "      <td>7844</td>\n",
       "      <td>4.842587</td>\n",
       "    </tr>\n",
       "    <tr>\n",
       "      <th>9566</th>\n",
       "      <td>9566</td>\n",
       "      <td>4.834001</td>\n",
       "    </tr>\n",
       "    <tr>\n",
       "      <th>2151</th>\n",
       "      <td>2151</td>\n",
       "      <td>4.804973</td>\n",
       "    </tr>\n",
       "    <tr>\n",
       "      <th>9537</th>\n",
       "      <td>9537</td>\n",
       "      <td>4.804045</td>\n",
       "    </tr>\n",
       "    <tr>\n",
       "      <th>4620</th>\n",
       "      <td>4620</td>\n",
       "      <td>4.792125</td>\n",
       "    </tr>\n",
       "  </tbody>\n",
       "</table>\n",
       "</div>"
      ],
      "text/plain": [
       "      book_id  predcited_rating\n",
       "7593     7593          5.120577\n",
       "8580     8580          4.996542\n",
       "5529     5529          4.977715\n",
       "9004     9004          4.920152\n",
       "3920     3920          4.866500\n",
       "7844     7844          4.842587\n",
       "9566     9566          4.834001\n",
       "2151     2151          4.804973\n",
       "9537     9537          4.804045\n",
       "4620     4620          4.792125"
      ]
     },
     "execution_count": 47,
     "metadata": {
      "tags": []
     },
     "output_type": "execute_result"
    }
   ],
   "source": [
    "pred_list = pd.DataFrame(enumerate(pred), columns = ['book_id', 'predcited_rating'])\n",
    "pred_list.loc[~pred_list['book_id'].isin(ratings_random.loc[ratings_random['user_id']==58].book_id)].sort_values(ascending=False, by = 'predcited_rating').head(10)"
   ]
  },
  {
   "cell_type": "markdown",
   "metadata": {
    "id": "Q1irSy_npLXJ"
   },
   "source": [
    "# lightfm"
   ]
  },
  {
   "cell_type": "code",
   "execution_count": null,
   "metadata": {
    "id": "acG9ySE6uywK"
   },
   "outputs": [],
   "source": [
    "!pip install lightfm"
   ]
  },
  {
   "cell_type": "code",
   "execution_count": 208,
   "metadata": {
    "executionInfo": {
     "elapsed": 694,
     "status": "ok",
     "timestamp": 1618932632988,
     "user": {
      "displayName": "Yuriy Sosnin",
      "photoUrl": "",
      "userId": "11943109303922880437"
     },
     "user_tz": -180
    },
    "id": "y1pYVrNJu7pZ"
   },
   "outputs": [],
   "source": [
    "import pandas as pd\n",
    "import numpy as np\n",
    "import scipy.sparse as sp\n",
    "import copy"
   ]
  },
  {
   "cell_type": "code",
   "execution_count": 209,
   "metadata": {},
   "outputs": [],
   "source": [
    "books = pd.read_csv('data/books_transform.csv')\n",
    "book_map = pd.read_csv('data/books.csv')[['id', 'title', 'authors']]\n",
    "ratings = pd.read_csv('data/ratings.csv')\n",
    "genres = sp.load_npz('data/genres.npz')\n",
    "authors = sp.load_npz('data/authors.npz')\n",
    "languages = sp.load_npz('data/languages.npz')"
   ]
  },
  {
   "cell_type": "code",
   "execution_count": 210,
   "metadata": {},
   "outputs": [
    {
     "data": {
      "text/plain": [
       "<10000x4330 sparse matrix of type '<class 'numpy.intc'>'\n",
       "\twith 20689 stored elements in Compressed Sparse Row format>"
      ]
     },
     "execution_count": 210,
     "metadata": {},
     "output_type": "execute_result"
    }
   ],
   "source": [
    "features = sp.hstack((\n",
    "    #genres,\n",
    "    authors,\n",
    "    languages,\n",
    "    #np.array(books['original_publication_year'])[:, None]\n",
    ")).tocsr()\n",
    "features"
   ]
  },
  {
   "cell_type": "markdown",
   "metadata": {},
   "source": [
    "## lightfm"
   ]
  },
  {
   "cell_type": "code",
   "execution_count": 211,
   "metadata": {},
   "outputs": [],
   "source": [
    "from lightfm import LightFM"
   ]
  },
  {
   "cell_type": "code",
   "execution_count": 212,
   "metadata": {
    "executionInfo": {
     "elapsed": 782,
     "status": "ok",
     "timestamp": 1618936945256,
     "user": {
      "displayName": "Yuriy Sosnin",
      "photoUrl": "",
      "userId": "11943109303922880437"
     },
     "user_tz": -180
    },
    "id": "OyzwmWeoxhBZ"
   },
   "outputs": [],
   "source": [
    "from lightfm.data import Dataset\n",
    "\n",
    "dataset = Dataset()"
   ]
  },
  {
   "cell_type": "code",
   "execution_count": 222,
   "metadata": {
    "executionInfo": {
     "elapsed": 969,
     "status": "ok",
     "timestamp": 1618936948303,
     "user": {
      "displayName": "Yuriy Sosnin",
      "photoUrl": "",
      "userId": "11943109303922880437"
     },
     "user_tz": -180
    },
    "id": "IKRg-J2z2GnI"
   },
   "outputs": [],
   "source": [
    "dataset.fit(ratings_random['user_id'].unique(), np.arange(1,10001))\n",
    "#dataset.fit_partial(ratings['user_id'], ratings['book_id'])"
   ]
  },
  {
   "cell_type": "code",
   "execution_count": 217,
   "metadata": {},
   "outputs": [],
   "source": [
    "def itervalues(df):\n",
    "    for _, i in df.iterrows():\n",
    "        yield i.values"
   ]
  },
  {
   "cell_type": "code",
   "execution_count": 223,
   "metadata": {
    "executionInfo": {
     "elapsed": 21247,
     "status": "ok",
     "timestamp": 1618936969340,
     "user": {
      "displayName": "Yuriy Sosnin",
      "photoUrl": "",
      "userId": "11943109303922880437"
     },
     "user_tz": -180
    },
    "id": "mMWc2_bmxz9Z"
   },
   "outputs": [],
   "source": [
    "(interactions, weights) = dataset.build_interactions(itervalues(ratings_random))"
   ]
  },
  {
   "cell_type": "code",
   "execution_count": 224,
   "metadata": {
    "colab": {
     "base_uri": "https://localhost:8080/"
    },
    "executionInfo": {
     "elapsed": 17211,
     "status": "ok",
     "timestamp": 1618936712834,
     "user": {
      "displayName": "Yuriy Sosnin",
      "photoUrl": "",
      "userId": "11943109303922880437"
     },
     "user_tz": -180
    },
    "id": "b4-QIhL-II6k",
    "outputId": "d5cc23fd-d686-449a-fa1a-0dc07fa4ec8a"
   },
   "outputs": [
    {
     "data": {
      "text/plain": [
       "<2672x10000 sparse matrix of type '<class 'numpy.float32'>'\n",
       "\twith 298176 stored elements in COOrdinate format>"
      ]
     },
     "execution_count": 224,
     "metadata": {},
     "output_type": "execute_result"
    }
   ],
   "source": [
    "weights"
   ]
  },
  {
   "cell_type": "code",
   "execution_count": 225,
   "metadata": {
    "executionInfo": {
     "elapsed": 3624,
     "status": "ok",
     "timestamp": 1618936528971,
     "user": {
      "displayName": "Yuriy Sosnin",
      "photoUrl": "",
      "userId": "11943109303922880437"
     },
     "user_tz": -180
    },
    "id": "TT48HgNU9PMw"
   },
   "outputs": [],
   "source": [
    "from lightfm.cross_validation import random_train_test_split\n",
    "weights_train, weights_test = random_train_test_split(weights, test_percentage=0.2, random_state=322)"
   ]
  },
  {
   "cell_type": "code",
   "execution_count": 227,
   "metadata": {
    "executionInfo": {
     "elapsed": 666,
     "status": "ok",
     "timestamp": 1618934015541,
     "user": {
      "displayName": "Yuriy Sosnin",
      "photoUrl": "",
      "userId": "11943109303922880437"
     },
     "user_tz": -180
    },
    "id": "xnneXPHYkAjF"
   },
   "outputs": [],
   "source": [
    "data = {'train' : weights_train, \n",
    "        'test': weights_test, \n",
    "        'item_features' : None, \n",
    "        'item_labels' : pd.read_csv('data/books.csv')['title'].values, \n",
    "        'item_feature_labels' : None}"
   ]
  },
  {
   "cell_type": "code",
   "execution_count": 228,
   "metadata": {
    "colab": {
     "base_uri": "https://localhost:8080/"
    },
    "executionInfo": {
     "elapsed": 16524,
     "status": "ok",
     "timestamp": 1618934031409,
     "user": {
      "displayName": "Yuriy Sosnin",
      "photoUrl": "",
      "userId": "11943109303922880437"
     },
     "user_tz": -180
    },
    "id": "V5gcOb-KiM8h",
    "outputId": "7f515f40-18dd-4b13-e2de-26b0bfbdf26f"
   },
   "outputs": [
    {
     "name": "stdout",
     "output_type": "stream",
     "text": [
      "Precision: train 0.41, test 0.16.\n",
      "AUC: train 0.93, test 0.90.\n"
     ]
    }
   ],
   "source": [
    "from lightfm import LightFM\n",
    "from lightfm.evaluation import precision_at_k\n",
    "from lightfm.evaluation import auc_score\n",
    "\n",
    "model = LightFM(learning_rate=0.05, loss='warp')\n",
    "model.fit(data['train'], epochs=10)\n",
    "\n",
    "train_precision = precision_at_k(model, data['train'], k=10).mean()\n",
    "test_precision = precision_at_k(model, data['test'], k=10, train_interactions=data['train']).mean()\n",
    "\n",
    "train_auc = auc_score(model, data['train']).mean()\n",
    "test_auc = auc_score(model, data['test'], train_interactions=data['train']).mean()\n",
    "\n",
    "print('Precision: train %.2f, test %.2f.' % (train_precision, test_precision))\n",
    "print('AUC: train %.2f, test %.2f.' % (train_auc, test_auc))"
   ]
  },
  {
   "cell_type": "code",
   "execution_count": 237,
   "metadata": {},
   "outputs": [],
   "source": [
    "def evaluate(model_params, epochs=10):\n",
    "    model = LightFM(**model_params, random_state=1)\n",
    "    model.fit(data['train'], epochs=epochs)\n",
    "\n",
    "    train_precision = precision_at_k(model, data['train'], k=10).mean()\n",
    "    test_precision = precision_at_k(model, data['test'], k=10, train_interactions=data['train']).mean()\n",
    "\n",
    "    train_auc = auc_score(model, data['train']).mean()\n",
    "    test_auc = auc_score(model, data['test'], train_interactions=data['train']).mean()\n",
    "\n",
    "    print('Precision: train %.2f, test %.2f.' % (train_precision, test_precision))\n",
    "    print('AUC: train %.2f, test %.2f.' % (train_auc, test_auc))"
   ]
  },
  {
   "cell_type": "code",
   "execution_count": 258,
   "metadata": {
    "scrolled": true
   },
   "outputs": [
    {
     "name": "stdout",
     "output_type": "stream",
     "text": [
      "N Components:  10\n",
      "Precision: train 0.41, test 0.16.\n",
      "AUC: train 0.92, test 0.90.\n",
      "N Components:  20\n",
      "Precision: train 0.45, test 0.18.\n",
      "AUC: train 0.95, test 0.92.\n",
      "N Components:  30\n",
      "Precision: train 0.48, test 0.19.\n",
      "AUC: train 0.96, test 0.93.\n",
      "N Components:  40\n",
      "Precision: train 0.50, test 0.20.\n",
      "AUC: train 0.97, test 0.93.\n",
      "N Components:  50\n",
      "Precision: train 0.52, test 0.20.\n",
      "AUC: train 0.97, test 0.93.\n",
      "N Components:  60\n",
      "Precision: train 0.54, test 0.20.\n",
      "AUC: train 0.98, test 0.93.\n",
      "N Components:  70\n",
      "Precision: train 0.56, test 0.21.\n",
      "AUC: train 0.98, test 0.93.\n",
      "N Components:  80\n",
      "Precision: train 0.58, test 0.22.\n",
      "AUC: train 0.98, test 0.94.\n",
      "N Components:  90\n",
      "Precision: train 0.59, test 0.22.\n",
      "AUC: train 0.99, test 0.94.\n",
      "N Components:  100\n",
      "Precision: train 0.61, test 0.22.\n",
      "AUC: train 0.99, test 0.94.\n",
      "N Components:  110\n",
      "Precision: train 0.63, test 0.22.\n",
      "AUC: train 0.99, test 0.94.\n",
      "N Components:  120\n",
      "Precision: train 0.64, test 0.22.\n",
      "AUC: train 0.99, test 0.94.\n",
      "N Components:  130\n",
      "Precision: train 0.65, test 0.22.\n",
      "AUC: train 0.99, test 0.94.\n",
      "N Components:  140\n",
      "Precision: train 0.66, test 0.22.\n",
      "AUC: train 0.99, test 0.94.\n",
      "N Components:  150\n",
      "Precision: train 0.68, test 0.22.\n",
      "AUC: train 0.99, test 0.94.\n",
      "N Components:  160\n",
      "Precision: train 0.69, test 0.22.\n",
      "AUC: train 0.99, test 0.94.\n",
      "N Components:  170\n",
      "Precision: train 0.71, test 0.22.\n",
      "AUC: train 0.99, test 0.94.\n",
      "N Components:  180\n",
      "Precision: train 0.72, test 0.22.\n",
      "AUC: train 0.99, test 0.94.\n",
      "N Components:  190\n",
      "Precision: train 0.73, test 0.22.\n",
      "AUC: train 0.99, test 0.93.\n",
      "N Components:  200\n",
      "Precision: train 0.74, test 0.23.\n",
      "AUC: train 1.00, test 0.93.\n"
     ]
    }
   ],
   "source": [
    "for i in np.arange(10, 201, 10):\n",
    "    print('N Components: ', i)\n",
    "    evaluate(dict(no_components = i, learning_rate=0.05, loss='warp'))"
   ]
  },
  {
   "cell_type": "code",
   "execution_count": 261,
   "metadata": {
    "scrolled": true
   },
   "outputs": [
    {
     "name": "stdout",
     "output_type": "stream",
     "text": [
      "N Components:  80\n",
      "Learning rate: 0.019290148549252116\n",
      "Precision: train 0.57, test 0.21.\n",
      "AUC: train 0.98, test 0.94.\n",
      "N Components:  80\n",
      "Learning rate: 0.025272294673488207\n",
      "Precision: train 0.57, test 0.22.\n",
      "AUC: train 0.98, test 0.94.\n",
      "N Components:  80\n",
      "Learning rate: 0.018430494625011003\n",
      "Precision: train 0.58, test 0.21.\n",
      "AUC: train 0.98, test 0.94.\n",
      "N Components:  80\n",
      "Learning rate: 0.01327867393801306\n",
      "Precision: train 0.58, test 0.21.\n",
      "AUC: train 0.98, test 0.93.\n",
      "N Components:  80\n",
      "Learning rate: 0.11339931151783898\n",
      "Precision: train 0.58, test 0.21.\n",
      "AUC: train 0.98, test 0.94.\n",
      "N Components:  80\n",
      "Learning rate: 0.10547597662715243\n",
      "Precision: train 0.58, test 0.21.\n",
      "AUC: train 0.98, test 0.94.\n",
      "N Components:  80\n",
      "Learning rate: 0.15611439864262977\n",
      "Precision: train 0.58, test 0.21.\n",
      "AUC: train 0.98, test 0.94.\n",
      "N Components:  80\n",
      "Learning rate: 0.06269707542360263\n",
      "Precision: train 0.58, test 0.21.\n",
      "AUC: train 0.98, test 0.94.\n",
      "N Components:  80\n",
      "Learning rate: 0.01089150904639876\n",
      "Precision: train 0.57, test 0.21.\n",
      "AUC: train 0.98, test 0.93.\n",
      "N Components:  80\n",
      "Learning rate: 0.1676337996048738\n",
      "Precision: train 0.57, test 0.21.\n",
      "AUC: train 0.98, test 0.94.\n",
      "N Components:  90\n",
      "Learning rate: 0.05039538776828041\n",
      "Precision: train 0.59, test 0.22.\n",
      "AUC: train 0.99, test 0.94.\n",
      "N Components:  90\n",
      "Learning rate: 0.07800084252123966\n",
      "Precision: train 0.60, test 0.21.\n",
      "AUC: train 0.99, test 0.94.\n",
      "N Components:  90\n",
      "Learning rate: 0.0427168461157998\n",
      "Precision: train 0.59, test 0.22.\n",
      "AUC: train 0.99, test 0.94.\n",
      "N Components:  90\n",
      "Learning rate: 0.07218940036220894\n",
      "Precision: train 0.59, test 0.21.\n",
      "AUC: train 0.99, test 0.94.\n",
      "N Components:  90\n",
      "Learning rate: 0.009793254766805003\n",
      "Precision: train 0.59, test 0.21.\n",
      "AUC: train 0.99, test 0.94.\n",
      "N Components:  90\n",
      "Learning rate: 0.07624156294593967\n",
      "Precision: train 0.59, test 0.21.\n",
      "AUC: train 0.99, test 0.94.\n",
      "N Components:  90\n",
      "Learning rate: 0.02495581668663751\n",
      "Precision: train 0.59, test 0.22.\n",
      "AUC: train 0.99, test 0.94.\n",
      "N Components:  90\n",
      "Learning rate: 0.004072165575361982\n",
      "Precision: train 0.60, test 0.21.\n",
      "AUC: train 0.99, test 0.94.\n",
      "N Components:  90\n",
      "Learning rate: 0.1466439768447628\n",
      "Precision: train 0.59, test 0.22.\n",
      "AUC: train 0.99, test 0.94.\n",
      "N Components:  90\n",
      "Learning rate: 0.0743124731779329\n",
      "Precision: train 0.60, test 0.22.\n",
      "AUC: train 0.99, test 0.94.\n",
      "N Components:  100\n",
      "Learning rate: 0.055263117438676304\n",
      "Precision: train 0.60, test 0.22.\n",
      "AUC: train 0.99, test 0.94.\n",
      "N Components:  100\n",
      "Learning rate: 0.1180729037409553\n",
      "Precision: train 0.61, test 0.22.\n",
      "AUC: train 0.99, test 0.94.\n",
      "N Components:  100\n",
      "Learning rate: 0.10499867669287306\n",
      "Precision: train 0.61, test 0.22.\n",
      "AUC: train 0.99, test 0.94.\n",
      "N Components:  100\n",
      "Learning rate: 0.024698033573364326\n",
      "Precision: train 0.61, test 0.22.\n",
      "AUC: train 0.99, test 0.94.\n",
      "N Components:  100\n",
      "Learning rate: 0.0066174469908813795\n",
      "Precision: train 0.61, test 0.22.\n",
      "AUC: train 0.99, test 0.94.\n",
      "N Components:  100\n",
      "Learning rate: 0.015560654073159222\n",
      "Precision: train 0.61, test 0.22.\n",
      "AUC: train 0.99, test 0.94.\n",
      "N Components:  100\n",
      "Learning rate: 0.12484614511200445\n",
      "Precision: train 0.61, test 0.22.\n",
      "AUC: train 0.99, test 0.94.\n",
      "N Components:  100\n",
      "Learning rate: 0.03141492376002467\n",
      "Precision: train 0.60, test 0.22.\n",
      "AUC: train 0.99, test 0.94.\n",
      "N Components:  100\n",
      "Learning rate: 0.010625130938561515\n",
      "Precision: train 0.61, test 0.22.\n",
      "AUC: train 0.99, test 0.94.\n",
      "N Components:  100\n",
      "Learning rate: 0.09162968096265284\n",
      "Precision: train 0.61, test 0.22.\n",
      "AUC: train 0.99, test 0.94.\n",
      "N Components:  110\n",
      "Learning rate: 0.0029596174899013876\n",
      "Precision: train 0.63, test 0.22.\n",
      "AUC: train 0.99, test 0.94.\n",
      "N Components:  110\n",
      "Learning rate: 0.005642087201466516\n",
      "Precision: train 0.62, test 0.22.\n",
      "AUC: train 0.99, test 0.94.\n",
      "N Components:  110\n",
      "Learning rate: 0.002972978267811643\n",
      "Precision: train 0.62, test 0.22.\n",
      "AUC: train 0.99, test 0.94.\n",
      "N Components:  110\n",
      "Learning rate: 0.08781704055996564\n",
      "Precision: train 0.63, test 0.22.\n",
      "AUC: train 0.99, test 0.94.\n",
      "N Components:  110\n",
      "Learning rate: 0.16564109814362887\n",
      "Precision: train 0.62, test 0.22.\n",
      "AUC: train 0.99, test 0.94.\n",
      "N Components:  110\n",
      "Learning rate: 0.06304622568809759\n",
      "Precision: train 0.62, test 0.22.\n",
      "AUC: train 0.99, test 0.94.\n",
      "N Components:  110\n",
      "Learning rate: 0.037540856954456574\n",
      "Precision: train 0.62, test 0.22.\n",
      "AUC: train 0.99, test 0.94.\n",
      "N Components:  110\n",
      "Learning rate: 0.031326777428531086\n",
      "Precision: train 0.62, test 0.22.\n",
      "AUC: train 0.99, test 0.94.\n",
      "N Components:  110\n",
      "Learning rate: 0.006889985661964446\n",
      "Precision: train 0.62, test 0.22.\n",
      "AUC: train 0.99, test 0.94.\n",
      "N Components:  110\n",
      "Learning rate: 0.19958110993171455\n",
      "Precision: train 0.62, test 0.21.\n",
      "AUC: train 0.99, test 0.94.\n"
     ]
    }
   ],
   "source": [
    "for i in np.arange(80, 111, 10):\n",
    "    for j in np.random.exponential(0.05, 10):\n",
    "        print('N Components: ', i)\n",
    "        print('Learning rate:', j)\n",
    "        evaluate(dict(no_components = i, learning_rate=0.05, loss='warp'))"
   ]
  },
  {
   "cell_type": "code",
   "execution_count": 272,
   "metadata": {},
   "outputs": [],
   "source": [
    "feats_kostyl = sp.hstack((\n",
    "    features,\n",
    "    sp.coo_matrix((10000,10000-features.shape[1])),\n",
    "))\n",
    "item_features = sp.identity(10000)+feats_kostyl"
   ]
  },
  {
   "cell_type": "code",
   "execution_count": 274,
   "metadata": {},
   "outputs": [],
   "source": [
    "def evaluate_feats(model_params, epochs=10):\n",
    "    model = LightFM(**model_params, random_state=1)\n",
    "    model.fit(data['train'], item_features=item_features, epochs=epochs)\n",
    "\n",
    "    train_precision = precision_at_k(model, data['train'], item_features=item_features, k=10, ).mean()\n",
    "    test_precision = precision_at_k(model, data['test'], item_features=item_features, k=10, train_interactions=data['train']).mean()\n",
    "\n",
    "    train_auc = auc_score(model, data['train'], item_features=item_features).mean()\n",
    "    test_auc = auc_score(model, data['test'], train_interactions=data['train'], item_features=item_features).mean()\n",
    "\n",
    "    print('Precision: train %.2f, test %.2f.' % (train_precision, test_precision))\n",
    "    print('AUC: train %.2f, test %.2f.' % (train_auc, test_auc))"
   ]
  },
  {
   "cell_type": "code",
   "execution_count": 279,
   "metadata": {
    "scrolled": true
   },
   "outputs": [
    {
     "name": "stdout",
     "output_type": "stream",
     "text": [
      "Precision: train 0.01, test 0.00.\n",
      "AUC: train 0.50, test 0.50.\n",
      "Precision: train 0.40, test 0.15.\n",
      "AUC: train 0.92, test 0.89.\n",
      "Precision: train 0.47, test 0.18.\n",
      "AUC: train 0.95, test 0.92.\n",
      "Precision: train 0.50, test 0.20.\n",
      "AUC: train 0.96, test 0.93.\n",
      "Precision: train 0.53, test 0.21.\n",
      "AUC: train 0.97, test 0.93.\n",
      "Precision: train 0.55, test 0.22.\n",
      "AUC: train 0.98, test 0.93.\n",
      "Precision: train 0.57, test 0.23.\n",
      "AUC: train 0.98, test 0.93.\n",
      "Precision: train 0.59, test 0.23.\n",
      "AUC: train 0.98, test 0.94.\n",
      "Precision: train 0.60, test 0.24.\n",
      "AUC: train 0.98, test 0.94.\n",
      "Precision: train 0.61, test 0.24.\n",
      "AUC: train 0.99, test 0.94.\n",
      "Precision: train 0.62, test 0.24.\n",
      "AUC: train 0.99, test 0.94.\n",
      "Precision: train 0.62, test 0.24.\n",
      "AUC: train 0.99, test 0.94.\n",
      "Precision: train 0.63, test 0.24.\n",
      "AUC: train 0.99, test 0.94.\n",
      "Precision: train 0.64, test 0.24.\n",
      "AUC: train 0.99, test 0.94.\n"
     ]
    },
    {
     "ename": "KeyboardInterrupt",
     "evalue": "",
     "output_type": "error",
     "traceback": [
      "\u001b[1;31m---------------------------------------------------------------------------\u001b[0m",
      "\u001b[1;31mKeyboardInterrupt\u001b[0m                         Traceback (most recent call last)",
      "\u001b[1;32m<ipython-input-279-41378e652933>\u001b[0m in \u001b[0;36m<module>\u001b[1;34m\u001b[0m\n\u001b[0;32m      1\u001b[0m \u001b[1;32mfor\u001b[0m \u001b[0mi\u001b[0m \u001b[1;32min\u001b[0m \u001b[0mnp\u001b[0m\u001b[1;33m.\u001b[0m\u001b[0marange\u001b[0m\u001b[1;33m(\u001b[0m\u001b[1;36m20\u001b[0m\u001b[1;33m)\u001b[0m\u001b[1;33m:\u001b[0m\u001b[1;33m\u001b[0m\u001b[1;33m\u001b[0m\u001b[0m\n\u001b[1;32m----> 2\u001b[1;33m     \u001b[0mevaluate_feats\u001b[0m\u001b[1;33m(\u001b[0m\u001b[0mmodel_params\u001b[0m \u001b[1;33m=\u001b[0m \u001b[0mdict\u001b[0m\u001b[1;33m(\u001b[0m\u001b[0mno_components\u001b[0m\u001b[1;33m=\u001b[0m\u001b[1;36m100\u001b[0m\u001b[1;33m,\u001b[0m \u001b[0mloss\u001b[0m\u001b[1;33m=\u001b[0m\u001b[1;34m'warp'\u001b[0m\u001b[1;33m)\u001b[0m\u001b[1;33m,\u001b[0m \u001b[0mepochs\u001b[0m\u001b[1;33m=\u001b[0m\u001b[0mi\u001b[0m\u001b[1;33m)\u001b[0m\u001b[1;33m\u001b[0m\u001b[1;33m\u001b[0m\u001b[0m\n\u001b[0m",
      "\u001b[1;32m<ipython-input-274-62ff01418f88>\u001b[0m in \u001b[0;36mevaluate_feats\u001b[1;34m(model_params, epochs)\u001b[0m\n\u001b[0;32m      3\u001b[0m     \u001b[0mmodel\u001b[0m\u001b[1;33m.\u001b[0m\u001b[0mfit\u001b[0m\u001b[1;33m(\u001b[0m\u001b[0mdata\u001b[0m\u001b[1;33m[\u001b[0m\u001b[1;34m'train'\u001b[0m\u001b[1;33m]\u001b[0m\u001b[1;33m,\u001b[0m \u001b[0mitem_features\u001b[0m\u001b[1;33m=\u001b[0m\u001b[0mitem_features\u001b[0m\u001b[1;33m,\u001b[0m \u001b[0mepochs\u001b[0m\u001b[1;33m=\u001b[0m\u001b[0mepochs\u001b[0m\u001b[1;33m)\u001b[0m\u001b[1;33m\u001b[0m\u001b[1;33m\u001b[0m\u001b[0m\n\u001b[0;32m      4\u001b[0m \u001b[1;33m\u001b[0m\u001b[0m\n\u001b[1;32m----> 5\u001b[1;33m     \u001b[0mtrain_precision\u001b[0m \u001b[1;33m=\u001b[0m \u001b[0mprecision_at_k\u001b[0m\u001b[1;33m(\u001b[0m\u001b[0mmodel\u001b[0m\u001b[1;33m,\u001b[0m \u001b[0mdata\u001b[0m\u001b[1;33m[\u001b[0m\u001b[1;34m'train'\u001b[0m\u001b[1;33m]\u001b[0m\u001b[1;33m,\u001b[0m \u001b[0mitem_features\u001b[0m\u001b[1;33m=\u001b[0m\u001b[0mitem_features\u001b[0m\u001b[1;33m,\u001b[0m \u001b[0mk\u001b[0m\u001b[1;33m=\u001b[0m\u001b[1;36m10\u001b[0m\u001b[1;33m,\u001b[0m \u001b[1;33m)\u001b[0m\u001b[1;33m.\u001b[0m\u001b[0mmean\u001b[0m\u001b[1;33m(\u001b[0m\u001b[1;33m)\u001b[0m\u001b[1;33m\u001b[0m\u001b[1;33m\u001b[0m\u001b[0m\n\u001b[0m\u001b[0;32m      6\u001b[0m     \u001b[0mtest_precision\u001b[0m \u001b[1;33m=\u001b[0m \u001b[0mprecision_at_k\u001b[0m\u001b[1;33m(\u001b[0m\u001b[0mmodel\u001b[0m\u001b[1;33m,\u001b[0m \u001b[0mdata\u001b[0m\u001b[1;33m[\u001b[0m\u001b[1;34m'test'\u001b[0m\u001b[1;33m]\u001b[0m\u001b[1;33m,\u001b[0m \u001b[0mitem_features\u001b[0m\u001b[1;33m=\u001b[0m\u001b[0mitem_features\u001b[0m\u001b[1;33m,\u001b[0m \u001b[0mk\u001b[0m\u001b[1;33m=\u001b[0m\u001b[1;36m10\u001b[0m\u001b[1;33m,\u001b[0m \u001b[0mtrain_interactions\u001b[0m\u001b[1;33m=\u001b[0m\u001b[0mdata\u001b[0m\u001b[1;33m[\u001b[0m\u001b[1;34m'train'\u001b[0m\u001b[1;33m]\u001b[0m\u001b[1;33m)\u001b[0m\u001b[1;33m.\u001b[0m\u001b[0mmean\u001b[0m\u001b[1;33m(\u001b[0m\u001b[1;33m)\u001b[0m\u001b[1;33m\u001b[0m\u001b[1;33m\u001b[0m\u001b[0m\n\u001b[0;32m      7\u001b[0m \u001b[1;33m\u001b[0m\u001b[0m\n",
      "\u001b[1;32mc:\\python39\\lib\\site-packages\\lightfm\\evaluation.py\u001b[0m in \u001b[0;36mprecision_at_k\u001b[1;34m(model, test_interactions, train_interactions, k, user_features, item_features, preserve_rows, num_threads, check_intersections)\u001b[0m\n\u001b[0;32m     69\u001b[0m         \u001b[1;32mraise\u001b[0m \u001b[0mValueError\u001b[0m\u001b[1;33m(\u001b[0m\u001b[1;34m\"Number of threads must be 1 or larger.\"\u001b[0m\u001b[1;33m)\u001b[0m\u001b[1;33m\u001b[0m\u001b[1;33m\u001b[0m\u001b[0m\n\u001b[0;32m     70\u001b[0m \u001b[1;33m\u001b[0m\u001b[0m\n\u001b[1;32m---> 71\u001b[1;33m     ranks = model.predict_rank(\n\u001b[0m\u001b[0;32m     72\u001b[0m         \u001b[0mtest_interactions\u001b[0m\u001b[1;33m,\u001b[0m\u001b[1;33m\u001b[0m\u001b[1;33m\u001b[0m\u001b[0m\n\u001b[0;32m     73\u001b[0m         \u001b[0mtrain_interactions\u001b[0m\u001b[1;33m=\u001b[0m\u001b[0mtrain_interactions\u001b[0m\u001b[1;33m,\u001b[0m\u001b[1;33m\u001b[0m\u001b[1;33m\u001b[0m\u001b[0m\n",
      "\u001b[1;32mc:\\python39\\lib\\site-packages\\lightfm\\lightfm.py\u001b[0m in \u001b[0;36mpredict_rank\u001b[1;34m(self, test_interactions, train_interactions, item_features, user_features, num_threads, check_intersections)\u001b[0m\n\u001b[0;32m    940\u001b[0m         \u001b[0mlightfm_data\u001b[0m \u001b[1;33m=\u001b[0m \u001b[0mself\u001b[0m\u001b[1;33m.\u001b[0m\u001b[0m_get_lightfm_data\u001b[0m\u001b[1;33m(\u001b[0m\u001b[1;33m)\u001b[0m\u001b[1;33m\u001b[0m\u001b[1;33m\u001b[0m\u001b[0m\n\u001b[0;32m    941\u001b[0m \u001b[1;33m\u001b[0m\u001b[0m\n\u001b[1;32m--> 942\u001b[1;33m         predict_ranks(\n\u001b[0m\u001b[0;32m    943\u001b[0m             \u001b[0mCSRMatrix\u001b[0m\u001b[1;33m(\u001b[0m\u001b[0mitem_features\u001b[0m\u001b[1;33m)\u001b[0m\u001b[1;33m,\u001b[0m\u001b[1;33m\u001b[0m\u001b[1;33m\u001b[0m\u001b[0m\n\u001b[0;32m    944\u001b[0m             \u001b[0mCSRMatrix\u001b[0m\u001b[1;33m(\u001b[0m\u001b[0muser_features\u001b[0m\u001b[1;33m)\u001b[0m\u001b[1;33m,\u001b[0m\u001b[1;33m\u001b[0m\u001b[1;33m\u001b[0m\u001b[0m\n",
      "\u001b[1;31mKeyboardInterrupt\u001b[0m: "
     ]
    }
   ],
   "source": [
    "for i in np.arange(20):\n",
    "    evaluate_feats(model_params = dict(no_components=100, loss='warp'), epochs=i)"
   ]
  },
  {
   "cell_type": "code",
   "execution_count": 251,
   "metadata": {},
   "outputs": [],
   "source": [
    "def sample_hyperparameters():\n",
    "    \"\"\"\n",
    "    Yield possible hyperparameter choices.\n",
    "    \"\"\"\n",
    "\n",
    "    while True:\n",
    "        yield {\n",
    "            \"no_components\": np.random.randint(16, 128),\n",
    "            \"learning_schedule\": np.random.choice([\"adagrad\", \"adadelta\"]),\n",
    "            #\"loss\": np.random.choice([\"bpr\", \"warp\", \"warp-kos\"]),\n",
    "            \"learning_rate\": np.random.exponential(0.05),\n",
    "            \"item_alpha\": np.random.exponential(1e-8),\n",
    "            \"user_alpha\": np.random.exponential(1e-8),\n",
    "            \"max_sampled\": np.random.randint(5, 15),\n",
    "            \"num_epochs\": np.random.randint(5, 50),\n",
    "        }\n",
    "\n",
    "\n",
    "def random_search(train, test, num_samples=10, num_threads=1):\n",
    "    \"\"\"\n",
    "    Sample random hyperparameters, fit a LightFM model, and evaluate it\n",
    "    on the test set.\n",
    "\n",
    "    Parameters\n",
    "    ----------\n",
    "\n",
    "    train: np.float32 coo_matrix of shape [n_users, n_items]\n",
    "        Training data.\n",
    "    test: np.float32 coo_matrix of shape [n_users, n_items]\n",
    "        Test data.\n",
    "    num_samples: int, optional\n",
    "        Number of hyperparameter choices to evaluate.\n",
    "\n",
    "\n",
    "    Returns\n",
    "    -------\n",
    "\n",
    "    generator of (auc_score, hyperparameter dict, fitted model)\n",
    "\n",
    "    \"\"\"\n",
    "    import itertools\n",
    "    for hyperparams in itertools.islice(sample_hyperparameters(), num_samples):\n",
    "        num_epochs = hyperparams.pop(\"num_epochs\")\n",
    "\n",
    "        model = LightFM(**hyperparams, loss='bpr', random_state=1)\n",
    "        model.fit(data['train'], epochs=num_epochs, num_threads=num_threads)\n",
    "\n",
    "        auc = auc_score(model, data['test'], train_interactions=data['train'], num_threads=num_threads).mean()\n",
    "        prec = precision_at_k(model, data['test'], k=10, train_interactions=data['train']).mean()\n",
    "        \n",
    "        hyperparams[\"num_epochs\"] = num_epochs\n",
    "        print(auc, prec, hyperparams)\n",
    "        yield (auc, prec, hyperparams, model)"
   ]
  },
  {
   "cell_type": "code",
   "execution_count": 252,
   "metadata": {
    "scrolled": true
   },
   "outputs": [
    {
     "name": "stdout",
     "output_type": "stream",
     "text": [
      "0.87021804 0.16796407 {'no_components': 68, 'learning_schedule': 'adagrad', 'learning_rate': 0.025226879613373162, 'item_alpha': 8.908310526277831e-10, 'user_alpha': 4.9360491549262306e-09, 'max_sampled': 11, 'num_epochs': 36}\n",
      "0.86321425 0.13529192 {'no_components': 17, 'learning_schedule': 'adagrad', 'learning_rate': 0.12685879415614829, 'item_alpha': 1.0765226131936803e-08, 'user_alpha': 4.297429548223116e-08, 'max_sampled': 7, 'num_epochs': 7}\n",
      "0.87430525 0.16021708 {'no_components': 100, 'learning_schedule': 'adadelta', 'learning_rate': 0.029186758987243763, 'item_alpha': 1.1672166047888302e-08, 'user_alpha': 1.3055982574666412e-08, 'max_sampled': 14, 'num_epochs': 34}\n",
      "0.72541046 0.16208833 {'no_components': 91, 'learning_schedule': 'adagrad', 'learning_rate': 0.034357757996927245, 'item_alpha': 9.511138218904433e-09, 'user_alpha': 2.1003039203482873e-09, 'max_sampled': 8, 'num_epochs': 6}\n",
      "0.61273944 0.10093563 {'no_components': 105, 'learning_schedule': 'adagrad', 'learning_rate': 0.002502373690401009, 'item_alpha': 1.2407742547393954e-09, 'user_alpha': 2.4325267552920185e-08, 'max_sampled': 11, 'num_epochs': 31}\n"
     ]
    },
    {
     "ename": "KeyboardInterrupt",
     "evalue": "",
     "output_type": "error",
     "traceback": [
      "\u001b[1;31m---------------------------------------------------------------------------\u001b[0m",
      "\u001b[1;31mKeyboardInterrupt\u001b[0m                         Traceback (most recent call last)",
      "\u001b[1;32m<ipython-input-252-25774e42893c>\u001b[0m in \u001b[0;36m<module>\u001b[1;34m\u001b[0m\n\u001b[1;32m----> 1\u001b[1;33m \u001b[1;33m(\u001b[0m\u001b[0mauc\u001b[0m\u001b[1;33m,\u001b[0m \u001b[0mprec\u001b[0m\u001b[1;33m,\u001b[0m \u001b[0mhyperparams\u001b[0m\u001b[1;33m,\u001b[0m \u001b[0mmodel\u001b[0m\u001b[1;33m)\u001b[0m \u001b[1;33m=\u001b[0m \u001b[0mmax\u001b[0m\u001b[1;33m(\u001b[0m\u001b[0mrandom_search\u001b[0m\u001b[1;33m(\u001b[0m\u001b[0mdata\u001b[0m\u001b[1;33m[\u001b[0m\u001b[1;34m'train'\u001b[0m\u001b[1;33m]\u001b[0m\u001b[1;33m,\u001b[0m \u001b[0mdata\u001b[0m\u001b[1;33m[\u001b[0m\u001b[1;34m'test'\u001b[0m\u001b[1;33m]\u001b[0m\u001b[1;33m,\u001b[0m \u001b[0mnum_threads\u001b[0m\u001b[1;33m=\u001b[0m\u001b[1;36m1\u001b[0m\u001b[1;33m)\u001b[0m\u001b[1;33m,\u001b[0m \u001b[0mkey\u001b[0m\u001b[1;33m=\u001b[0m\u001b[1;32mlambda\u001b[0m \u001b[0mx\u001b[0m\u001b[1;33m:\u001b[0m \u001b[0mx\u001b[0m\u001b[1;33m[\u001b[0m\u001b[1;36m1\u001b[0m\u001b[1;33m]\u001b[0m\u001b[1;33m)\u001b[0m\u001b[1;33m\u001b[0m\u001b[1;33m\u001b[0m\u001b[0m\n\u001b[0m\u001b[0;32m      2\u001b[0m \u001b[0mprint\u001b[0m\u001b[1;33m(\u001b[0m\u001b[1;34m\"Best roc_auc {}, precision {} at {}\"\u001b[0m\u001b[1;33m.\u001b[0m\u001b[0mformat\u001b[0m\u001b[1;33m(\u001b[0m\u001b[0mauc\u001b[0m\u001b[1;33m,\u001b[0m \u001b[0mprec\u001b[0m\u001b[1;33m,\u001b[0m \u001b[0mhyperparams\u001b[0m\u001b[1;33m)\u001b[0m\u001b[1;33m)\u001b[0m\u001b[1;33m\u001b[0m\u001b[1;33m\u001b[0m\u001b[0m\n",
      "\u001b[1;32m<ipython-input-251-35de84647679>\u001b[0m in \u001b[0;36mrandom_search\u001b[1;34m(train, test, num_samples, num_threads)\u001b[0m\n\u001b[0;32m     44\u001b[0m \u001b[1;33m\u001b[0m\u001b[0m\n\u001b[0;32m     45\u001b[0m         \u001b[0mmodel\u001b[0m \u001b[1;33m=\u001b[0m \u001b[0mLightFM\u001b[0m\u001b[1;33m(\u001b[0m\u001b[1;33m**\u001b[0m\u001b[0mhyperparams\u001b[0m\u001b[1;33m,\u001b[0m \u001b[0mloss\u001b[0m\u001b[1;33m=\u001b[0m\u001b[1;34m'bpr'\u001b[0m\u001b[1;33m,\u001b[0m \u001b[0mrandom_state\u001b[0m\u001b[1;33m=\u001b[0m\u001b[1;36m1\u001b[0m\u001b[1;33m)\u001b[0m\u001b[1;33m\u001b[0m\u001b[1;33m\u001b[0m\u001b[0m\n\u001b[1;32m---> 46\u001b[1;33m         \u001b[0mmodel\u001b[0m\u001b[1;33m.\u001b[0m\u001b[0mfit\u001b[0m\u001b[1;33m(\u001b[0m\u001b[0mdata\u001b[0m\u001b[1;33m[\u001b[0m\u001b[1;34m'train'\u001b[0m\u001b[1;33m]\u001b[0m\u001b[1;33m,\u001b[0m \u001b[0mepochs\u001b[0m\u001b[1;33m=\u001b[0m\u001b[0mnum_epochs\u001b[0m\u001b[1;33m,\u001b[0m \u001b[0mnum_threads\u001b[0m\u001b[1;33m=\u001b[0m\u001b[0mnum_threads\u001b[0m\u001b[1;33m)\u001b[0m\u001b[1;33m\u001b[0m\u001b[1;33m\u001b[0m\u001b[0m\n\u001b[0m\u001b[0;32m     47\u001b[0m \u001b[1;33m\u001b[0m\u001b[0m\n\u001b[0;32m     48\u001b[0m         \u001b[0mauc\u001b[0m \u001b[1;33m=\u001b[0m \u001b[0mauc_score\u001b[0m\u001b[1;33m(\u001b[0m\u001b[0mmodel\u001b[0m\u001b[1;33m,\u001b[0m \u001b[0mdata\u001b[0m\u001b[1;33m[\u001b[0m\u001b[1;34m'test'\u001b[0m\u001b[1;33m]\u001b[0m\u001b[1;33m,\u001b[0m \u001b[0mtrain_interactions\u001b[0m\u001b[1;33m=\u001b[0m\u001b[0mdata\u001b[0m\u001b[1;33m[\u001b[0m\u001b[1;34m'train'\u001b[0m\u001b[1;33m]\u001b[0m\u001b[1;33m,\u001b[0m \u001b[0mnum_threads\u001b[0m\u001b[1;33m=\u001b[0m\u001b[0mnum_threads\u001b[0m\u001b[1;33m)\u001b[0m\u001b[1;33m.\u001b[0m\u001b[0mmean\u001b[0m\u001b[1;33m(\u001b[0m\u001b[1;33m)\u001b[0m\u001b[1;33m\u001b[0m\u001b[1;33m\u001b[0m\u001b[0m\n",
      "\u001b[1;32mc:\\python39\\lib\\site-packages\\lightfm\\lightfm.py\u001b[0m in \u001b[0;36mfit\u001b[1;34m(self, interactions, user_features, item_features, sample_weight, epochs, num_threads, verbose)\u001b[0m\n\u001b[0;32m    531\u001b[0m         \u001b[0mself\u001b[0m\u001b[1;33m.\u001b[0m\u001b[0m_reset_state\u001b[0m\u001b[1;33m(\u001b[0m\u001b[1;33m)\u001b[0m\u001b[1;33m\u001b[0m\u001b[1;33m\u001b[0m\u001b[0m\n\u001b[0;32m    532\u001b[0m \u001b[1;33m\u001b[0m\u001b[0m\n\u001b[1;32m--> 533\u001b[1;33m         return self.fit_partial(\n\u001b[0m\u001b[0;32m    534\u001b[0m             \u001b[0minteractions\u001b[0m\u001b[1;33m,\u001b[0m\u001b[1;33m\u001b[0m\u001b[1;33m\u001b[0m\u001b[0m\n\u001b[0;32m    535\u001b[0m             \u001b[0muser_features\u001b[0m\u001b[1;33m=\u001b[0m\u001b[0muser_features\u001b[0m\u001b[1;33m,\u001b[0m\u001b[1;33m\u001b[0m\u001b[1;33m\u001b[0m\u001b[0m\n",
      "\u001b[1;32mc:\\python39\\lib\\site-packages\\lightfm\\lightfm.py\u001b[0m in \u001b[0;36mfit_partial\u001b[1;34m(self, interactions, user_features, item_features, sample_weight, epochs, num_threads, verbose)\u001b[0m\n\u001b[0;32m    636\u001b[0m \u001b[1;33m\u001b[0m\u001b[0m\n\u001b[0;32m    637\u001b[0m         \u001b[1;32mfor\u001b[0m \u001b[0m_\u001b[0m \u001b[1;32min\u001b[0m \u001b[0mself\u001b[0m\u001b[1;33m.\u001b[0m\u001b[0m_progress\u001b[0m\u001b[1;33m(\u001b[0m\u001b[0mepochs\u001b[0m\u001b[1;33m,\u001b[0m \u001b[0mverbose\u001b[0m\u001b[1;33m=\u001b[0m\u001b[0mverbose\u001b[0m\u001b[1;33m)\u001b[0m\u001b[1;33m:\u001b[0m\u001b[1;33m\u001b[0m\u001b[1;33m\u001b[0m\u001b[0m\n\u001b[1;32m--> 638\u001b[1;33m             self._run_epoch(\n\u001b[0m\u001b[0;32m    639\u001b[0m                 \u001b[0mitem_features\u001b[0m\u001b[1;33m,\u001b[0m\u001b[1;33m\u001b[0m\u001b[1;33m\u001b[0m\u001b[0m\n\u001b[0;32m    640\u001b[0m                 \u001b[0muser_features\u001b[0m\u001b[1;33m,\u001b[0m\u001b[1;33m\u001b[0m\u001b[1;33m\u001b[0m\u001b[0m\n",
      "\u001b[1;32mc:\\python39\\lib\\site-packages\\lightfm\\lightfm.py\u001b[0m in \u001b[0;36m_run_epoch\u001b[1;34m(self, item_features, user_features, interactions, sample_weight, num_threads, loss)\u001b[0m\n\u001b[0;32m    694\u001b[0m             )\n\u001b[0;32m    695\u001b[0m         \u001b[1;32melif\u001b[0m \u001b[0mloss\u001b[0m \u001b[1;33m==\u001b[0m \u001b[1;34m\"bpr\"\u001b[0m\u001b[1;33m:\u001b[0m\u001b[1;33m\u001b[0m\u001b[1;33m\u001b[0m\u001b[0m\n\u001b[1;32m--> 696\u001b[1;33m             fit_bpr(\n\u001b[0m\u001b[0;32m    697\u001b[0m                 \u001b[0mCSRMatrix\u001b[0m\u001b[1;33m(\u001b[0m\u001b[0mitem_features\u001b[0m\u001b[1;33m)\u001b[0m\u001b[1;33m,\u001b[0m\u001b[1;33m\u001b[0m\u001b[1;33m\u001b[0m\u001b[0m\n\u001b[0;32m    698\u001b[0m                 \u001b[0mCSRMatrix\u001b[0m\u001b[1;33m(\u001b[0m\u001b[0muser_features\u001b[0m\u001b[1;33m)\u001b[0m\u001b[1;33m,\u001b[0m\u001b[1;33m\u001b[0m\u001b[1;33m\u001b[0m\u001b[0m\n",
      "\u001b[1;31mKeyboardInterrupt\u001b[0m: "
     ]
    }
   ],
   "source": [
    "(auc, prec, hyperparams, model) = max(random_search(data['train'], data['test'], num_threads=1), key=lambda x: x[1])\n",
    "print(\"Best roc_auc {}, precision {} at {}\".format(auc, prec, hyperparams))"
   ]
  },
  {
   "cell_type": "code",
   "execution_count": 366,
   "metadata": {
    "colab": {
     "base_uri": "https://localhost:8080/"
    },
    "executionInfo": {
     "elapsed": 19909,
     "status": "ok",
     "timestamp": 1618936972652,
     "user": {
      "displayName": "Yuriy Sosnin",
      "photoUrl": "",
      "userId": "11943109303922880437"
     },
     "user_tz": -180
    },
    "id": "Co7H_IBrIRQg",
    "outputId": "f55d1f51-9502-453d-af5b-f0ec6e42f1d6"
   },
   "outputs": [
    {
     "data": {
      "text/plain": [
       "<lightfm.lightfm.LightFM at 0x7f517dd0b110>"
      ]
     },
     "execution_count": 366,
     "metadata": {
      "tags": []
     },
     "output_type": "execute_result"
    }
   ],
   "source": [
    "model = LightFM(learning_rate=0.05, loss='warp')\n",
    "model.fit(weights, epochs=10)"
   ]
  },
  {
   "cell_type": "code",
   "execution_count": 319,
   "metadata": {
    "executionInfo": {
     "elapsed": 595,
     "status": "ok",
     "timestamp": 1618934318319,
     "user": {
      "displayName": "Yuriy Sosnin",
      "photoUrl": "",
      "userId": "11943109303922880437"
     },
     "user_tz": -180
    },
    "id": "1hv9LKOMi6Mu"
   },
   "outputs": [],
   "source": [
    "def sample_recommendation_original(model, data, user_id, k=10, print_output=True):\n",
    "\n",
    "  n_users, n_items = data['train'].shape\n",
    "\n",
    "  known_positives = data['item_labels'][data['train'].tocsr()[user_id].indices]\n",
    "  scores = model.predict(user_id, np.arange(n_items))\n",
    "  top_items = data['item_labels'][np.argsort(-scores)]\n",
    "  if print_output == True:\n",
    "    for x in known_positives[:k]:\n",
    "      print(\"        %s\" % x)\n",
    "    print(\"     Recommended:\")\n",
    "    for x in top_items[:k]:\n",
    "      print(\"        %s\" % x)"
   ]
  },
  {
   "cell_type": "code",
   "execution_count": 320,
   "metadata": {
    "colab": {
     "base_uri": "https://localhost:8080/"
    },
    "executionInfo": {
     "elapsed": 729,
     "status": "ok",
     "timestamp": 1618934321911,
     "user": {
      "displayName": "Yuriy Sosnin",
      "photoUrl": "",
      "userId": "11943109303922880437"
     },
     "user_tz": -180
    },
    "id": "m9wPp3dnlvbv",
    "outputId": "3637ac3d-74d2-4de0-b90e-654a1bd0dc41"
   },
   "outputs": [
    {
     "name": "stdout",
     "output_type": "stream",
     "text": [
      "        The Hunger Games (The Hunger Games, #1)\n",
      "        Harry Potter and the Sorcerer's Stone (Harry Potter, #1)\n",
      "        Twilight (Twilight, #1)\n",
      "        To Kill a Mockingbird\n",
      "        The Fault in Our Stars\n",
      "        The Hobbit\n",
      "        The Catcher in the Rye\n",
      "        Angels & Demons  (Robert Langdon, #1)\n",
      "        Pride and Prejudice\n",
      "        The Kite Runner\n",
      "     Recommended:\n",
      "        The Giver (The Giver, #1)\n",
      "        Memoirs of a Geisha\n",
      "        The Hobbit\n",
      "        To Kill a Mockingbird\n",
      "        Divine Secrets of the Ya-Ya Sisterhood\n",
      "        Like Water for Chocolate\n",
      "        The Catcher in the Rye\n",
      "        Angela's Ashes (Frank McCourt, #1)\n",
      "        Siddhartha\n",
      "        Life of Pi\n"
     ]
    }
   ],
   "source": [
    "sample_recommendation_original(model, data, 0)"
   ]
  },
  {
   "cell_type": "code",
   "execution_count": 147,
   "metadata": {
    "executionInfo": {
     "elapsed": 785,
     "status": "ok",
     "timestamp": 1618939567148,
     "user": {
      "displayName": "Yuriy Sosnin",
      "photoUrl": "",
      "userId": "11943109303922880437"
     },
     "user_tz": -180
    },
    "id": "2pahcyYvDgR1"
   },
   "outputs": [],
   "source": [
    "def fetch_user_ratings_id(user_id):\n",
    "  pd.options.mode.chained_assignment = None\n",
    "  user_ratings = ratings.loc[ratings['user_id']==user_id, :]\n",
    "  user_ratings['user_id'] = 0\n",
    "  return user_ratings"
   ]
  },
  {
   "cell_type": "markdown",
   "metadata": {},
   "source": [
    "## setup"
   ]
  },
  {
   "cell_type": "code",
   "execution_count": 7,
   "metadata": {},
   "outputs": [
    {
     "data": {
      "text/html": [
       "<div>\n",
       "<style scoped>\n",
       "    .dataframe tbody tr th:only-of-type {\n",
       "        vertical-align: middle;\n",
       "    }\n",
       "\n",
       "    .dataframe tbody tr th {\n",
       "        vertical-align: top;\n",
       "    }\n",
       "\n",
       "    .dataframe thead th {\n",
       "        text-align: right;\n",
       "    }\n",
       "</style>\n",
       "<table border=\"1\" class=\"dataframe\">\n",
       "  <thead>\n",
       "    <tr style=\"text-align: right;\">\n",
       "      <th></th>\n",
       "      <th>user_id</th>\n",
       "      <th>book_id</th>\n",
       "      <th>rating</th>\n",
       "    </tr>\n",
       "  </thead>\n",
       "  <tbody>\n",
       "    <tr>\n",
       "      <th>4321395</th>\n",
       "      <td>13</td>\n",
       "      <td>143</td>\n",
       "      <td>4</td>\n",
       "    </tr>\n",
       "    <tr>\n",
       "      <th>4321347</th>\n",
       "      <td>13</td>\n",
       "      <td>1522</td>\n",
       "      <td>3</td>\n",
       "    </tr>\n",
       "    <tr>\n",
       "      <th>4321345</th>\n",
       "      <td>13</td>\n",
       "      <td>396</td>\n",
       "      <td>4</td>\n",
       "    </tr>\n",
       "    <tr>\n",
       "      <th>4321344</th>\n",
       "      <td>13</td>\n",
       "      <td>930</td>\n",
       "      <td>4</td>\n",
       "    </tr>\n",
       "    <tr>\n",
       "      <th>4321343</th>\n",
       "      <td>13</td>\n",
       "      <td>31</td>\n",
       "      <td>5</td>\n",
       "    </tr>\n",
       "    <tr>\n",
       "      <th>...</th>\n",
       "      <td>...</td>\n",
       "      <td>...</td>\n",
       "      <td>...</td>\n",
       "    </tr>\n",
       "    <tr>\n",
       "      <th>5387830</th>\n",
       "      <td>53396</td>\n",
       "      <td>3037</td>\n",
       "      <td>5</td>\n",
       "    </tr>\n",
       "    <tr>\n",
       "      <th>5387831</th>\n",
       "      <td>53396</td>\n",
       "      <td>3169</td>\n",
       "      <td>5</td>\n",
       "    </tr>\n",
       "    <tr>\n",
       "      <th>5387833</th>\n",
       "      <td>53396</td>\n",
       "      <td>2993</td>\n",
       "      <td>5</td>\n",
       "    </tr>\n",
       "    <tr>\n",
       "      <th>5387813</th>\n",
       "      <td>53396</td>\n",
       "      <td>4078</td>\n",
       "      <td>3</td>\n",
       "    </tr>\n",
       "    <tr>\n",
       "      <th>5387878</th>\n",
       "      <td>53396</td>\n",
       "      <td>4521</td>\n",
       "      <td>5</td>\n",
       "    </tr>\n",
       "  </tbody>\n",
       "</table>\n",
       "<p>298176 rows × 3 columns</p>\n",
       "</div>"
      ],
      "text/plain": [
       "         user_id  book_id  rating\n",
       "4321395       13      143       4\n",
       "4321347       13     1522       3\n",
       "4321345       13      396       4\n",
       "4321344       13      930       4\n",
       "4321343       13       31       5\n",
       "...          ...      ...     ...\n",
       "5387830    53396     3037       5\n",
       "5387831    53396     3169       5\n",
       "5387833    53396     2993       5\n",
       "5387813    53396     4078       3\n",
       "5387878    53396     4521       5\n",
       "\n",
       "[298176 rows x 3 columns]"
      ]
     },
     "execution_count": 7,
     "metadata": {},
     "output_type": "execute_result"
    }
   ],
   "source": [
    "from sklearn.model_selection import train_test_split\n",
    "_, random_users = train_test_split(ratings.user_id.unique(), test_size = 0.05, random_state = 322)\n",
    "\n",
    "ratings_random = ratings.loc[ratings['user_id'].isin(random_users)]\n",
    "ratings_random.sort_values('user_id')"
   ]
  },
  {
   "cell_type": "code",
   "execution_count": 31,
   "metadata": {},
   "outputs": [
    {
     "data": {
      "text/plain": [
       "<10000x10000 sparse matrix of type '<class 'numpy.float64'>'\n",
       "\twith 20689 stored elements in COOrdinate format>"
      ]
     },
     "execution_count": 31,
     "metadata": {},
     "output_type": "execute_result"
    }
   ],
   "source": [
    "#внимание, костыль.\n",
    "features_kostyl = sp.hstack((\n",
    "    features,\n",
    "    sp.coo_matrix((10000,10000-features.shape[1])),\n",
    "))\n",
    "features_kostyl"
   ]
  },
  {
   "cell_type": "code",
   "execution_count": 33,
   "metadata": {},
   "outputs": [
    {
     "data": {
      "text/html": [
       "<div>\n",
       "<style scoped>\n",
       "    .dataframe tbody tr th:only-of-type {\n",
       "        vertical-align: middle;\n",
       "    }\n",
       "\n",
       "    .dataframe tbody tr th {\n",
       "        vertical-align: top;\n",
       "    }\n",
       "\n",
       "    .dataframe thead th {\n",
       "        text-align: right;\n",
       "    }\n",
       "</style>\n",
       "<table border=\"1\" class=\"dataframe\">\n",
       "  <thead>\n",
       "    <tr style=\"text-align: right;\">\n",
       "      <th></th>\n",
       "      <th>0</th>\n",
       "      <th>1</th>\n",
       "      <th>2</th>\n",
       "      <th>3</th>\n",
       "      <th>4</th>\n",
       "      <th>5</th>\n",
       "      <th>6</th>\n",
       "      <th>7</th>\n",
       "      <th>8</th>\n",
       "      <th>9</th>\n",
       "      <th>...</th>\n",
       "      <th>4320</th>\n",
       "      <th>4321</th>\n",
       "      <th>4322</th>\n",
       "      <th>4323</th>\n",
       "      <th>4324</th>\n",
       "      <th>4325</th>\n",
       "      <th>4326</th>\n",
       "      <th>4327</th>\n",
       "      <th>4328</th>\n",
       "      <th>4329</th>\n",
       "    </tr>\n",
       "  </thead>\n",
       "  <tbody>\n",
       "    <tr>\n",
       "      <th>0</th>\n",
       "      <td>0</td>\n",
       "      <td>0</td>\n",
       "      <td>0</td>\n",
       "      <td>0</td>\n",
       "      <td>0</td>\n",
       "      <td>0</td>\n",
       "      <td>0</td>\n",
       "      <td>0</td>\n",
       "      <td>0</td>\n",
       "      <td>0</td>\n",
       "      <td>...</td>\n",
       "      <td>0</td>\n",
       "      <td>0</td>\n",
       "      <td>0</td>\n",
       "      <td>0</td>\n",
       "      <td>0</td>\n",
       "      <td>0</td>\n",
       "      <td>0</td>\n",
       "      <td>0</td>\n",
       "      <td>0</td>\n",
       "      <td>0</td>\n",
       "    </tr>\n",
       "    <tr>\n",
       "      <th>1</th>\n",
       "      <td>0</td>\n",
       "      <td>0</td>\n",
       "      <td>0</td>\n",
       "      <td>0</td>\n",
       "      <td>0</td>\n",
       "      <td>0</td>\n",
       "      <td>0</td>\n",
       "      <td>0</td>\n",
       "      <td>0</td>\n",
       "      <td>0</td>\n",
       "      <td>...</td>\n",
       "      <td>0</td>\n",
       "      <td>0</td>\n",
       "      <td>0</td>\n",
       "      <td>0</td>\n",
       "      <td>0</td>\n",
       "      <td>0</td>\n",
       "      <td>0</td>\n",
       "      <td>0</td>\n",
       "      <td>0</td>\n",
       "      <td>0</td>\n",
       "    </tr>\n",
       "    <tr>\n",
       "      <th>2</th>\n",
       "      <td>0</td>\n",
       "      <td>0</td>\n",
       "      <td>0</td>\n",
       "      <td>0</td>\n",
       "      <td>0</td>\n",
       "      <td>0</td>\n",
       "      <td>0</td>\n",
       "      <td>0</td>\n",
       "      <td>0</td>\n",
       "      <td>0</td>\n",
       "      <td>...</td>\n",
       "      <td>0</td>\n",
       "      <td>0</td>\n",
       "      <td>0</td>\n",
       "      <td>0</td>\n",
       "      <td>0</td>\n",
       "      <td>0</td>\n",
       "      <td>0</td>\n",
       "      <td>0</td>\n",
       "      <td>0</td>\n",
       "      <td>0</td>\n",
       "    </tr>\n",
       "    <tr>\n",
       "      <th>3</th>\n",
       "      <td>0</td>\n",
       "      <td>0</td>\n",
       "      <td>0</td>\n",
       "      <td>0</td>\n",
       "      <td>0</td>\n",
       "      <td>0</td>\n",
       "      <td>0</td>\n",
       "      <td>0</td>\n",
       "      <td>0</td>\n",
       "      <td>0</td>\n",
       "      <td>...</td>\n",
       "      <td>0</td>\n",
       "      <td>0</td>\n",
       "      <td>0</td>\n",
       "      <td>0</td>\n",
       "      <td>0</td>\n",
       "      <td>0</td>\n",
       "      <td>0</td>\n",
       "      <td>0</td>\n",
       "      <td>0</td>\n",
       "      <td>0</td>\n",
       "    </tr>\n",
       "    <tr>\n",
       "      <th>4</th>\n",
       "      <td>0</td>\n",
       "      <td>0</td>\n",
       "      <td>0</td>\n",
       "      <td>0</td>\n",
       "      <td>0</td>\n",
       "      <td>0</td>\n",
       "      <td>0</td>\n",
       "      <td>0</td>\n",
       "      <td>0</td>\n",
       "      <td>0</td>\n",
       "      <td>...</td>\n",
       "      <td>0</td>\n",
       "      <td>0</td>\n",
       "      <td>0</td>\n",
       "      <td>0</td>\n",
       "      <td>0</td>\n",
       "      <td>0</td>\n",
       "      <td>0</td>\n",
       "      <td>0</td>\n",
       "      <td>0</td>\n",
       "      <td>0</td>\n",
       "    </tr>\n",
       "    <tr>\n",
       "      <th>...</th>\n",
       "      <td>...</td>\n",
       "      <td>...</td>\n",
       "      <td>...</td>\n",
       "      <td>...</td>\n",
       "      <td>...</td>\n",
       "      <td>...</td>\n",
       "      <td>...</td>\n",
       "      <td>...</td>\n",
       "      <td>...</td>\n",
       "      <td>...</td>\n",
       "      <td>...</td>\n",
       "      <td>...</td>\n",
       "      <td>...</td>\n",
       "      <td>...</td>\n",
       "      <td>...</td>\n",
       "      <td>...</td>\n",
       "      <td>...</td>\n",
       "      <td>...</td>\n",
       "      <td>...</td>\n",
       "      <td>...</td>\n",
       "      <td>...</td>\n",
       "    </tr>\n",
       "    <tr>\n",
       "      <th>9995</th>\n",
       "      <td>0</td>\n",
       "      <td>0</td>\n",
       "      <td>0</td>\n",
       "      <td>0</td>\n",
       "      <td>0</td>\n",
       "      <td>0</td>\n",
       "      <td>0</td>\n",
       "      <td>0</td>\n",
       "      <td>0</td>\n",
       "      <td>0</td>\n",
       "      <td>...</td>\n",
       "      <td>0</td>\n",
       "      <td>0</td>\n",
       "      <td>0</td>\n",
       "      <td>0</td>\n",
       "      <td>0</td>\n",
       "      <td>0</td>\n",
       "      <td>0</td>\n",
       "      <td>0</td>\n",
       "      <td>0</td>\n",
       "      <td>0</td>\n",
       "    </tr>\n",
       "    <tr>\n",
       "      <th>9996</th>\n",
       "      <td>0</td>\n",
       "      <td>0</td>\n",
       "      <td>0</td>\n",
       "      <td>0</td>\n",
       "      <td>0</td>\n",
       "      <td>0</td>\n",
       "      <td>0</td>\n",
       "      <td>0</td>\n",
       "      <td>0</td>\n",
       "      <td>0</td>\n",
       "      <td>...</td>\n",
       "      <td>0</td>\n",
       "      <td>0</td>\n",
       "      <td>0</td>\n",
       "      <td>0</td>\n",
       "      <td>0</td>\n",
       "      <td>0</td>\n",
       "      <td>0</td>\n",
       "      <td>0</td>\n",
       "      <td>0</td>\n",
       "      <td>0</td>\n",
       "    </tr>\n",
       "    <tr>\n",
       "      <th>9997</th>\n",
       "      <td>0</td>\n",
       "      <td>0</td>\n",
       "      <td>0</td>\n",
       "      <td>0</td>\n",
       "      <td>0</td>\n",
       "      <td>0</td>\n",
       "      <td>0</td>\n",
       "      <td>0</td>\n",
       "      <td>0</td>\n",
       "      <td>0</td>\n",
       "      <td>...</td>\n",
       "      <td>0</td>\n",
       "      <td>0</td>\n",
       "      <td>0</td>\n",
       "      <td>0</td>\n",
       "      <td>0</td>\n",
       "      <td>0</td>\n",
       "      <td>0</td>\n",
       "      <td>0</td>\n",
       "      <td>0</td>\n",
       "      <td>0</td>\n",
       "    </tr>\n",
       "    <tr>\n",
       "      <th>9998</th>\n",
       "      <td>0</td>\n",
       "      <td>0</td>\n",
       "      <td>0</td>\n",
       "      <td>0</td>\n",
       "      <td>0</td>\n",
       "      <td>0</td>\n",
       "      <td>0</td>\n",
       "      <td>0</td>\n",
       "      <td>0</td>\n",
       "      <td>0</td>\n",
       "      <td>...</td>\n",
       "      <td>0</td>\n",
       "      <td>0</td>\n",
       "      <td>0</td>\n",
       "      <td>0</td>\n",
       "      <td>0</td>\n",
       "      <td>0</td>\n",
       "      <td>0</td>\n",
       "      <td>0</td>\n",
       "      <td>0</td>\n",
       "      <td>0</td>\n",
       "    </tr>\n",
       "    <tr>\n",
       "      <th>9999</th>\n",
       "      <td>0</td>\n",
       "      <td>0</td>\n",
       "      <td>0</td>\n",
       "      <td>0</td>\n",
       "      <td>0</td>\n",
       "      <td>0</td>\n",
       "      <td>0</td>\n",
       "      <td>0</td>\n",
       "      <td>0</td>\n",
       "      <td>0</td>\n",
       "      <td>...</td>\n",
       "      <td>0</td>\n",
       "      <td>0</td>\n",
       "      <td>0</td>\n",
       "      <td>0</td>\n",
       "      <td>0</td>\n",
       "      <td>0</td>\n",
       "      <td>0</td>\n",
       "      <td>0</td>\n",
       "      <td>0</td>\n",
       "      <td>0</td>\n",
       "    </tr>\n",
       "  </tbody>\n",
       "</table>\n",
       "<p>10000 rows × 4330 columns</p>\n",
       "</div>"
      ],
      "text/plain": [
       "      0     1     2     3     4     5     6     7     8     9     ...  4320  \\\n",
       "0        0     0     0     0     0     0     0     0     0     0  ...     0   \n",
       "1        0     0     0     0     0     0     0     0     0     0  ...     0   \n",
       "2        0     0     0     0     0     0     0     0     0     0  ...     0   \n",
       "3        0     0     0     0     0     0     0     0     0     0  ...     0   \n",
       "4        0     0     0     0     0     0     0     0     0     0  ...     0   \n",
       "...    ...   ...   ...   ...   ...   ...   ...   ...   ...   ...  ...   ...   \n",
       "9995     0     0     0     0     0     0     0     0     0     0  ...     0   \n",
       "9996     0     0     0     0     0     0     0     0     0     0  ...     0   \n",
       "9997     0     0     0     0     0     0     0     0     0     0  ...     0   \n",
       "9998     0     0     0     0     0     0     0     0     0     0  ...     0   \n",
       "9999     0     0     0     0     0     0     0     0     0     0  ...     0   \n",
       "\n",
       "      4321  4322  4323  4324  4325  4326  4327  4328  4329  \n",
       "0        0     0     0     0     0     0     0     0     0  \n",
       "1        0     0     0     0     0     0     0     0     0  \n",
       "2        0     0     0     0     0     0     0     0     0  \n",
       "3        0     0     0     0     0     0     0     0     0  \n",
       "4        0     0     0     0     0     0     0     0     0  \n",
       "...    ...   ...   ...   ...   ...   ...   ...   ...   ...  \n",
       "9995     0     0     0     0     0     0     0     0     0  \n",
       "9996     0     0     0     0     0     0     0     0     0  \n",
       "9997     0     0     0     0     0     0     0     0     0  \n",
       "9998     0     0     0     0     0     0     0     0     0  \n",
       "9999     0     0     0     0     0     0     0     0     0  \n",
       "\n",
       "[10000 rows x 4330 columns]"
      ]
     },
     "execution_count": 33,
     "metadata": {},
     "output_type": "execute_result"
    }
   ],
   "source": [
    "pd.DataFrame.sparse.from_spmatrix(features)"
   ]
  },
  {
   "cell_type": "code",
   "execution_count": 45,
   "metadata": {},
   "outputs": [],
   "source": [
    "def itervalues2(df):\n",
    "    for i, r in df.iterrows():\n",
    "        yield i, r.values"
   ]
  },
  {
   "cell_type": "code",
   "execution_count": 40,
   "metadata": {},
   "outputs": [
    {
     "data": {
      "text/plain": [
       "<generator object itervalues at 0x0000020B8E851A50>"
      ]
     },
     "execution_count": 40,
     "metadata": {},
     "output_type": "execute_result"
    }
   ],
   "source": [
    "itervalues2(pd.DataFrame.sparse.from_spmatrix(features))"
   ]
  },
  {
   "cell_type": "code",
   "execution_count": null,
   "metadata": {},
   "outputs": [],
   "source": [
    "from lightfm.data import Dataset\n",
    "\n",
    "dataset = Dataset()"
   ]
  },
  {
   "cell_type": "code",
   "execution_count": 84,
   "metadata": {},
   "outputs": [
    {
     "data": {
      "text/html": [
       "<div>\n",
       "<style scoped>\n",
       "    .dataframe tbody tr th:only-of-type {\n",
       "        vertical-align: middle;\n",
       "    }\n",
       "\n",
       "    .dataframe tbody tr th {\n",
       "        vertical-align: top;\n",
       "    }\n",
       "\n",
       "    .dataframe thead th {\n",
       "        text-align: right;\n",
       "    }\n",
       "</style>\n",
       "<table border=\"1\" class=\"dataframe\">\n",
       "  <thead>\n",
       "    <tr style=\"text-align: right;\">\n",
       "      <th></th>\n",
       "      <th>col1</th>\n",
       "      <th>col2</th>\n",
       "    </tr>\n",
       "  </thead>\n",
       "  <tbody>\n",
       "    <tr>\n",
       "      <th>0</th>\n",
       "      <td>69</td>\n",
       "      <td>0</td>\n",
       "    </tr>\n",
       "    <tr>\n",
       "      <th>1</th>\n",
       "      <td>69</td>\n",
       "      <td>1</td>\n",
       "    </tr>\n",
       "    <tr>\n",
       "      <th>2</th>\n",
       "      <td>69</td>\n",
       "      <td>2</td>\n",
       "    </tr>\n",
       "    <tr>\n",
       "      <th>3</th>\n",
       "      <td>69</td>\n",
       "      <td>3</td>\n",
       "    </tr>\n",
       "    <tr>\n",
       "      <th>4</th>\n",
       "      <td>69</td>\n",
       "      <td>4</td>\n",
       "    </tr>\n",
       "    <tr>\n",
       "      <th>5</th>\n",
       "      <td>69</td>\n",
       "      <td>5</td>\n",
       "    </tr>\n",
       "    <tr>\n",
       "      <th>6</th>\n",
       "      <td>69</td>\n",
       "      <td>6</td>\n",
       "    </tr>\n",
       "    <tr>\n",
       "      <th>7</th>\n",
       "      <td>69</td>\n",
       "      <td>7</td>\n",
       "    </tr>\n",
       "    <tr>\n",
       "      <th>8</th>\n",
       "      <td>69</td>\n",
       "      <td>8</td>\n",
       "    </tr>\n",
       "    <tr>\n",
       "      <th>9</th>\n",
       "      <td>69</td>\n",
       "      <td>9</td>\n",
       "    </tr>\n",
       "  </tbody>\n",
       "</table>\n",
       "</div>"
      ],
      "text/plain": [
       "   col1  col2\n",
       "0    69     0\n",
       "1    69     1\n",
       "2    69     2\n",
       "3    69     3\n",
       "4    69     4\n",
       "5    69     5\n",
       "6    69     6\n",
       "7    69     7\n",
       "8    69     8\n",
       "9    69     9"
      ]
     },
     "execution_count": 84,
     "metadata": {},
     "output_type": "execute_result"
    }
   ],
   "source": [
    "test_feats = pd.DataFrame({'col1':np.repeat(69, 10), 'col2':np.arange(10)})\n",
    "test_feats"
   ]
  },
  {
   "cell_type": "code",
   "execution_count": 85,
   "metadata": {},
   "outputs": [
    {
     "name": "stdout",
     "output_type": "stream",
     "text": [
      "(0, array([69,  0]))\n",
      "(1, array([69,  1]))\n",
      "(2, array([69,  2]))\n",
      "(3, array([69,  3]))\n",
      "(4, array([69,  4]))\n",
      "(5, array([69,  5]))\n",
      "(6, array([69,  6]))\n",
      "(7, array([69,  7]))\n",
      "(8, array([69,  8]))\n",
      "(9, array([69,  9]))\n"
     ]
    }
   ],
   "source": [
    "for i in itervalues2(test_feats):\n",
    "    print(i)"
   ]
  },
  {
   "cell_type": "code",
   "execution_count": 86,
   "metadata": {},
   "outputs": [],
   "source": [
    "def itervalues_test(df):\n",
    "    for i, r in df.iterrows():\n",
    "        yield i, dict(zip(np.arange(df.shape[1]), r))"
   ]
  },
  {
   "cell_type": "code",
   "execution_count": 88,
   "metadata": {},
   "outputs": [
    {
     "data": {
      "text/html": [
       "<div>\n",
       "<style scoped>\n",
       "    .dataframe tbody tr th:only-of-type {\n",
       "        vertical-align: middle;\n",
       "    }\n",
       "\n",
       "    .dataframe tbody tr th {\n",
       "        vertical-align: top;\n",
       "    }\n",
       "\n",
       "    .dataframe thead th {\n",
       "        text-align: right;\n",
       "    }\n",
       "</style>\n",
       "<table border=\"1\" class=\"dataframe\">\n",
       "  <thead>\n",
       "    <tr style=\"text-align: right;\">\n",
       "      <th></th>\n",
       "      <th>0</th>\n",
       "      <th>1</th>\n",
       "      <th>2</th>\n",
       "      <th>3</th>\n",
       "      <th>4</th>\n",
       "      <th>5</th>\n",
       "      <th>6</th>\n",
       "      <th>7</th>\n",
       "      <th>8</th>\n",
       "      <th>9</th>\n",
       "    </tr>\n",
       "  </thead>\n",
       "  <tbody>\n",
       "    <tr>\n",
       "      <th>0</th>\n",
       "      <td>70.0</td>\n",
       "      <td>0.0</td>\n",
       "      <td>0.0</td>\n",
       "      <td>0.0</td>\n",
       "      <td>0.0</td>\n",
       "      <td>0.0</td>\n",
       "      <td>0.0</td>\n",
       "      <td>0.0</td>\n",
       "      <td>0.0</td>\n",
       "      <td>0.0</td>\n",
       "    </tr>\n",
       "    <tr>\n",
       "      <th>1</th>\n",
       "      <td>69.0</td>\n",
       "      <td>2.0</td>\n",
       "      <td>0.0</td>\n",
       "      <td>0.0</td>\n",
       "      <td>0.0</td>\n",
       "      <td>0.0</td>\n",
       "      <td>0.0</td>\n",
       "      <td>0.0</td>\n",
       "      <td>0.0</td>\n",
       "      <td>0.0</td>\n",
       "    </tr>\n",
       "    <tr>\n",
       "      <th>2</th>\n",
       "      <td>69.0</td>\n",
       "      <td>2.0</td>\n",
       "      <td>1.0</td>\n",
       "      <td>0.0</td>\n",
       "      <td>0.0</td>\n",
       "      <td>0.0</td>\n",
       "      <td>0.0</td>\n",
       "      <td>0.0</td>\n",
       "      <td>0.0</td>\n",
       "      <td>0.0</td>\n",
       "    </tr>\n",
       "    <tr>\n",
       "      <th>3</th>\n",
       "      <td>69.0</td>\n",
       "      <td>3.0</td>\n",
       "      <td>0.0</td>\n",
       "      <td>1.0</td>\n",
       "      <td>0.0</td>\n",
       "      <td>0.0</td>\n",
       "      <td>0.0</td>\n",
       "      <td>0.0</td>\n",
       "      <td>0.0</td>\n",
       "      <td>0.0</td>\n",
       "    </tr>\n",
       "    <tr>\n",
       "      <th>4</th>\n",
       "      <td>69.0</td>\n",
       "      <td>4.0</td>\n",
       "      <td>0.0</td>\n",
       "      <td>0.0</td>\n",
       "      <td>1.0</td>\n",
       "      <td>0.0</td>\n",
       "      <td>0.0</td>\n",
       "      <td>0.0</td>\n",
       "      <td>0.0</td>\n",
       "      <td>0.0</td>\n",
       "    </tr>\n",
       "    <tr>\n",
       "      <th>5</th>\n",
       "      <td>69.0</td>\n",
       "      <td>5.0</td>\n",
       "      <td>0.0</td>\n",
       "      <td>0.0</td>\n",
       "      <td>0.0</td>\n",
       "      <td>1.0</td>\n",
       "      <td>0.0</td>\n",
       "      <td>0.0</td>\n",
       "      <td>0.0</td>\n",
       "      <td>0.0</td>\n",
       "    </tr>\n",
       "    <tr>\n",
       "      <th>6</th>\n",
       "      <td>69.0</td>\n",
       "      <td>6.0</td>\n",
       "      <td>0.0</td>\n",
       "      <td>0.0</td>\n",
       "      <td>0.0</td>\n",
       "      <td>0.0</td>\n",
       "      <td>1.0</td>\n",
       "      <td>0.0</td>\n",
       "      <td>0.0</td>\n",
       "      <td>0.0</td>\n",
       "    </tr>\n",
       "    <tr>\n",
       "      <th>7</th>\n",
       "      <td>69.0</td>\n",
       "      <td>7.0</td>\n",
       "      <td>0.0</td>\n",
       "      <td>0.0</td>\n",
       "      <td>0.0</td>\n",
       "      <td>0.0</td>\n",
       "      <td>0.0</td>\n",
       "      <td>1.0</td>\n",
       "      <td>0.0</td>\n",
       "      <td>0.0</td>\n",
       "    </tr>\n",
       "    <tr>\n",
       "      <th>8</th>\n",
       "      <td>69.0</td>\n",
       "      <td>8.0</td>\n",
       "      <td>0.0</td>\n",
       "      <td>0.0</td>\n",
       "      <td>0.0</td>\n",
       "      <td>0.0</td>\n",
       "      <td>0.0</td>\n",
       "      <td>0.0</td>\n",
       "      <td>1.0</td>\n",
       "      <td>0.0</td>\n",
       "    </tr>\n",
       "    <tr>\n",
       "      <th>9</th>\n",
       "      <td>69.0</td>\n",
       "      <td>9.0</td>\n",
       "      <td>0.0</td>\n",
       "      <td>0.0</td>\n",
       "      <td>0.0</td>\n",
       "      <td>0.0</td>\n",
       "      <td>0.0</td>\n",
       "      <td>0.0</td>\n",
       "      <td>0.0</td>\n",
       "      <td>1.0</td>\n",
       "    </tr>\n",
       "  </tbody>\n",
       "</table>\n",
       "</div>"
      ],
      "text/plain": [
       "      0    1    2    3    4    5    6    7    8    9\n",
       "0  70.0  0.0  0.0  0.0  0.0  0.0  0.0  0.0  0.0  0.0\n",
       "1  69.0  2.0  0.0  0.0  0.0  0.0  0.0  0.0  0.0  0.0\n",
       "2  69.0  2.0  1.0  0.0  0.0  0.0  0.0  0.0  0.0  0.0\n",
       "3  69.0  3.0  0.0  1.0  0.0  0.0  0.0  0.0  0.0  0.0\n",
       "4  69.0  4.0  0.0  0.0  1.0  0.0  0.0  0.0  0.0  0.0\n",
       "5  69.0  5.0  0.0  0.0  0.0  1.0  0.0  0.0  0.0  0.0\n",
       "6  69.0  6.0  0.0  0.0  0.0  0.0  1.0  0.0  0.0  0.0\n",
       "7  69.0  7.0  0.0  0.0  0.0  0.0  0.0  1.0  0.0  0.0\n",
       "8  69.0  8.0  0.0  0.0  0.0  0.0  0.0  0.0  1.0  0.0\n",
       "9  69.0  9.0  0.0  0.0  0.0  0.0  0.0  0.0  0.0  1.0"
      ]
     },
     "execution_count": 88,
     "metadata": {},
     "output_type": "execute_result"
    }
   ],
   "source": [
    "dataset.fit(users = np.arange(10),\n",
    "            items = np.arange(10))\n",
    "test = dataset.build_item_features(itervalues_test(test_feats), normalize = False)\n",
    "pd.DataFrame.sparse.from_spmatrix(test)"
   ]
  },
  {
   "cell_type": "code",
   "execution_count": 47,
   "metadata": {},
   "outputs": [
    {
     "data": {
      "text/plain": [
       "<10000x10000 sparse matrix of type '<class 'numpy.float64'>'\n",
       "\twith 20689 stored elements in COOrdinate format>"
      ]
     },
     "execution_count": 47,
     "metadata": {},
     "output_type": "execute_result"
    }
   ],
   "source": [
    "features_kostyl"
   ]
  },
  {
   "cell_type": "code",
   "execution_count": 91,
   "metadata": {
    "id": "ZIVMmfTLaGiG"
   },
   "outputs": [],
   "source": [
    "def setup_lightfm(ratings_data, user_feats=None, item_feats=None):\n",
    "    #from lightfm.data import Dataset\n",
    "    from lightfm import LightFM\n",
    "    #dataset = Dataset()\n",
    "    #dataset.fit(\n",
    "    #    users = np.arange(ratings['user_id'].nunique()+1),\n",
    "    #    items = np.arange(ratings['book_id'].nunique()),\n",
    "    #)\n",
    "    \n",
    "    #def itervalues2(df):\n",
    "    #    for i, r in df.iterrows():\n",
    "    #        yield i, r.values\n",
    "    #item_features = dataset.build_item_features(itervalues2(pd.DataFrame.sparse.from_spmatrix(item_feats)))\n",
    "\n",
    "    ratings_data_local = copy.deepcopy(ratings_data)\n",
    "    ratings_data_local['user_id'] = ratings_data_local['user_id'].replace(\n",
    "        dict(zip(ratings_data_local['user_id'].unique(), np.arange(ratings_data_local['user_id'].nunique()))))\n",
    "\n",
    "    interactions = sp.coo_matrix((\n",
    "        np.repeat(1, ratings_data_local.shape[0]), \n",
    "        (ratings_data_local['user_id'], ratings_data_local['book_id']-1)\n",
    "    ))\n",
    "    \n",
    "    interactions_upd = sp.vstack((\n",
    "        sp.coo_matrix((1,10000)),\n",
    "        interactions\n",
    "    ))\n",
    "    weights = sp.coo_matrix((\n",
    "        ratings_data_local['rating'], \n",
    "        (ratings_data_local['user_id'], ratings_data_local['book_id']-1)\n",
    "    ))\n",
    "    weights_upd = sp.vstack((\n",
    "        sp.coo_matrix((1,10000)),\n",
    "        weights\n",
    "    ))\n",
    "    \n",
    "    feats_kostyl = sp.hstack((\n",
    "        item_feats,\n",
    "        sp.coo_matrix((10000,10000-item_feats.shape[1])),\n",
    "    ))\n",
    "    item_features = sp.identity(10000)+feats_kostyl\n",
    "    \n",
    "    model = LightFM(learning_rate=0.05, loss='bpr', random_state=1)\n",
    "    model.fit(\n",
    "        interactions = interactions_upd,\n",
    "        #user_features = user_feats,\n",
    "        item_features = item_features,\n",
    "        sample_weight = weights_upd,\n",
    "        epochs = 1\n",
    "    )\n",
    "    \n",
    "    print(weights_upd.shape)\n",
    "    #print(item_feats.shape)\n",
    "    return model#, item_features"
   ]
  },
  {
   "cell_type": "code",
   "execution_count": 92,
   "metadata": {},
   "outputs": [
    {
     "name": "stdout",
     "output_type": "stream",
     "text": [
      "(2673, 10000)\n"
     ]
    }
   ],
   "source": [
    "model = setup_lightfm(ratings_random, item_feats = features)"
   ]
  },
  {
   "cell_type": "code",
   "execution_count": 23,
   "metadata": {},
   "outputs": [
    {
     "data": {
      "text/plain": [
       "array([-0.65026385, -0.7456271 , -0.73611665, ..., -0.7176436 ,\n",
       "       -0.7233876 , -0.7262109 ], dtype=float32)"
      ]
     },
     "execution_count": 23,
     "metadata": {},
     "output_type": "execute_result"
    }
   ],
   "source": [
    "model.predict(1, np.arange(10000))"
   ]
  },
  {
   "cell_type": "code",
   "execution_count": 93,
   "metadata": {},
   "outputs": [],
   "source": [
    "def recommend_list_lightfm(user_ratings, ratings_data, algorithm,\n",
    "                           user_features=None, item_features=None, verbose = False, remove_rated = True, n=10):\n",
    "    #dataset_local = copy.deepcopy(dataset)\n",
    "    \n",
    "    #(new_interactions, new_weights) = dataset_local.build_interactions(itervalues(ratings_data.append(user_ratings)))\n",
    "    \n",
    "    ratings_data_local = copy.deepcopy(ratings_data)\n",
    "    \n",
    "    new_ratings_data = user_ratings.append(ratings_data_local)\n",
    "    new_ratings_data['user_id'] = new_ratings_data['user_id'].replace(\n",
    "        dict(zip(new_ratings_data['user_id'].unique(), np.arange(new_ratings_data['user_id'].nunique()))))\n",
    "    \n",
    "    new_interactions = sp.coo_matrix((\n",
    "        np.repeat(1, new_ratings_data.shape[0]), \n",
    "        (new_ratings_data['user_id'], new_ratings_data['book_id']-1)\n",
    "    ))\n",
    "    new_weights = sp.coo_matrix((\n",
    "        new_ratings_data['rating'], \n",
    "        (new_ratings_data['user_id'], new_ratings_data['book_id']-1)\n",
    "    ))\n",
    "    \n",
    "    feats_kostyl = sp.hstack((\n",
    "        item_features,\n",
    "        sp.coo_matrix((10000,10000-item_features.shape[1])),\n",
    "    ))\n",
    "    item_features = sp.identity(10000)+feats_kostyl\n",
    "    \n",
    "    algorithm_local = copy.deepcopy(algorithm)\n",
    "    algorithm_local.fit_partial(interactions = new_interactions, \n",
    "                                #user_features = user_features, \n",
    "                                item_features = item_features,\n",
    "                                sample_weight = new_weights\n",
    "                               )\n",
    "    algorithm_local.item_biases = np.zeros_like(algorithm_local.item_biases)\n",
    "\n",
    "    #data = {'train' : new_weights,\n",
    "    #        'item_features' : None,\n",
    "    #        'item_labels' : book_map['title'].values, \n",
    "    #        'item_feature_labels' : None}\n",
    "    \n",
    "    item_labels = book_map['title'].values\n",
    "    n_users, n_items = new_weights.shape\n",
    "    user_id = 0\n",
    "\n",
    "    known_positives = item_labels[new_weights.tocsr()[user_id].indices]\n",
    "    scores = algorithm_local.predict(user_id, np.arange(n_items))\n",
    "    top_items = item_labels[np.argsort(-scores)]\n",
    "\n",
    "    if remove_rated:\n",
    "        #return [i for i in top_items if i not in known_positives][:n]\n",
    "        return top_items[~np.isin(top_items, known_positives)][:n]\n",
    "    else:\n",
    "        return top_items[:n]"
   ]
  },
  {
   "cell_type": "code",
   "execution_count": 94,
   "metadata": {
    "colab": {
     "base_uri": "https://localhost:8080/"
    },
    "executionInfo": {
     "elapsed": 21622,
     "status": "ok",
     "timestamp": 1618942758694,
     "user": {
      "displayName": "Yuriy Sosnin",
      "photoUrl": "",
      "userId": "11943109303922880437"
     },
     "user_tz": -180
    },
    "id": "WNojBJW4Da51",
    "outputId": "16d94b81-e4ae-4d3e-fbb0-fa4726c20a19"
   },
   "outputs": [
    {
     "data": {
      "text/plain": [
       "array(['Dream Country (The Sandman #3)', 'Master of the Game',\n",
       "       'Girl in Translation',\n",
       "       'The Killer Angels (The Civil War Trilogy, #2)',\n",
       "       'Bone: The Complete Edition',\n",
       "       \"P.S. I Still Love You (To All the Boys I've Loved Before, #2)\",\n",
       "       'Still Life with Woodpecker',\n",
       "       'Beautiful Bastard (Beautiful Bastard, #1)',\n",
       "       'The Cruelest Month (Chief Inspector Armand Gamache, #3)',\n",
       "       'The Winter Sea (Slains, #1)'], dtype=object)"
      ]
     },
     "execution_count": 94,
     "metadata": {},
     "output_type": "execute_result"
    }
   ],
   "source": [
    "recommend_list_lightfm(fetch_user_ratings_id(1), ratings_random, model, item_features=features)"
   ]
  },
  {
   "cell_type": "code",
   "execution_count": 213,
   "metadata": {},
   "outputs": [],
   "source": [
    "class LightFM_Recommender():\n",
    "    def __init__(self):\n",
    "        pass\n",
    "    \n",
    "    def build_interactions(self, ratings_data):\n",
    "        interactions = sp.coo_matrix((\n",
    "            np.repeat(1, ratings_data.shape[0]),\n",
    "            (ratings_data['user_id'], ratings_data['book_id']-1)\n",
    "        ))\n",
    "        if interactions.shape[1]<self.n_items:\n",
    "            interactions = sp.hstack((\n",
    "                interactions,\n",
    "                sp.coo_matrix((1, self.n_items-interactions.shape[1])),\n",
    "            ))\n",
    "        weights = sp.coo_matrix((\n",
    "            ratings_data['rating'],\n",
    "            (ratings_data['user_id'], ratings_data['book_id']-1)\n",
    "        ))\n",
    "        if weights.shape[1]<self.n_items:\n",
    "            weights = sp.hstack((\n",
    "                weights,\n",
    "                sp.coo_matrix((1, self.n_items-weights.shape[1])),\n",
    "            ))\n",
    "        \n",
    "        return interactions, weights\n",
    "    \n",
    "    def update_interacions(self, user_ratings=None):\n",
    "        if user_ratings is not None:\n",
    "            user_vector = sp.coo_matrix((\n",
    "                np.repeat(1, user_ratings.shape[0]),\n",
    "                (user_ratings['user_id'], user_ratings['book_id']-1)\n",
    "            ))\n",
    "            if user_vector.shape[1]<self.n_items:\n",
    "                user_vector = sp.hstack((\n",
    "                    user_vector,\n",
    "                    sp.coo_matrix((1, self.n_items-user_vector.shape[1])),\n",
    "                ))\n",
    "        else:\n",
    "            user_vector = sp.coo_matrix((1, self.n_items))\n",
    "        \n",
    "        interactions_upd = sp.vstack((\n",
    "            user_vector,\n",
    "            self.interactions\n",
    "        ))\n",
    "        weights_upd = sp.vstack((\n",
    "            user_vector,\n",
    "            self.weights\n",
    "        ))\n",
    "        return interactions_upd, weights_upd\n",
    "            \n",
    "    def build_item_features(self, item_features):\n",
    "        feats_kostyl = sp.hstack((\n",
    "            item_features,\n",
    "            sp.coo_matrix((item_features.shape[0], item_features.shape[0]-item_features.shape[1])),\n",
    "        ))\n",
    "        return sp.identity(item_features.shape[0])+feats_kostyl\n",
    "        \n",
    "        \n",
    "    def fit(self, ratings_data, algorithm, user_feats=None, item_feats=None):\n",
    "        self.n_users = ratings_data['user_id'].nunique()\n",
    "        self.n_items = 10000\n",
    "        self.ratings_data = copy.deepcopy(ratings_data)\n",
    "        ### reset user id\n",
    "        self.ratings_data['user_id'] = self.ratings_data['user_id'].replace(\n",
    "            dict(zip(self.ratings_data['user_id'].unique(), np.arange(self.n_users))))\n",
    "        ###\n",
    "        self.algorithm = copy.deepcopy(algorithm)\n",
    "        self.interactions, self.weights = self.build_interactions(self.ratings_data)\n",
    "        self.item_features = self.build_item_features(item_feats)\n",
    "        \n",
    "        interactions_upd, weights_upd = self.update_interacions()\n",
    "        \n",
    "        self.algorithm.fit(\n",
    "            interactions = interactions_upd,\n",
    "            #user_features = user_feats,\n",
    "            item_features = self.item_features,\n",
    "            sample_weight = weights_upd,\n",
    "            epochs = 1\n",
    "        )\n",
    "        return self\n",
    "        \n",
    "    def predict_list(self, user_ratings, n=10, handle_series=False):\n",
    "        interactions_new, weights_new = self.update_interacions(user_ratings)\n",
    "        \n",
    "        algorithm_local = copy.deepcopy(self.algorithm)\n",
    "        algorithm_local.fit_partial(\n",
    "            interactions = interactions_new,\n",
    "            #user_features = user_features,\n",
    "            item_features = self.item_features,\n",
    "            sample_weight = weights_new\n",
    "        )\n",
    "        algorithm_local.item_biases = np.zeros_like(algorithm_local.item_biases)\n",
    "        \n",
    "        titles = pd.read_csv('data/books.csv')['title'].values\n",
    "        known_positives = titles[weights_new.tocsr()[0].indices]\n",
    "        scores = algorithm_local.predict(0, np.arange(self.n_items))\n",
    "        top_items = titles[np.argsort(-scores)]\n",
    "        \n",
    "        return top_items[:n]+1"
   ]
  },
  {
   "cell_type": "code",
   "execution_count": 203,
   "metadata": {},
   "outputs": [
    {
     "data": {
      "text/plain": [
       "<__main__.LightFM_Recommender at 0x20bc1933610>"
      ]
     },
     "execution_count": 203,
     "metadata": {},
     "output_type": "execute_result"
    }
   ],
   "source": [
    "model = LightFM(learning_rate=0.05, loss='bpr', random_state=1)\n",
    "lightfm_hybrid = LightFM_Recommender()\n",
    "lightfm_hybrid.fit(ratings_random, model, item_feats = features)"
   ]
  },
  {
   "cell_type": "code",
   "execution_count": 204,
   "metadata": {},
   "outputs": [
    {
     "ename": "TypeError",
     "evalue": "can only concatenate str (not \"int\") to str",
     "output_type": "error",
     "traceback": [
      "\u001b[1;31m---------------------------------------------------------------------------\u001b[0m",
      "\u001b[1;31mTypeError\u001b[0m                                 Traceback (most recent call last)",
      "\u001b[1;32m<ipython-input-204-62cc03a33bb1>\u001b[0m in \u001b[0;36m<module>\u001b[1;34m\u001b[0m\n\u001b[1;32m----> 1\u001b[1;33m \u001b[0mreclist\u001b[0m \u001b[1;33m=\u001b[0m \u001b[0mlightfm_hybrid\u001b[0m\u001b[1;33m.\u001b[0m\u001b[0mpredict_list\u001b[0m\u001b[1;33m(\u001b[0m\u001b[0mfetch_user_ratings_id\u001b[0m\u001b[1;33m(\u001b[0m\u001b[1;36m3\u001b[0m\u001b[1;33m)\u001b[0m\u001b[1;33m)\u001b[0m\u001b[1;33m\u001b[0m\u001b[1;33m\u001b[0m\u001b[0m\n\u001b[0m\u001b[0;32m      2\u001b[0m \u001b[0mreclist\u001b[0m\u001b[1;33m\u001b[0m\u001b[1;33m\u001b[0m\u001b[0m\n",
      "\u001b[1;32m<ipython-input-202-62989289da86>\u001b[0m in \u001b[0;36mpredict_list\u001b[1;34m(self, user_ratings, n, handle_series)\u001b[0m\n\u001b[0;32m     97\u001b[0m         \u001b[0mtop_items\u001b[0m \u001b[1;33m=\u001b[0m \u001b[0mtitles\u001b[0m\u001b[1;33m[\u001b[0m\u001b[0mnp\u001b[0m\u001b[1;33m.\u001b[0m\u001b[0margsort\u001b[0m\u001b[1;33m(\u001b[0m\u001b[1;33m-\u001b[0m\u001b[0mscores\u001b[0m\u001b[1;33m)\u001b[0m\u001b[1;33m]\u001b[0m\u001b[1;33m\u001b[0m\u001b[1;33m\u001b[0m\u001b[0m\n\u001b[0;32m     98\u001b[0m \u001b[1;33m\u001b[0m\u001b[0m\n\u001b[1;32m---> 99\u001b[1;33m         \u001b[1;32mreturn\u001b[0m \u001b[0mtop_items\u001b[0m\u001b[1;33m[\u001b[0m\u001b[1;33m:\u001b[0m\u001b[0mn\u001b[0m\u001b[1;33m]\u001b[0m\u001b[1;33m+\u001b[0m\u001b[1;36m1\u001b[0m\u001b[1;33m\u001b[0m\u001b[1;33m\u001b[0m\u001b[0m\n\u001b[0m",
      "\u001b[1;31mTypeError\u001b[0m: can only concatenate str (not \"int\") to str"
     ]
    }
   ],
   "source": [
    "reclist = lightfm_hybrid.predict_list(fetch_user_ratings_id(3))\n",
    "reclist"
   ]
  },
  {
   "cell_type": "code",
   "execution_count": 201,
   "metadata": {},
   "outputs": [
    {
     "data": {
      "text/plain": [
       "[['The Red Badge of Courage', 'Stephen Crane'],\n",
       " ['City of Heavenly Fire (The Mortal Instruments, #6)', 'Cassandra Clare'],\n",
       " ['Chess Story',\n",
       "  'Stefan Zweig, Joel Rotenberg, Hans Hausmann, Dirk Muller, Peter Gay, Willy Trenk-Trebitsch, Mario Adorf, Gert Westphal'],\n",
       " ['Evening Class', 'Maeve Binchy'],\n",
       " ['The Cruelest Month (Chief Inspector Armand Gamache, #3)', 'Louise Penny'],\n",
       " ['Watership Down (Watership Down, #1)', 'Richard Adams'],\n",
       " ['One Foot in the Grave (Night Huntress, #2)', 'Jeaniene Frost'],\n",
       " ['Sea Swept (Chesapeake Bay Saga, #1)', 'Nora Roberts'],\n",
       " ['Just Kids', 'Patti Smith'],\n",
       " ['Siddhartha', 'Hermann Hesse, Hilda Rosner']]"
      ]
     },
     "execution_count": 201,
     "metadata": {},
     "output_type": "execute_result"
    }
   ],
   "source": [
    "map_books(reclist)"
   ]
  },
  {
   "cell_type": "code",
   "execution_count": null,
   "metadata": {},
   "outputs": [],
   "source": [
    "fetch_user_ratings_id(1)"
   ]
  },
  {
   "cell_type": "code",
   "execution_count": 21,
   "metadata": {},
   "outputs": [
    {
     "data": {
      "text/plain": [
       "(2673, 10000)"
      ]
     },
     "execution_count": 21,
     "metadata": {},
     "output_type": "execute_result"
    }
   ],
   "source": [
    "new_ratings_data = fetch_user_ratings_id(1).replace(999999, 0).append(ratings_random)\n",
    "\n",
    "new_ratings_data['user_id'] = new_ratings_data['user_id'].replace(\n",
    "    dict(zip(new_ratings_data['user_id'].unique(), np.arange(new_ratings_data['user_id'].nunique()))))\n",
    "\n",
    "new_weights = sp.coo_matrix((\n",
    "        new_ratings_data['rating'], \n",
    "        (new_ratings_data['user_id'], new_ratings_data['book_id']-1)\n",
    "    ))\n",
    "\n",
    "new_weights.shape"
   ]
  },
  {
   "cell_type": "code",
   "execution_count": 14,
   "metadata": {},
   "outputs": [
    {
     "data": {
      "text/plain": [
       "2672"
      ]
     },
     "execution_count": 14,
     "metadata": {},
     "output_type": "execute_result"
    }
   ],
   "source": [
    "ratings_random.user_id.nunique()"
   ]
  },
  {
   "cell_type": "code",
   "execution_count": 106,
   "metadata": {},
   "outputs": [],
   "source": [
    "new_weights = sp.coo_matrix((\n",
    "        new_ratings_data['rating'], \n",
    "        (new_ratings_data['user_id'], new_ratings_data['book_id']-1)\n",
    "    ))"
   ]
  },
  {
   "cell_type": "code",
   "execution_count": 275,
   "metadata": {},
   "outputs": [
    {
     "data": {
      "text/plain": [
       "6828"
      ]
     },
     "execution_count": 275,
     "metadata": {},
     "output_type": "execute_result"
    }
   ],
   "source": [
    "features.shape[1]"
   ]
  },
  {
   "cell_type": "code",
   "execution_count": 49,
   "metadata": {},
   "outputs": [],
   "source": [
    "from lightfm import LightFM"
   ]
  },
  {
   "cell_type": "code",
   "execution_count": 470,
   "metadata": {
    "colab": {
     "base_uri": "https://localhost:8080/"
    },
    "executionInfo": {
     "elapsed": 565,
     "status": "ok",
     "timestamp": 1618940149809,
     "user": {
      "displayName": "Yuriy Sosnin",
      "photoUrl": "",
      "userId": "11943109303922880437"
     },
     "user_tz": -180
    },
    "id": "gSUZGlk8V_WI",
    "outputId": "17152453-7617-4889-b172-27a9e971c865"
   },
   "outputs": [
    {
     "name": "stdout",
     "output_type": "stream",
     "text": [
      "<lightfm.data.Dataset object at 0x7f517dab8fd0> <lightfm.lightfm.LightFM object at 0x7f517da27bd0>\n"
     ]
    }
   ],
   "source": [
    "print(dataset, model)"
   ]
  },
  {
   "cell_type": "code",
   "execution_count": 46,
   "metadata": {},
   "outputs": [
    {
     "data": {
      "text/plain": [
       "4330"
      ]
     },
     "execution_count": 46,
     "metadata": {},
     "output_type": "execute_result"
    }
   ],
   "source": [
    "features.shape[1]"
   ]
  },
  {
   "cell_type": "code",
   "execution_count": 468,
   "metadata": {
    "colab": {
     "base_uri": "https://localhost:8080/",
     "height": 402
    },
    "executionInfo": {
     "elapsed": 1060,
     "status": "ok",
     "timestamp": 1618940112791,
     "user": {
      "displayName": "Yuriy Sosnin",
      "photoUrl": "",
      "userId": "11943109303922880437"
     },
     "user_tz": -180
    },
    "id": "K30nfhvUS0Bh",
    "outputId": "4d851774-f488-4c58-e34d-8c0bc6e850cd"
   },
   "outputs": [
    {
     "data": {
      "text/html": [
       "<div>\n",
       "<style scoped>\n",
       "    .dataframe tbody tr th:only-of-type {\n",
       "        vertical-align: middle;\n",
       "    }\n",
       "\n",
       "    .dataframe tbody tr th {\n",
       "        vertical-align: top;\n",
       "    }\n",
       "\n",
       "    .dataframe thead th {\n",
       "        text-align: right;\n",
       "    }\n",
       "</style>\n",
       "<table border=\"1\" class=\"dataframe\">\n",
       "  <thead>\n",
       "    <tr style=\"text-align: right;\">\n",
       "      <th></th>\n",
       "      <th>user_id</th>\n",
       "      <th>book_id</th>\n",
       "      <th>rating</th>\n",
       "    </tr>\n",
       "  </thead>\n",
       "  <tbody>\n",
       "    <tr>\n",
       "      <th>71490</th>\n",
       "      <td>999999</td>\n",
       "      <td>8452</td>\n",
       "      <td>1</td>\n",
       "    </tr>\n",
       "    <tr>\n",
       "      <th>71491</th>\n",
       "      <td>999999</td>\n",
       "      <td>522</td>\n",
       "      <td>1</td>\n",
       "    </tr>\n",
       "    <tr>\n",
       "      <th>71492</th>\n",
       "      <td>999999</td>\n",
       "      <td>4788</td>\n",
       "      <td>2</td>\n",
       "    </tr>\n",
       "    <tr>\n",
       "      <th>71493</th>\n",
       "      <td>999999</td>\n",
       "      <td>150</td>\n",
       "      <td>2</td>\n",
       "    </tr>\n",
       "    <tr>\n",
       "      <th>71494</th>\n",
       "      <td>999999</td>\n",
       "      <td>9962</td>\n",
       "      <td>1</td>\n",
       "    </tr>\n",
       "    <tr>\n",
       "      <th>...</th>\n",
       "      <td>...</td>\n",
       "      <td>...</td>\n",
       "      <td>...</td>\n",
       "    </tr>\n",
       "    <tr>\n",
       "      <th>342371</th>\n",
       "      <td>999999</td>\n",
       "      <td>4090</td>\n",
       "      <td>5</td>\n",
       "    </tr>\n",
       "    <tr>\n",
       "      <th>493529</th>\n",
       "      <td>999999</td>\n",
       "      <td>32</td>\n",
       "      <td>2</td>\n",
       "    </tr>\n",
       "    <tr>\n",
       "      <th>493748</th>\n",
       "      <td>999999</td>\n",
       "      <td>58</td>\n",
       "      <td>2</td>\n",
       "    </tr>\n",
       "    <tr>\n",
       "      <th>493749</th>\n",
       "      <td>999999</td>\n",
       "      <td>15</td>\n",
       "      <td>3</td>\n",
       "    </tr>\n",
       "    <tr>\n",
       "      <th>493750</th>\n",
       "      <td>999999</td>\n",
       "      <td>255</td>\n",
       "      <td>2</td>\n",
       "    </tr>\n",
       "  </tbody>\n",
       "</table>\n",
       "<p>91 rows × 3 columns</p>\n",
       "</div>"
      ],
      "text/plain": [
       "        user_id  book_id  rating\n",
       "71490    999999     8452       1\n",
       "71491    999999      522       1\n",
       "71492    999999     4788       2\n",
       "71493    999999      150       2\n",
       "71494    999999     9962       1\n",
       "...         ...      ...     ...\n",
       "342371   999999     4090       5\n",
       "493529   999999       32       2\n",
       "493748   999999       58       2\n",
       "493749   999999       15       3\n",
       "493750   999999      255       2\n",
       "\n",
       "[91 rows x 3 columns]"
      ]
     },
     "execution_count": 468,
     "metadata": {
      "tags": []
     },
     "output_type": "execute_result"
    }
   ],
   "source": [
    "fetch_user_ratings_id(3)"
   ]
  }
 ],
 "metadata": {
  "colab": {
   "collapsed_sections": [
    "aZmtW0QxFc59",
    "bp5glPyob4X8"
   ],
   "name": "model-selection.ipynb",
   "provenance": [
    {
     "file_id": "10mz0zioz49wsMAB1qeGcv2JhDk5FK-Rn",
     "timestamp": 1617715294379
    },
    {
     "file_id": "/v2/external/notebooks/intro.ipynb",
     "timestamp": 1617111677772
    }
   ],
   "toc_visible": true
  },
  "kernelspec": {
   "display_name": "Python 3",
   "language": "python",
   "name": "python3"
  },
  "language_info": {
   "codemirror_mode": {
    "name": "ipython",
    "version": 3
   },
   "file_extension": ".py",
   "mimetype": "text/x-python",
   "name": "python",
   "nbconvert_exporter": "python",
   "pygments_lexer": "ipython3",
   "version": "3.9.4"
  }
 },
 "nbformat": 4,
 "nbformat_minor": 1
}
