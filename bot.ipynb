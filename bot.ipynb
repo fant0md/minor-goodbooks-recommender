{
 "cells": [
  {
   "cell_type": "code",
   "execution_count": null,
   "metadata": {
    "id": "FP-_doFelJOt"
   },
   "outputs": [],
   "source": [
    "!pip install python-telegram-bot\n",
    "!pip install surprise\n",
    "!pip install lightfm\n",
    "!pip install fuzzywuzzy[speedup]"
   ]
  },
  {
   "cell_type": "markdown",
   "metadata": {
    "id": "S35U_W_Efg_R"
   },
   "source": [
    "# data"
   ]
  },
  {
   "cell_type": "code",
   "execution_count": 17,
   "metadata": {
    "colab": {
     "base_uri": "https://localhost:8080/"
    },
    "executionInfo": {
     "elapsed": 767,
     "status": "ok",
     "timestamp": 1619043374971,
     "user": {
      "displayName": "Yuriy Sosnin",
      "photoUrl": "",
      "userId": "11943109303922880437"
     },
     "user_tz": -180
    },
    "id": "EMqWqpPN_Nnq",
    "outputId": "c5164c1c-d281-4c31-9b80-3c2dd7397395"
   },
   "outputs": [
    {
     "name": "stdout",
     "output_type": "stream",
     "text": [
      "Drive already mounted at /content/drive; to attempt to forcibly remount, call drive.mount(\"/content/drive\", force_remount=True).\n"
     ]
    }
   ],
   "source": [
    "from google.colab import drive\n",
    "drive.mount('/content/drive')"
   ]
  },
  {
   "cell_type": "code",
   "execution_count": 18,
   "metadata": {
    "colab": {
     "base_uri": "https://localhost:8080/"
    },
    "executionInfo": {
     "elapsed": 756,
     "status": "ok",
     "timestamp": 1619043374972,
     "user": {
      "displayName": "Yuriy Sosnin",
      "photoUrl": "",
      "userId": "11943109303922880437"
     },
     "user_tz": -180
    },
    "id": "oLtiMqU4_Vyz",
    "outputId": "ab062bc7-dcbc-4487-edb5-0eb293adbc71"
   },
   "outputs": [
    {
     "name": "stdout",
     "output_type": "stream",
     "text": [
      "/content/drive/My Drive/GitHub/minor-goodbooks-recommender\n"
     ]
    }
   ],
   "source": [
    "%cd /content/drive/My Drive/GitHub/minor-goodbooks-recommender"
   ]
  },
  {
   "cell_type": "code",
   "execution_count": 1,
   "metadata": {
    "executionInfo": {
     "elapsed": 748,
     "status": "ok",
     "timestamp": 1619043374972,
     "user": {
      "displayName": "Yuriy Sosnin",
      "photoUrl": "",
      "userId": "11943109303922880437"
     },
     "user_tz": -180
    },
    "id": "dfwIaUER_AGq"
   },
   "outputs": [
    {
     "name": "stderr",
     "output_type": "stream",
     "text": [
      "c:\\python39\\lib\\site-packages\\lightfm\\_lightfm_fast.py:9: UserWarning: LightFM was compiled without OpenMP support. Only a single thread will be used.\n",
      "  warnings.warn(\n"
     ]
    }
   ],
   "source": [
    "import pandas as pd\n",
    "import numpy as np\n",
    "import time\n",
    "\n",
    "from surprise import Reader\n",
    "from surprise import Dataset as SurpriseDataset\n",
    "from surprise import KNNWithMeans, SVD, SVDpp\n",
    "from lightfm import LightFM\n",
    "from lightfm.data import Dataset as LightfmDataset\n",
    "\n",
    "from fuzzywuzzy import fuzz\n",
    "from fuzzywuzzy import process\n",
    "\n",
    "pd.options.mode.chained_assignment = None"
   ]
  },
  {
   "cell_type": "code",
   "execution_count": 2,
   "metadata": {
    "executionInfo": {
     "elapsed": 2159,
     "status": "ok",
     "timestamp": 1619043376390,
     "user": {
      "displayName": "Yuriy Sosnin",
      "photoUrl": "",
      "userId": "11943109303922880437"
     },
     "user_tz": -180
    },
    "id": "kLYMi2cO_G-c"
   },
   "outputs": [],
   "source": [
    "ratings = pd.read_csv('data/ratings.csv')\n",
    "ratings_random = pd.read_csv('data/ratings_random.csv')\n",
    "book_map = pd.read_csv('data/books.csv')[['id', 'title', 'authors']]"
   ]
  },
  {
   "cell_type": "code",
   "execution_count": 3,
   "metadata": {
    "executionInfo": {
     "elapsed": 2154,
     "status": "ok",
     "timestamp": 1619043376391,
     "user": {
      "displayName": "Yuriy Sosnin",
      "photoUrl": "",
      "userId": "11943109303922880437"
     },
     "user_tz": -180
    },
    "id": "co0ZrUFccmBP"
   },
   "outputs": [],
   "source": [
    "def itervalues(df):\n",
    "    for _, i in df.iterrows():\n",
    "        yield i.values"
   ]
  },
  {
   "cell_type": "code",
   "execution_count": 4,
   "metadata": {
    "executionInfo": {
     "elapsed": 2147,
     "status": "ok",
     "timestamp": 1619043376391,
     "user": {
      "displayName": "Yuriy Sosnin",
      "photoUrl": "",
      "userId": "11943109303922880437"
     },
     "user_tz": -180
    },
    "id": "EGj9reNgaoJO"
   },
   "outputs": [],
   "source": [
    "def setup_lightfm(ratings_data):\n",
    "    dataset = LightfmDataset()\n",
    "    dataset.fit(np.append(ratings_data['user_id'].unique(), 999999), range(1,10001))\n",
    "    \n",
    "    (interactions, weights) = dataset.build_interactions(itervalues(ratings_data))\n",
    "    \n",
    "    model = LightFM(learning_rate=0.05, loss='bpr', random_state=1)\n",
    "    model.fit(weights, epochs=10)\n",
    "    \n",
    "    return dataset, model"
   ]
  },
  {
   "cell_type": "code",
   "execution_count": 5,
   "metadata": {
    "executionInfo": {
     "elapsed": 25565,
     "status": "ok",
     "timestamp": 1619043399815,
     "user": {
      "displayName": "Yuriy Sosnin",
      "photoUrl": "",
      "userId": "11943109303922880437"
     },
     "user_tz": -180
    },
    "id": "j9QYOXI6ao5m"
   },
   "outputs": [],
   "source": [
    "dataset, model = setup_lightfm(ratings)"
   ]
  },
  {
   "cell_type": "code",
   "execution_count": 6,
   "metadata": {
    "executionInfo": {
     "elapsed": 25559,
     "status": "ok",
     "timestamp": 1619043399816,
     "user": {
      "displayName": "Yuriy Sosnin",
      "photoUrl": "",
      "userId": "11943109303922880437"
     },
     "user_tz": -180
    },
    "id": "p0yJwFBZZSI-"
   },
   "outputs": [],
   "source": [
    "def recommend_list(user_ratings, ratings_data, algorithm, verbose = False, remove_rated = True):\n",
    "    reader = Reader(rating_scale=(1, 5))\n",
    "    data_full = SurpriseDataset.load_from_df(ratings_data.append(user_ratings), reader).build_full_trainset()\n",
    "    \n",
    "    algorithm.fit(data_full)\n",
    "    \n",
    "    preds = []\n",
    "    for i in range(1, 9901):\n",
    "        preds.append(algorithm.predict(user_ratings.user_id.unique()[0], i).est)\n",
    "    \n",
    "    recs = pd.DataFrame({'book_id' : range(1,9901), 'estimated_rating' : preds})\n",
    "    \n",
    "    if remove_rated:\n",
    "        recs = recs.loc[~recs['book_id'].isin(user_ratings['book_id'])]\n",
    "    recs = recs.sort_values('estimated_rating', ascending = False).head(10)\n",
    "    \n",
    "    return [book_map.loc[i-1, 'title'] for i in recs['book_id']]"
   ]
  },
  {
   "cell_type": "code",
   "execution_count": 7,
   "metadata": {
    "executionInfo": {
     "elapsed": 25551,
     "status": "ok",
     "timestamp": 1619043399816,
     "user": {
      "displayName": "Yuriy Sosnin",
      "photoUrl": "",
      "userId": "11943109303922880437"
     },
     "user_tz": -180
    },
    "id": "-nwAumNWaDZu"
   },
   "outputs": [],
   "source": [
    "def recommend_list_lightfm(user_ratings, ratings_data, algorithm, verbose = False, remove_rated = True):\n",
    "    import copy\n",
    "    dataset_local = copy.deepcopy(dataset)\n",
    "    \n",
    "    (new_interactions, new_weights) = dataset_local.build_interactions(itervalues(ratings_data.append(user_ratings)))\n",
    "    \n",
    "    algorithm_local = copy.deepcopy(algorithm)\n",
    "    algorithm_local.fit_partial(new_weights)\n",
    "    algorithm_local.item_biases = np.zeros_like(algorithm_local.item_biases)\n",
    "\n",
    "    data = {'train' : new_weights,\n",
    "            'item_features' : None,\n",
    "            'item_labels' : book_map['title'].values, \n",
    "            'item_feature_labels' : None}\n",
    "\n",
    "    n_users, n_items = data['train'].shape\n",
    "    user_id = n_users-1\n",
    "\n",
    "    known_positives = data['item_labels'][data['train'].tocsr()[user_id].indices]\n",
    "    scores = algorithm_local.predict(user_id, np.arange(n_items))\n",
    "    top_items = data['item_labels'][np.argsort(-scores)]\n",
    "\n",
    "    if remove_rated:\n",
    "        return [i for i in top_items if i not in known_positives][:10]\n",
    "    else:\n",
    "        return top_items[:10]"
   ]
  },
  {
   "cell_type": "code",
   "execution_count": 8,
   "metadata": {
    "executionInfo": {
     "elapsed": 749,
     "status": "ok",
     "timestamp": 1619082087797,
     "user": {
      "displayName": "Yuriy Sosnin",
      "photoUrl": "",
      "userId": "11943109303922880437"
     },
     "user_tz": -180
    },
    "id": "jVRVl-LzYDxw"
   },
   "outputs": [],
   "source": [
    "def fetch_user_ratings_id(user_id):\n",
    "    df = ratings.loc[ratings['user_id']==user_id, :]\n",
    "    df['user_id'] = [999999] * len(df)\n",
    "    return df"
   ]
  },
  {
   "cell_type": "code",
   "execution_count": 9,
   "metadata": {
    "executionInfo": {
     "elapsed": 25540,
     "status": "ok",
     "timestamp": 1619043399818,
     "user": {
      "displayName": "Yuriy Sosnin",
      "photoUrl": "",
      "userId": "11943109303922880437"
     },
     "user_tz": -180
    },
    "id": "v_e2IaU5Ca1I"
   },
   "outputs": [],
   "source": [
    "def fetch_user_ratings_goodreads(goodreads_id):\n",
    "    import requests\n",
    "    url = f\"https://www.goodreads.com/review/list/{goodreads_id}?print=true\"\n",
    "    headers = {'User-Agent': 'Mozilla/5.0 (Macintosh; Intel Mac OS X 10_10_1) AppleWebKit/537.36 \\\n",
    "    (KHTML, like Gecko) Chrome/39.0.2171.95 Safari/537.36'}\n",
    "    html_output = requests.get(url=url, headers = headers).text\n",
    "\n",
    "    import re\n",
    "    num_books = int(re.findall('books on Goodreads \\((.*) books\\)', html_output)[0])\n",
    "\n",
    "    for p in range(2, (num_books // 20 + (num_books % 20 > 0) + 1)):\n",
    "        url = f\"https://www.goodreads.com/review/list/{goodreads_id}?page={p}&print=true\"\n",
    "        html_output += requests.get(url=url, headers = headers).text\n",
    "\n",
    "    from bs4 import BeautifulSoup\n",
    "    soup = BeautifulSoup(html_output, 'html.parser')\n",
    "\n",
    "    bad_stuff_titles = ['Goodreads Home', None, 'My group discussions', 'Messages', 'Friends', \n",
    "                      'did not like it', 'it was ok', 'liked it', 'really liked it', 'it was amazing',]\n",
    "    books = [i.get('title') for i in soup.find_all('a') \n",
    "             if i.get('title') not in bad_stuff_titles]\n",
    "    \n",
    "    stars = [i.get('class')[1] for i in soup.find_all('span') \n",
    "             if i.get('class') in [['staticStar', 'p0'], ['staticStar', 'p10']] ]\n",
    "    \n",
    "    def groupwise(iterable):\n",
    "        a = iter(iterable)\n",
    "        return zip(a, a, a, a, a)\n",
    "\n",
    "    ratings = [(s1, s2, s3, s4, s5).count('p10') for (s1, s2, s3, s4, s5) in groupwise(stars)]\n",
    "\n",
    "    df = pd.merge(pd.DataFrame({'title' : books, 'rating' : ratings}), book_map, on='title')\n",
    "    df = df.drop('title', axis=1).rename({'id' : 'book_id'}, axis=1)\n",
    "    df['user_id'] = [999999] * len(df)\n",
    "    df = df.reindex(columns=['user_id', 'book_id', 'rating'])\n",
    "    df = df.loc[df['rating'] != 0]\n",
    "\n",
    "    if df.empty:\n",
    "        raise ValueError('No matching books rated')\n",
    "    else: return df"
   ]
  },
  {
   "cell_type": "code",
   "execution_count": 10,
   "metadata": {
    "executionInfo": {
     "elapsed": 581,
     "status": "ok",
     "timestamp": 1619082275301,
     "user": {
      "displayName": "Yuriy Sosnin",
      "photoUrl": "",
      "userId": "11943109303922880437"
     },
     "user_tz": -180
    },
    "id": "39uHCjXU0lfn"
   },
   "outputs": [],
   "source": [
    "def fancy_title(title):\n",
    "    return '<b>' + title + '</b>' + '\\n' + str(book_map.loc[book_map['title']==title, 'authors'].values[0])"
   ]
  },
  {
   "cell_type": "code",
   "execution_count": 11,
   "metadata": {
    "executionInfo": {
     "elapsed": 571,
     "status": "ok",
     "timestamp": 1619045476686,
     "user": {
      "displayName": "Yuriy Sosnin",
      "photoUrl": "",
      "userId": "11943109303922880437"
     },
     "user_tz": -180
    },
    "id": "9lKuJOzxfDru"
   },
   "outputs": [],
   "source": [
    "def fancy_list(reclist):\n",
    "    text = ''\n",
    "    for i, title in enumerate(reclist):\n",
    "        text = text + fancy_title(title) + '\\n\\n'\n",
    "        \n",
    "    return text"
   ]
  },
  {
   "cell_type": "markdown",
   "metadata": {
    "id": "IJhfOFJwffso"
   },
   "source": [
    "# bot"
   ]
  },
  {
   "cell_type": "code",
   "execution_count": 12,
   "metadata": {
    "executionInfo": {
     "elapsed": 766,
     "status": "ok",
     "timestamp": 1619045492681,
     "user": {
      "displayName": "Yuriy Sosnin",
      "photoUrl": "",
      "userId": "11943109303922880437"
     },
     "user_tz": -180
    },
    "id": "l-aGTwxukgI-"
   },
   "outputs": [],
   "source": [
    "#import logging\n",
    "#from typing import Tuple, Dict, Any\n",
    "\n",
    "from telegram import Update, ReplyKeyboardMarkup\n",
    "from telegram.ext import (\n",
    "    Updater,\n",
    "    CommandHandler,\n",
    "    MessageHandler,\n",
    "    Filters,\n",
    "    ConversationHandler,\n",
    "    CallbackQueryHandler,\n",
    "    CallbackContext,\n",
    ")\n",
    "from getpass import getpass"
   ]
  },
  {
   "cell_type": "code",
   "execution_count": 13,
   "metadata": {
    "executionInfo": {
     "elapsed": 757,
     "status": "ok",
     "timestamp": 1619045492682,
     "user": {
      "displayName": "Yuriy Sosnin",
      "photoUrl": "",
      "userId": "11943109303922880437"
     },
     "user_tz": -180
    },
    "id": "TePxBUlRn6Dz"
   },
   "outputs": [],
   "source": [
    "CHOOSING_SCENARIO, SELECTING_ENGINE = map(chr, range(2))\n",
    "CHOOSING_USER_ID, CHOOSING_GR_ID, CHOOSING_CUSTOM = map(chr, range(2, 5))\n",
    "TYPING_USER, TYPING_GOODREADS, TYPING_BOOK, SELECTING_RATING = map(chr, range(5, 9))"
   ]
  },
  {
   "cell_type": "code",
   "execution_count": 146,
   "metadata": {
    "executionInfo": {
     "elapsed": 5688,
     "status": "ok",
     "timestamp": 1619045497632,
     "user": {
      "displayName": "Yuriy Sosnin",
      "photoUrl": "",
      "userId": "11943109303922880437"
     },
     "user_tz": -180
    },
    "id": "zlPHAltalWiL"
   },
   "outputs": [],
   "source": [
    "#import logging\n",
    "#logging.basicConfig(format='%(asctime)s - %(name)s - %(levelname)s - %(message)s',\n",
    "#                     level=logging.INFO)"
   ]
  },
  {
   "cell_type": "code",
   "execution_count": 25,
   "metadata": {
    "executionInfo": {
     "elapsed": 5681,
     "status": "ok",
     "timestamp": 1619045497632,
     "user": {
      "displayName": "Yuriy Sosnin",
      "photoUrl": "",
      "userId": "11943109303922880437"
     },
     "user_tz": -180
    },
    "id": "6cO60yo-lYGb"
   },
   "outputs": [],
   "source": [
    "def start(update, context):\n",
    "    context.user_data['user_ratings'] = None\n",
    "    context.user_data['rated_dict'] = {}\n",
    "    context.user_data['selected_book'] = None\n",
    "\n",
    "    text = \"Choose scenario\"\n",
    "    buttons = [[\n",
    "                'Dataset Id',\n",
    "                'GoodReads Id',\n",
    "                'Custom Setup'\n",
    "                ]]\n",
    "    keyboard = ReplyKeyboardMarkup(buttons, one_time_keyboard=True)\n",
    "    update.message.reply_text(text=text, reply_markup=keyboard)\n",
    "\n",
    "    return CHOOSING_SCENARIO"
   ]
  },
  {
   "cell_type": "code",
   "execution_count": 26,
   "metadata": {
    "executionInfo": {
     "elapsed": 5675,
     "status": "ok",
     "timestamp": 1619045497633,
     "user": {
      "displayName": "Yuriy Sosnin",
      "photoUrl": "",
      "userId": "11943109303922880437"
     },
     "user_tz": -180
    },
    "id": "TDBQ70G2ukb8"
   },
   "outputs": [],
   "source": [
    "def recommend(update, context):\n",
    "    text = \"Choose recommender engine\"\n",
    "    buttons = [['KNN', 'SVD', 'LightFM']]\n",
    "\n",
    "    keyboard = ReplyKeyboardMarkup(buttons, one_time_keyboard=True)\n",
    "    update.message.reply_text(text=text, reply_markup=keyboard)\n",
    "\n",
    "    return SELECTING_ENGINE"
   ]
  },
  {
   "cell_type": "code",
   "execution_count": 27,
   "metadata": {
    "executionInfo": {
     "elapsed": 5668,
     "status": "ok",
     "timestamp": 1619045497633,
     "user": {
      "displayName": "Yuriy Sosnin",
      "photoUrl": "",
      "userId": "11943109303922880437"
     },
     "user_tz": -180
    },
    "id": "czyPl85llxO7"
   },
   "outputs": [],
   "source": [
    "def ask_user_id(update, context):\n",
    "    text = 'Type a number between 0 and ' + str(ratings.user_id.nunique())\n",
    "    update.message.reply_text(text=text)\n",
    "    return TYPING_USER\n",
    "\n",
    "def ask_user_id_again(update, context):\n",
    "    text = 'Wrong input. Type a number between 0 and ' + str(ratings.user_id.nunique())\n",
    "    update.message.reply_text(text=text)\n",
    "    return TYPING_USER\n",
    "\n",
    "def save_user_id(update, context):\n",
    "    try:\n",
    "        user_id = int(update.message.text)\n",
    "        if user_id not in range(ratings.user_id.nunique()+1):\n",
    "            raise ValueError\n",
    "        context.user_data['user_ratings'] = fetch_user_ratings_id(user_id)\n",
    "        return recommend(update, context)\n",
    "    except ValueError:\n",
    "        return ask_user_id_again(update, context)"
   ]
  },
  {
   "cell_type": "code",
   "execution_count": 28,
   "metadata": {
    "executionInfo": {
     "elapsed": 5661,
     "status": "ok",
     "timestamp": 1619045497634,
     "user": {
      "displayName": "Yuriy Sosnin",
      "photoUrl": "",
      "userId": "11943109303922880437"
     },
     "user_tz": -180
    },
    "id": "2TQtndA1biBI"
   },
   "outputs": [],
   "source": [
    "def ask_goodreads_id(update, context):\n",
    "    text = 'Type your GoodReads Id'\n",
    "    update.message.reply_text(text=text)\n",
    "    return TYPING_GOODREADS\n",
    "\n",
    "def ask_goodreads_id_again(update, context):\n",
    "    text = 'User does not exist or has no books from dataset rated. Please try again or choose different scenario by calling /start'\n",
    "    update.message.reply_text(text=text)\n",
    "    return TYPING_GOODREADS\n",
    "\n",
    "def save_goodreads_id(update, context):\n",
    "    try:\n",
    "        user_id = int(update.message.text)\n",
    "        context.user_data['user_ratings'] = fetch_user_ratings_goodreads(user_id)\n",
    "        return recommend(update, context)\n",
    "    except ValueError:\n",
    "        return ask_goodreads_id_again(update, context)"
   ]
  },
  {
   "cell_type": "code",
   "execution_count": 29,
   "metadata": {
    "executionInfo": {
     "elapsed": 5653,
     "status": "ok",
     "timestamp": 1619045497634,
     "user": {
      "displayName": "Yuriy Sosnin",
      "photoUrl": "",
      "userId": "11943109303922880437"
     },
     "user_tz": -180
    },
    "id": "DrMC8nNeuv8g"
   },
   "outputs": [],
   "source": [
    "def ask_book_rating(update, context):\n",
    "    text = 'Type the book title you want to rate or finish rating'\n",
    "    buttons = [['Finish']]\n",
    "    keyboard = ReplyKeyboardMarkup(buttons, one_time_keyboard=True)\n",
    "    update.message.reply_text(text=text, reply_markup=keyboard)\n",
    "    return TYPING_BOOK\n",
    "\n",
    "def save_selected_book(update, context):\n",
    "    book_name = update.message.text\n",
    "    try:\n",
    "        selected_book = process.extract(book_name, book_map['title'].values, scorer=fuzz.ratio)[0][0]\n",
    "    except:\n",
    "        update.message.reply_text(text='BAD')\n",
    "    context.user_data['selected_book'] = selected_book\n",
    "    \n",
    "    return show_selected_book(update, context)\n",
    "\n",
    "def show_selected_book(update, context):\n",
    "    buttons = [['1','2','3','4','5'],\n",
    "               ['Cancel', 'Finish']]\n",
    "    keyboard = ReplyKeyboardMarkup(buttons, one_time_keyboard=True)\n",
    "    update.message.reply_text(text=fancy_title(context.user_data['selected_book']), parse_mode = 'HTML')\n",
    "    update.message.reply_text(text='Now rate it', reply_markup=keyboard)\n",
    "    \n",
    "    return SELECTING_RATING\n",
    "\n",
    "def save_book_rating(update, context):\n",
    "    book_rating = int(update.message.text)\n",
    "    context.user_data['rated_dict'][context.user_data['selected_book']] = book_rating\n",
    "    \n",
    "    return ask_book_rating(update, context)\n",
    "\n",
    "def rating_finished(update, context):\n",
    "    books, ratings = zip(*context.user_data['rated_dict'].items())\n",
    "    book_ids = [book_map.loc[book_map['title']==i, 'id'].values[0] for i in books]\n",
    "    context.user_data['user_ratings'] = pd.DataFrame(\n",
    "        {'user_id' : [999999]*len(book_ids), 'book_id' : book_ids, 'rating' : ratings})\n",
    "    \n",
    "    return recommend(update, context)"
   ]
  },
  {
   "cell_type": "code",
   "execution_count": 30,
   "metadata": {
    "executionInfo": {
     "elapsed": 5646,
     "status": "ok",
     "timestamp": 1619045497634,
     "user": {
      "displayName": "Yuriy Sosnin",
      "photoUrl": "",
      "userId": "11943109303922880437"
     },
     "user_tz": -180
    },
    "id": "0LrgWgqBjEo3"
   },
   "outputs": [],
   "source": [
    "def rec_knn(update, context):\n",
    "    warn = update.message.reply_text(text='This takes time')\n",
    "    knn = KNNWithMeans(k=9, verbose=False)\n",
    "    reclist = recommend_list(context.user_data['user_ratings'], ratings, knn, verbose = False)\n",
    "    \n",
    "    #update.message.reply_text(text=fancy_list(reclist), parse_mode = 'HTML')\n",
    "    warn.edit_text(text=fancy_list(reclist), parse_mode = 'HTML')"
   ]
  },
  {
   "cell_type": "code",
   "execution_count": 31,
   "metadata": {
    "executionInfo": {
     "elapsed": 5641,
     "status": "ok",
     "timestamp": 1619045497635,
     "user": {
      "displayName": "Yuriy Sosnin",
      "photoUrl": "",
      "userId": "11943109303922880437"
     },
     "user_tz": -180
    },
    "id": "naJCqIbHnCHL"
   },
   "outputs": [],
   "source": [
    "def rec_svd(update, context):\n",
    "    warn = update.message.reply_text(text='This takes time')\n",
    "    svd = SVD(n_factors=20, verbose=False)\n",
    "    reclist = recommend_list(context.user_data['user_ratings'], ratings, svd, verbose = False)\n",
    "\n",
    "    #update.message.reply_text(text=fancy_list(reclist), parse_mode = 'HTML')\n",
    "    warn.edit_text(text=fancy_list(reclist), parse_mode = 'HTML')"
   ]
  },
  {
   "cell_type": "code",
   "execution_count": 32,
   "metadata": {
    "executionInfo": {
     "elapsed": 5635,
     "status": "ok",
     "timestamp": 1619045497635,
     "user": {
      "displayName": "Yuriy Sosnin",
      "photoUrl": "",
      "userId": "11943109303922880437"
     },
     "user_tz": -180
    },
    "id": "fP2xx3VObqk3"
   },
   "outputs": [],
   "source": [
    "def rec_lightfm(update, context):\n",
    "    warn = update.message.reply_text(text='This takes time')\n",
    "    reclist = recommend_list_lightfm(context.user_data['user_ratings'], ratings, model, verbose = False)\n",
    "\n",
    "    #update.message.reply_text(text=fancy_list(reclist), parse_mode = 'HTML')\n",
    "    warn.edit_text(text=fancy_list(reclist), parse_mode = 'HTML')"
   ]
  },
  {
   "cell_type": "code",
   "execution_count": 33,
   "metadata": {},
   "outputs": [],
   "source": [
    "convhandler = ConversationHandler(\n",
    "    entry_points = [CommandHandler('start', start)],\n",
    "    states = {\n",
    "        CHOOSING_SCENARIO: [MessageHandler(Filters.regex('^Dataset Id$'), ask_user_id),\n",
    "                            MessageHandler(Filters.regex('^GoodReads Id$'), ask_goodreads_id),\n",
    "                            MessageHandler(Filters.regex('^Custom Setup$'), ask_book_rating)],\n",
    "        TYPING_USER: [MessageHandler(Filters.text & ~Filters.command, save_user_id)],\n",
    "        TYPING_GOODREADS: [MessageHandler(Filters.text & ~Filters.command, save_goodreads_id)],\n",
    "        TYPING_BOOK: [MessageHandler(Filters.text & ~Filters.command & ~Filters.regex('^Finish$'), save_selected_book),\n",
    "                      MessageHandler(Filters.regex('^Finish$'), rating_finished)],\n",
    "        SELECTING_RATING: [MessageHandler(Filters.regex('^[1-5]$'), save_book_rating),\n",
    "                           MessageHandler(Filters.regex('^Finish$'), rating_finished),\n",
    "                           MessageHandler(Filters.regex('^Cancel$'), ask_book_rating)],\n",
    "        SELECTING_ENGINE: [MessageHandler(Filters.regex('^KNN$'), rec_knn),\n",
    "                           MessageHandler(Filters.regex('^SVD$'), rec_svd),\n",
    "                           MessageHandler(Filters.regex('^LightFM$'), rec_lightfm)]\n",
    "    },\n",
    "    fallbacks = [CommandHandler('start', start)]\n",
    ")"
   ]
  },
  {
   "cell_type": "code",
   "execution_count": 31,
   "metadata": {},
   "outputs": [],
   "source": [
    "#def main():\n",
    "#    updater = Updater(token=getpass(), use_context=True)\n",
    "#    dispatcher = updater.dispatcher\n",
    "#    dispatcher.add_handler(convhandler)\n",
    "#    updater.start_polling()\n",
    "\n",
    "#if __name__ == '__main__':\n",
    "#    main()"
   ]
  },
  {
   "cell_type": "code",
   "execution_count": 34,
   "metadata": {},
   "outputs": [
    {
     "name": "stdout",
     "output_type": "stream",
     "text": [
      "········\n"
     ]
    },
    {
     "data": {
      "text/plain": [
       "<queue.Queue at 0x1bb341cd490>"
      ]
     },
     "execution_count": 34,
     "metadata": {},
     "output_type": "execute_result"
    }
   ],
   "source": [
    "updater = Updater(token=getpass(), use_context=True)\n",
    "dispatcher = updater.dispatcher\n",
    "dispatcher.add_handler(convhandler)\n",
    "updater.start_polling()"
   ]
  },
  {
   "cell_type": "markdown",
   "metadata": {
    "id": "kyYjBw8EriCh"
   },
   "source": [
    "# stop"
   ]
  },
  {
   "cell_type": "code",
   "execution_count": 35,
   "metadata": {
    "executionInfo": {
     "elapsed": 7229,
     "status": "ok",
     "timestamp": 1619045535589,
     "user": {
      "displayName": "Yuriy Sosnin",
      "photoUrl": "",
      "userId": "11943109303922880437"
     },
     "user_tz": -180
    },
    "id": "b8G-ntmd6-Li"
   },
   "outputs": [],
   "source": [
    "updater.stop()"
   ]
  }
 ],
 "metadata": {
  "colab": {
   "authorship_tag": "ABX9TyN2v4wa2SCTRz9N+7v7u29a",
   "collapsed_sections": [
    "kyYjBw8EriCh"
   ],
   "name": "bot.ipynb",
   "provenance": [
    {
     "file_id": "1IuPhbwZnpf_CivpkBUWZUqCJ07StyodE",
     "timestamp": 1618837121616
    },
    {
     "file_id": "1CGpLT8HlvjfYcvVFzirguHcNlrZGRPQz",
     "timestamp": 1618834866409
    }
   ],
   "toc_visible": true
  },
  "kernelspec": {
   "display_name": "Python 3",
   "language": "python",
   "name": "python3"
  },
  "language_info": {
   "codemirror_mode": {
    "name": "ipython",
    "version": 3
   },
   "file_extension": ".py",
   "mimetype": "text/x-python",
   "name": "python",
   "nbconvert_exporter": "python",
   "pygments_lexer": "ipython3",
   "version": "3.9.4"
  }
 },
 "nbformat": 4,
 "nbformat_minor": 1
}
